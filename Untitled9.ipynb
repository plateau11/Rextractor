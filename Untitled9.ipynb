{
 "cells": [
  {
   "cell_type": "code",
   "execution_count": 1,
   "id": "f8e9d5b9",
   "metadata": {},
   "outputs": [
    {
     "ename": "ImportError",
     "evalue": "cannot import name 'PdfReader' from 'PyPDF2' (C:\\Users\\sahil thapa\\AppData\\Local\\Programs\\ArcGIS\\Pro\\bin\\Python\\envs\\arcgispro-py3\\lib\\site-packages\\PyPDF2\\__init__.py)",
     "output_type": "error",
     "traceback": [
      "\u001b[1;31m---------------------------------------------------------------------------\u001b[0m",
      "\u001b[1;31mImportError\u001b[0m                               Traceback (most recent call last)",
      "\u001b[1;32m~\\AppData\\Local\\Temp\\ipykernel_8452\\259369099.py\u001b[0m in \u001b[0;36m<cell line: 3>\u001b[1;34m()\u001b[0m\n\u001b[0;32m      1\u001b[0m \u001b[1;32mimport\u001b[0m \u001b[0mos\u001b[0m\u001b[1;33m\u001b[0m\u001b[1;33m\u001b[0m\u001b[0m\n\u001b[0;32m      2\u001b[0m \u001b[1;32mimport\u001b[0m \u001b[0mtempfile\u001b[0m\u001b[1;33m\u001b[0m\u001b[1;33m\u001b[0m\u001b[0m\n\u001b[1;32m----> 3\u001b[1;33m \u001b[1;32mfrom\u001b[0m \u001b[0mPyPDF2\u001b[0m \u001b[1;32mimport\u001b[0m \u001b[0mPdfFileWriter\u001b[0m\u001b[1;33m,\u001b[0m \u001b[0mPdfReader\u001b[0m\u001b[1;33m\u001b[0m\u001b[1;33m\u001b[0m\u001b[0m\n\u001b[0m\u001b[0;32m      4\u001b[0m \u001b[1;33m\u001b[0m\u001b[0m\n\u001b[0;32m      5\u001b[0m \u001b[1;32mfrom\u001b[0m \u001b[0mio\u001b[0m \u001b[1;32mimport\u001b[0m \u001b[0mBytesIO\u001b[0m\u001b[1;33m\u001b[0m\u001b[1;33m\u001b[0m\u001b[0m\n",
      "\u001b[1;31mImportError\u001b[0m: cannot import name 'PdfReader' from 'PyPDF2' (C:\\Users\\sahil thapa\\AppData\\Local\\Programs\\ArcGIS\\Pro\\bin\\Python\\envs\\arcgispro-py3\\lib\\site-packages\\PyPDF2\\__init__.py)"
     ]
    }
   ],
   "source": [
    "import os\n",
    "import tempfile\n",
    "from PyPDF2 import PdfFileWriter, PdfReader\n",
    "\n",
    "from io import BytesIO\n",
    "from reportlab.lib.pagesizes import letter\n",
    "from reportlab.pdfgen import canvas\n",
    "from docx import Document\n",
    "import pdfplumber\n",
    "\n",
    "\n",
    "def extract_title_from_pdf(pdf_path):\n",
    "    title = \"\"\n",
    "    with pdfplumber.open(pdf_path) as pdf:\n",
    "        first_page = pdf.pages[0]\n",
    "        first_font_size = None\n",
    "        for obj in first_page.chars:\n",
    "            if not first_font_size:\n",
    "                first_font_size = obj['size']\n",
    "            if obj['size'] == first_font_size:\n",
    "                title += obj['text']\n",
    "            else:\n",
    "                break\n",
    "    return title.strip()\n",
    "\n",
    "def convert_docx_to_pdf(docx_path, pdf_path):\n",
    "    doc = Document(docx_path)\n",
    "    output = PdfFileWriter()  # Change PdfWriter to PdfFileWriter\n",
    "    for para in doc.paragraphs:\n",
    "        bio = BytesIO()\n",
    "        c = canvas.Canvas(bio, pagesize=letter)\n",
    "        c.drawString(100, 750, para.text)\n",
    "        c.save()\n",
    "        bio.seek(0)\n",
    "        input_pdf = PdfReader(bio)\n",
    "        for page in input_pdf.pages:\n",
    "            output.add_page(page)\n",
    "    with open(pdf_path, \"wb\") as f:\n",
    "        output.write(f)\n",
    "\n",
    "\n",
    "def extract_title_from_docx(docx_path):\n",
    "    try:\n",
    "        with tempfile.NamedTemporaryFile(suffix=\".pdf\", delete=False) as tmp_pdf_file:\n",
    "            convert_docx_to_pdf(docx_path, tmp_pdf_file.name)\n",
    "            return extract_title_from_pdf(tmp_pdf_file.name)\n",
    "    except KeyError as e:\n",
    "        print(f\"Error extracting title from {docx_path}: {e}\")\n",
    "        return \"Error: Title extraction failed\"\n",
    "\n",
    "\n",
    "def extract_title(file_path):\n",
    "    file_extension = os.path.splitext(file_path)[1].lower()\n",
    "    if file_extension == '.pdf':\n",
    "        return extract_title_from_pdf(file_path)\n",
    "    elif file_extension == '.docx':\n",
    "        return extract_title_from_docx(file_path)\n",
    "    else:\n",
    "        raise ValueError(\"Unsupported file format\")\n",
    "\n",
    "\n",
    "def main():\n",
    "    submissions_folder = '/content/submissions674'  # Path to the submissions674 folder\n",
    "    for folder_name in os.listdir(submissions_folder):\n",
    "        if folder_name.startswith('.'):\n",
    "            continue  # Skip directories starting with '.'\n",
    "        folder_path = os.path.join(submissions_folder, folder_name)\n",
    "        if os.path.isdir(folder_path):\n",
    "            submission_folder = os.path.join(folder_path, 'Submission')\n",
    "            if os.path.exists(submission_folder):\n",
    "                input_file = None\n",
    "                for file in os.listdir(submission_folder):\n",
    "                    if file.endswith('.pdf') or file.endswith('.docx'):\n",
    "                        input_file = os.path.join(submission_folder, file)\n",
    "                        break\n",
    "                if input_file:\n",
    "                    title = extract_title(input_file)\n",
    "                    print(f\"Folder {folder_name}: Title: {title}\")\n",
    "                else:\n",
    "                    print(f\"Folder {folder_name}: No input file found in Submission folder\")\n",
    "            else:\n",
    "                print(f\"Folder {folder_name}: Submission folder not found\")\n",
    "\n",
    "\n",
    "if __name__ == \"__main__\":\n",
    "    main()\n"
   ]
  },
  {
   "cell_type": "code",
   "execution_count": 2,
   "id": "625b7e86",
   "metadata": {},
   "outputs": [
    {
     "name": "stdout",
     "output_type": "stream",
     "text": [
      "Requirement already satisfied: PyPDF2 in c:\\users\\sahil thapa\\appdata\\local\\programs\\arcgis\\pro\\bin\\python\\envs\\arcgispro-py3\\lib\\site-packages (1.26.0)Note: you may need to restart the kernel to use updated packages.\n",
      "\n"
     ]
    }
   ],
   "source": [
    "pip install PyPDF2\n"
   ]
  },
  {
   "cell_type": "code",
   "execution_count": 5,
   "id": "119dadf4",
   "metadata": {},
   "outputs": [
    {
     "name": "stdout",
     "output_type": "stream",
     "text": [
      "Name: PyPDF2\n",
      "Version: 1.26.0\n",
      "Summary: PDF toolkit\n",
      "Home-page: http://mstamy2.github.com/PyPDF2\n",
      "Author: Mathieu Fenniak\n",
      "Author-email: biziqe@mathieu.fenniak.net\n",
      "License: UNKNOWN\n",
      "Location: c:\\users\\sahil thapa\\appdata\\local\\programs\\arcgis\\pro\\bin\\python\\envs\\arcgispro-py3\\lib\\site-packages\n",
      "Requires: \n",
      "Required-by: \n",
      "Note: you may need to restart the kernel to use updated packages.\n"
     ]
    }
   ],
   "source": [
    "pip show PyPDF2\n"
   ]
  },
  {
   "cell_type": "code",
   "execution_count": 4,
   "id": "329aee4f",
   "metadata": {},
   "outputs": [
    {
     "name": "stdout",
     "output_type": "stream",
     "text": [
      "Error extracting title from submissions674\\1\\Submission\\Next-Generation Cloud Infrastructure Management - Integrating TCNs and Ensemble Policies for Improved.docx: \"no relationship of type 'http://schemas.openxmlformats.org/officeDocument/2006/relationships/officeDocument' in collection\"\n",
      "Folder 1: Title: Error: Title extraction failed\n",
      "Folder 10: Title: \n",
      "Folder 100: Title: LegalContractAnalysisandSummarization\n",
      "Folder 102: Title: \n",
      "Folder 103: Title: Arpan Dixit\n",
      "Folder 104: Title: ComparingGPTandHumanresponseAnalysis:Strengths,Limitations,andtheFutureofAICommunications\n",
      "Folder 105: Title: Liver Segmentation from MR T1 In-phase and Out-phase fused Images using U-Net and its Modified Variants\n",
      "Folder 106: Title: A Novel Method of Enhancing Skin Lesion Diagnosis Using Attention Mechanisms and Weakly-Supervised Learning\n",
      "Folder 107: Title: Secure Private Data Storage and File Sharing Using Homomorphic and Hybrid Hash-Based Cryptographic Technique in Cloud\n",
      "Folder 108: Title: \n",
      "Folder 109: Title: XXX-X-XXXX-XXXX-X/XX/$XX.00 ©20XX IEEE\n",
      "Folder 11: Title: Page | 1\n",
      "Folder 110: Title: Loopholes in security implementation of cloud and IoT environment: Case study of a recent security incident\n",
      "Folder 111: Title: FromTastetoText:ExaminingtheInfluenceofOnlineReviewsonCulinaryExperiences\n",
      "Folder 112: Title: \n",
      "Folder 114: Title: HOSPITAL MANAGEMENT SYSTEM USING PHP & MY-SQL\n",
      "Folder 115: Title: \n",
      "Folder 116: Title: Signature Verification Using Computer Vision\n",
      "Error extracting title from submissions674\\117\\Submission\\research paper.react js.docx: \"no relationship of type 'http://schemas.openxmlformats.org/officeDocument/2006/relationships/officeDocument' in collection\"\n",
      "Folder 117: Title: Error: Title extraction failed\n",
      "Folder 118: Title: Exploring the Pedagogical Practices in the Digital Landscape: An In-Depth Analysis of Moodle and Google Classroom for Teaching and Learning\n",
      "Folder 12: Title: 1\n",
      "Folder 120: Title: \n",
      "Folder 121: Title: \n",
      "Folder 122: Title: AI-EnabledLanguageLearningPlatform\n",
      "Folder 123: Title: AI-EnabledLanguageLearningPlatform\n",
      "Folder 125: Title: CRYPTOCURRENCY TRACKER APPLICATION FOR REAL-TIME CRYPTOCURRENCY PRICE TRACKING AND\n",
      "Folder 126: Title: AUTOMATICSPEECHRECOGNITIONUSINGDEEPNEURALNETWORKS\n",
      "Folder 127: Title: SkinDiseaseDetection\n",
      "Folder 128: Title: Blockchain based Medical Records Management\n",
      "Folder 129: Title: SecureTransactionShield\n",
      "Folder 13: Title: \n",
      "Folder 131: Title: Seamless Interaction AI Hand Gesture\n",
      "Folder 132: Title: RemoteECGMonitoringSystemviaInternet\n",
      "Folder 133: Title: SCHOOL MANAGEMENT SYSTEM\n",
      "Folder 134: Title: AReal-TimeObjectDetectionforSurveillanceSystemUsingYOLOv5\n",
      "Folder 136: Title: F.Y.B. Tech Students’ Engineering Design and Innovation (EDAI 2) Project Paper, SEM 2 A.Y. 2022-23  Vishwakarma Institute of Technology, Pune, INDIA.\n",
      "Folder 137: Title: Real-Time Object Detection Using\n",
      "Folder 138: Title: VarishtaRakshak:AnAI-basedcomprehensivewebframeworkforensuringseniorcitizencareinrealtime.\n",
      "Folder 139: Title: ChatApsit:GenerativeAIbasedcomprehensivewebframeworkforanEducationalInstitute\n",
      "Folder 14: Title: WEB-INTEGRATED MECHANIC SERVICE FINDER\n",
      "Folder 140: Title: \n",
      "Folder 141: Title: Text-Based Generative AI\n",
      "Folder 142: Title: Digital Filter Design Using Soft Computing\n",
      "Folder 143: Title: Real-Time Anomaly Detection System for Network Administrators\n",
      "Folder 144: Title: Advancements and Challenges in Low-Light Object Detection\n",
      "Folder 146: Title: \n",
      "Folder 147: Title: ONGOING MARKET PREDICTION BY USING PYTHON and ML\n",
      "Folder 148: Title: FacialRecognitionandDetectionTechnologyforAttendanceSystems\n",
      "Folder 149: Title: Machine Learning for Healthcare Diagnostics\n",
      "Folder 15: Title: \n",
      "Folder 150: Title: \n",
      "Folder 151: Title: From Crash Protection to Life Protection: The Smart Airbag SOS System\n",
      "Folder 152: Title: Enhancing Invasive Ductal Carcinoma Detection in Breast Histopathology using Convolutional Neural Networks\n",
      "Folder 153: Title: AChronicKidneyDiseasepredictionsusingMLalgorithms\n",
      "Folder 154: Title: DOUBLE PRECISION FLOATING POINT COMPARATOR\n",
      "Folder 155: Title: SIMULATING DIGITAL PHASE LOCKED LOOP USING VERILOG\n",
      "Error extracting title from submissions674\\156\\Submission\\Final Survey Paper Fake product Detection using the blockchain and ai.docx: \"no relationship of type 'http://schemas.openxmlformats.org/officeDocument/2006/relationships/officeDocument' in collection\"\n",
      "Folder 156: Title: Error: Title extraction failed\n",
      "Folder 157: Title: ZEN: AI Voice Assistant\n",
      "Folder 158: Title: INTRUSION DETECTION SYSTEM USING RASPBERRY PI AND TELEGRAM INTEGRATION\n",
      "Folder 159: Title: Blockchain Based Crypto-Wallet\n",
      "Folder 16: Title: \n",
      "Folder 160: Title: SurveyPaperonMachineLearningandDeepLearningDrivenApplicationsusingBayesianTechniques\n",
      "Folder 161: Title: A Machine Learning Enabled Approach for Mental and Physical Health Management Using  OpenCV, NLP and IOT\n",
      "Folder 162: Title: WoS Bibliometric and Content Analysis on Handwritten Hindi Characters Recognition\n",
      "Folder 163: Title: \n",
      "Folder 164: Title: Ensembling of Performance Metrics in Credit Risk Assessment Using Machine Learning Analytics Arijit Bhattacharya\n",
      "Folder 165: Title: IMAGE FORGERY DETECTION USING COMPUTER VISION TECHNIQUES\n",
      "Folder 166: Title: A Survey on smoking and Alcohol Tracking Systems: State of the Art, Analysis, and Performance Evaluation\n",
      "Folder 167: Title: Machine-Learning based Virtual Try-on and Recommendation system using Augmented Reality\n",
      "Folder 168: Title: Does Employee Loyalty Moderates the Relationship between Job Satisfaction and other influencing Factors of Workers' Performance\n",
      "Folder 169: Title: IoT Based Architecture to Monitoring the Quality of Animal Fodder and prototype to extract the grass color\n",
      "Folder 17: Title: WASTE SEGREGATION USING CNN\n",
      "Folder 170: Title: Machine Learning Based Framework For  Phishing Website Detection\n",
      "Folder 171: Title: Adaptation of Blockchain Technologies into Monetary Transmission in Banking Operations\n",
      "Folder 172: Title: NeuroSyght: An AI-Powered Approach on Emotion Classification from EEG Data\n",
      "Folder 173: Title: Digital Forensics and Machine Learning Based Early Detection of Ongoing Cyber-Attacks\n",
      "Folder 175: Title: \n",
      "Folder 176: Title: Revitalising Volunteerism: The Transformative Influence of Artificial Intelligence in Volunteer Management\n",
      "Folder 177: Title: \n",
      "Folder 178: Title: Ethical AI Assessment: A framework with Composite scorecards\n",
      "Error extracting title from submissions674\\179\\Submission\\SAMYU_main_paper.docx: \"no relationship of type 'http://schemas.openxmlformats.org/officeDocument/2006/relationships/officeDocument' in collection\"\n",
      "Folder 179: Title: Error: Title extraction failed\n",
      "Folder 18: Title: Bird Identification through Visual and Auditory Signals using Deep Learning\n",
      "Folder 180: Title: A Review of Machine Learning Algorithms for Predicting Heart Disease\n",
      "Folder 182: Title: AN APPROACH FOR CROSS-PLATFORM APPLICATION DEVELOPMENT    USING FLUTTER AND FIREBASE\n",
      "Folder 183: Title: CURRENT WEB DEVELOPMENT TRENDS\n",
      "Folder 184: Title: EVOLUTION OF ARTIFICIAL INTELLIGENCE SHRUTI UPADHYAY1,  Dr. VISHAL SHRIVASTAVA2, Dr. AKHIL PANDEY3, MS. MEGHA RATHORE4\n",
      "Folder 185: Title: praveenchowdary413@gmail.com  Abstract— Plastic pollution is a huge environmental problem, leading research into novel solutions such as road construction utilising plastic trash. This method has various advantages, including increased durability, decreased maintenance requirements, and cost-effectiveness. However, further study is needed to fully grasp the potential of waste polyolefin pyrolysis products for bitumen modification, which is critical for optimising the quality and performance of binders in such applications. It is critical to investigate the relationships between pyrolysis process parameters and final product quality. Additionally, techniques for modifying these goods and improving their performance in diverse applications should be investigated. This technique might be extended beyond road building to provide sustainable solutions in other areas. The growing garbage creation emphasises the importance of addressing disposal techniques. One intriguing option includes combining plastic garbage with asphalt to generate durable road surfaces. This may drastically reduce plastic litter in landfills and seas while also reducing asphalt consumption and providing a more environmentally friendly road building option. However, difficulties remain. Concerns about the dependability, safety, and potential harmful environmental effects of plastic roads persist. The production and use of plastic materials for road building generate legitimate concerns regarding their overall environmental impact. Despite these obstacles, the continued investigation and deployment of plastic roads represent significant advances in sustainable infrastructure innovation. More research, stricter standards, and coordinated efforts are required to reduce dangers and maximise the advantages of this method.   Keywords— Waste plastic roads, Plastic waste, Road construction, Bitumen, Asphalt, Collection, Sorting, Shredding, Composite material, Laydown, Maintenance, Durability, Safety,  Innovation\n"
     ]
    },
    {
     "name": "stdout",
     "output_type": "stream",
     "text": [
      "Folder 186: Title: S.Y.B.Tech Students’ Engineering Design and Innovation (EDAI3) Project Paper, SEM 3 A.Y. 2023-24  Vishwakarma Institute of Technology, Pune\n",
      "Folder 188: Title: SarcasmandHumorDetectioninCode-MixedHindiData:ASurvey\n",
      "Folder 189: Title: SOLEFIT:ASMARTSHOEDEVELOPEDFORDIABETICPATIENTS\n",
      "Folder 19: Title: \n",
      "Folder 190: Title: ScriptSketch: Art Generation using Deep Learning\n",
      "Folder 191: Title: Sign Language Translator\n",
      "Folder 192: Title: Lung Nodule Detection and Segmentation using Linear Karnal SVM\n",
      "Folder 193: Title: FakeNewsDetectionUsingMachineLearning\n",
      "Folder 194: Title: GUARDING THE GATE: Innovative Solutions for Third-Party app Vulnerabilities\n",
      "Folder 195: Title: Automatic brain tumor detection Using CNN\n",
      "Folder 196: Title: Normalized Mutual Information Driven Feature Extraction Method for Big Data Analytics\n",
      "Folder 197: Title: A recommender system for the optimal combo offers with cost benefit analysis\n",
      "Folder 198: Title: A New Epoch in Product Assurance: Leveraging Blockchain for Robust Anti-Counterfeiting Measures\n",
      "Folder 199: Title: AYOLObasedDeepLearningApproachtodetectthepotholes\n",
      "Folder 2: Title: Hospital Record Management System Using Blockchain\n",
      "Folder 20: Title: Enhancing Rainfall Prediction: A Confluence of Machine Learning and Ensemble Techniques\n",
      "Folder 200: Title: A Review of Machine Learning  Models for Predicting Agile Methodology\n",
      "Folder 201: Title: Machine Learning techniques for pose based human activity recognition\n",
      "Folder 202: Title: ComparativeAnalysisofDiseasedetectionamongtomatoplantsusingmachineandDeeplearningtechniques\n",
      "Folder 203: Title: Farming in the Digital Age: A Machine Learning Enhanced Crop Yield Prediction and Recommendation System\n",
      "Folder 204: Title: Machine Olfaction: Creating a Digital Nose\n",
      "Folder 205: Title: Identify Cricket Shots\n",
      "Folder 206: Title: Driver Drowsiness Detection System.\n",
      "Folder 207: Title: A Fuzzy C Means Clustering and Cosine Similarity-Based Song Recommender System\n",
      "Folder 208: Title: Conversations to Collections: Leveraging Text Mining in Call Centres for Optimal Recovery\n",
      "Folder 209: Title: A Survey on Sign Language Recognition with Explainable AI Using Machine Learning and Deep Learning\n",
      "Folder 210: Title: Predictionofcompressivestrengthofgeopolymerconcreteviamachinelearningtechniques\n",
      "Folder 211: Title: Enhancing Sustainability in Agriculture Using AI: Smart Irrigation Systems\n",
      "Error extracting title from submissions674\\212\\Submission\\1A RECENT REVIEW ON  DIABETIC RETINOPATHY DETECTION (1) (1).docx: \"no relationship of type 'http://schemas.openxmlformats.org/officeDocument/2006/relationships/officeDocument' in collection\"\n",
      "Folder 212: Title: Error: Title extraction failed\n",
      "Folder 213: Title: A  DATA PRE-PROCESSING MECHANISM FOR DIABETIC RETINOPATHY EARLY DETECTION\n",
      "Error extracting title from submissions674\\214\\Submission\\1A Comparative Study on Diabetic Retinopathy Datasets for Data Accuracy Detection.docx: \"no relationship of type 'http://schemas.openxmlformats.org/officeDocument/2006/relationships/officeDocument' in collection\"\n",
      "Folder 214: Title: Error: Title extraction failed\n",
      "Folder 215: No input file found in Submission folder\n",
      "Folder 216: No input file found in Submission folder\n",
      "Folder 217: No input file found in Submission folder\n",
      "Folder 218: Title: Research Articlen\n",
      "Folder 219: Title: Automated Cyber Threat Detection and Intelligence Analysis for Proactive Defense: A Review of the Latest Trends and Challenges\n",
      "Folder 22: Title: \n",
      "Folder 222: Title: Multimodal Sentiment Analysis: Integrating Text and Image-based Approaches\n",
      "Folder 223: Title: AI-Powered Personalised Learning in Primary Education: A Design Thinking Perspective\n",
      "Folder 224: Title: An Improved Optimization Liver Disease Prediction using Particle Swarm Optimization (PSO)\n",
      "Folder 225: Title: An Implementation of Improved Optimization Liver Disease Prediction using Particle Swarm Optimization (PSO)\n",
      "Folder 226: Title: A Convergent Approach: Implementing IoT, GPS and Health Monitoring for Holistic Animal Oversight\n",
      "Folder 227: Title: Smart Seating: The Smart Seating Solution for Crowded Public Transit\n",
      "Folder 228: Title: Aid Crowdfunding: Proposal to Integrate Blockchain Technology in Coherence with Traditional Banking\n",
      "Folder 229: Title: SAFEGUARDING USER PRIVACY: MACHINE LEARNING STRATEGIES FOR ANDROID MALWARE DETECTION\n",
      "Folder 23: Title: Weather Forecasting CubeSat\n",
      "Error extracting title from submissions674\\230\\Submission\\CML2024.docx: \"no relationship of type 'http://schemas.openxmlformats.org/officeDocument/2006/relationships/officeDocument' in collection\"\n",
      "Folder 230: Title: Error: Title extraction failed\n",
      "Folder 231: Title: AssessingKneeOsteoarthritisSeverity:ADeepLearningApproachwithEnhancedResNet152\n",
      "Folder 232: Title: ENHANCING DIABETIC RETINOPATHY ASSESSMENT: NON-PROLIFERATIVE STAGE IDENTIFICATION THROUGH CLAHE and DATA AGUMENTATION METHODS OF DATA PREPROCESSING\n",
      "Folder 233: Title: KneeACLTear,MeniscalTearandAbnormalityDetectionusingEnsembleofCNNTechniques\n",
      "Folder 234: Title: TOXIC COMMENT CLASSIFICATION USING LSTM AND CNN\n",
      "Folder 235: Title: Navigating the Innovations and Challenges of Video-based Traffic Surveillance: An In-Depth Review\"\n",
      "Folder 236: Title: Accelerating Fractal Image Compression with AI and Parallel Computing\n",
      "Folder 237: Title: DESIGN OF A WEARABLE DEVICE TO INDICATE\n",
      "Folder 238: Title: A REVIEW OF TIMELY NOTIFICATION SYSTEMS FOR ENHANCING MEDICATION ADHERENCE\n",
      "Folder 239: Title: Data-Efficient Training for Effective Paraphrase Retrieval Techniques Using Language Models to Identify Research Gaps\n",
      "Folder 24: Title: \n",
      "Folder 240: Title: \n",
      "Folder 241: Title: \n",
      "Folder 242: No input file found in Submission folder\n",
      "Folder 243: Title: A Comprehensive Survey on Image Captioning\n",
      "Folder 244: Title: Forecasting Bitcoin Prices: Unveiling Patterns with Machine Learning\n",
      "Folder 245: Title: InsurTech: Application of Technology in the Insurance Sector\n",
      "Folder 246: Title: \n",
      "Folder 247: Title: A Review of Financial Risk Assessment Using Secure Neural Networks and Big Data Mining\n",
      "Folder 248: Title: Integrating Artificial Intelligence for Accurate Prediction of Vitamin D Deficiency in Type 2 Diabetes Patients\n",
      "Folder 249: Title: Deep Learning Based Emotion Detection in Voice Data Using Convolutional-LSTM Networks\n",
      "Folder 25: Title: CREATING A STUDENT FRENDLY PORTAL: SELENIUM TESTING\n",
      "Folder 250: Title: ASurveyonSuperResolutionforvideoEnhancementUsingGAN\n",
      "Folder 252: Title: LipMovementtoTextConversion-ASurvey\n",
      "Folder 253: Title: IncorporatingLoRabasedWirelessSensorNetworkandMachineLearningTechnologiestoImprovePrecisionAgriculture\n",
      "Folder 254: Title: \n",
      "Folder 255: Title: \n",
      "Folder 257: No input file found in Submission folder\n",
      "Folder 258: Title: Evaluating Women's Fertility Rate\n",
      "Folder 259: Title: Identification of Polycystic Ovarian Syndrome through Clinical Metrics and Ultrasonographic Image Analysis\n",
      "Folder 26: Title: Cloud-PoweredPersonalization:AnAdvancedRecommendationSystemForE-CommerceSites\n",
      "Folder 261: Title: \n",
      "Folder 262: Title: Personalized Stress Mitigation through EEG based Stress Classification and Music Recommendation\n",
      "Folder 263: Title: EXPLORATORYANALYSISONPERSONALIZEDHEALTHASSISTANCEDURINGPCOSUSINGMACHINELEARNINGTECHNIQUES\n",
      "Folder 264: Title: \n",
      "Folder 265: Title: Detection and Prediction of Alzheimer's disease using Rule Induction Method\n",
      "Folder 266: No input file found in Submission folder\n",
      "Folder 267: Title: AdvancingInComputerVisionWithVisionTransformers:AComprehensiveReviewAndProposedSystem\n",
      "Folder 268: Title: Enhancing Efficiency and Functionality of Voice-Controlled Cars through NLP Techniques and Additional Features\n",
      "Folder 269: Title: 1  Abstract— The pandemic years made us think a lot about what's\n",
      "Folder 27: Title: Sign Language Detection using AI Machine Learning\n",
      "Folder 270: No input file found in Submission folder\n",
      "Folder 271: Title: Speckle Noise Removal from Three Dimensional Ultrasound Images of Ovaries\n",
      "Folder 272: Title: AIJurist:EmpoweringLegalKnowledgeandPracticesinIndia\n",
      "Folder 273: Title: Cost-EffectiveA/BTesting:LeveragingGoandPythonforEfficientExperimentationinHermesTestingPlatform\n",
      "Folder 274: Title: RECENT ADVANCEMENTS IN IOT IMPLEMENTATION FOR ENVIRONMENTAL, SAFETY AND PRODUCTION MONITORING IN UNDERGROUND MINES\n",
      "Folder 275: Title: E-VOTING SYSTEM USING BLOCKCHAIN\n"
     ]
    },
    {
     "name": "stdout",
     "output_type": "stream",
     "text": [
      "Folder 276: Title: Exploring Advanced Techniques in Natural Language Processing and Machine Learning for In-Depth Analysis of Insurance Claims: A Comprehensive Survey\n",
      "Folder 277: Title: \n",
      "Folder 278: Title: \n",
      "Folder 279: Title: Enhancing Academic Engagement: A Comprehensive Review of Student Monitoring Systems for Focused Learning\n",
      "Folder 28: Title: EXAMBOT USING FULL STACK\n",
      "Folder 280: Title: SECURING BLOCKCHAIN DATABASE SYSTEM: AN INTEGRATED APPROACH USING PCA AND ISOLATION FOREST FOR INTRUSION DETECTION\n",
      "Folder 281: Title: Governance and System Controls for BYOD to Secure Access to Corporate Resources\n",
      "Folder 282: Title: \n",
      "Folder 283: No input file found in Submission folder\n",
      "Folder 284: Title: GenerativeAIinBusinesses:ACross-SectorAnalysis\n",
      "Folder 286: Title: Revolutionizing Healthcare: The Impact of Artificial Intelligence in Connected Medicine – Unleashing the Power of Real-time Diagnostics, Personalized Treatment and Ethical AI Adoption\n",
      "Folder 287: Title: Examine AI-Powered Chatbots to Encourage Health-Related Behaviour Changes: An Organized Review\n",
      "Error extracting title from submissions674\\288\\Submission\\EDI RESEARCH paper sem3.docx: \"no relationship of type 'http://schemas.openxmlformats.org/officeDocument/2006/relationships/officeDocument' in collection\"\n",
      "Folder 288: Title: Error: Title extraction failed\n",
      "Folder 289: Title: \n",
      "Folder 29: Title: Yoga Pose Detection using Artificial Intelligence and Machine Learning\n",
      "Folder 290: Title: Comprehensive Vehicle Air Quality for Enhanced Maintenance and Pollution Control\n",
      "Folder 291: Title: Bluetooth-Controlled Chassis with Obstacle Avoidance and Environment Monitoring\n",
      "Folder 292: Title: Leveraging 3D Faster R-CNN for 3D Dental X-ray restoration and treatment identification\n",
      "Folder 293: Title: Implementation Of Truth Sense Real-Time Visual Analysis System Using Deep Learning\n",
      "Folder 294: Title: IoT Based Real-time Environment Monitoring and Safety for Factory Workplace\n",
      "Folder 295: Title: MentalWellnessCompassforEngineeringStudent\n",
      "Folder 296: Title: 1\n",
      "Folder 298: Title: \n",
      "Folder 299: Title: IOTBasedFoodQualitymonitoringSystemusingMachineLearning\n",
      "Folder 3: Title: EXAMBOT USING FULL STACK\n",
      "Folder 30: Title: \n",
      "Folder 300: Title: Predictingthedynamicincreasefactoroftensilestrengthofstrain-hardeningfiber-reinforcedcementitiouscompositethroughamachinelearningapproach\n",
      "Folder 301: Title: XXX-X-XXXX-XXXX-X/XX/$XX.00©20XXIEEE\n",
      "Folder 303: Title: Comparative analysis of Conventional & Lightweight Security Algorithms for Multi-Level Encryption in IoT Isha Sharma*, Monika Saxena,\n",
      "Folder 305: Title: FIRE AND SMOKE RECOGNITION USING IMAGE CLASSIFICATION AND DEEP LEARNING\n",
      "Folder 306: Title: Smart Contract Enabled Online Examination System Based on Blockchain\n",
      "Folder 307: Title: Machine Learning Approaches for Precise Rainfall Prediction in Diverse Indian Regions\n",
      "Folder 308: Title: Research_Serverless_Computing\n",
      "Folder 309: Title: Prediction and Classification of Psychiatric Disorders in\n",
      "Folder 310: Title: \n",
      "Folder 311: Title: \n",
      "Folder 312: Title: Automatic Timetable Generator\n",
      "Folder 313: Title: Climacteric fruit skin defect region segmentation by boundary identification using Morphologically Enhanced Watershed\n",
      "Folder 314: No input file found in Submission folder\n",
      "Folder 315: Title: Brain Tumor Prediction Using Deep Neural Network (DNN)\n",
      "Folder 316: Title: FASTER IMPLEMENTATION OF BINARY COUNTER BY BUBBLE SORTING NETWORK\n",
      "Folder 317: No input file found in Submission folder\n",
      "Folder 318: Title: Stress Detection Across Demographics: Leveraging Linear Regression Analysis\n",
      "Folder 319: Title: A review on Leveraging the Deep Neural Networks for predicting Protein-Ligand  Binding Affinity\n",
      "Folder 32: Title: \n",
      "Folder 320: No input file found in Submission folder\n",
      "Folder 321: Title: AIOT-BASEDAPPROACHOFAUTOMATEDREAL-TIMENON-INTRUSIVELOADMONITORINGSOLUTIONFORRESIDENTIALAPPLICATION\n",
      "Folder 323: Title: Linear Block Codes -A Machine Learning Perspective\n",
      "Folder 324: Title: YOLOv7-Tiny for Baby Products Identification\n",
      "Folder 325: Title: “Signla: Sense Gesture Recognition for Sign Language Communication”\n",
      "Folder 326: Title: LungDiseasesDetectionUsingDeepLearningOnNVIDIAJetsonNano\n",
      "Folder 327: Title: Acute Lymphoblastic Leukemia Classification With Jetson Nano\n",
      "Folder 328: Title: Multi-Biometric recognition using a Bio-Inspired Metaheuristic algorithm based on feature fusion of finger vein and iris\n",
      "Folder 329: Title: SentimentAnalysisofMachineLearningAlgorithms:ATransformer-BasedApproach\n",
      "Folder 33: Title: Generative Rebirth: Advancing Image Regeneration through Adversarial Networks\n",
      "Folder 330: Title: 1\n",
      "Folder 331: Title: Optimizing The U-Net Model For Segmenting The Lung Opacity Regions In Chest Radiographs\n",
      "Folder 332: Title: Decoding Named Entities: Analyzing Hindi-English Code-Mixed Social Media Text\n",
      "Folder 333: Title: \n",
      "Folder 334: Title: \n",
      "Folder 335: Title: Semantic Image Classification and Retrieval (SICR) using Deep Neural Network with Bag of Words Layer\n",
      "Folder 336: Title: AreviewonheartdiseasepredictionbasedonriskfactorsusingClassificationTechniquesSruthiThabatia\n",
      "Folder 337: Title: \n",
      "Folder 338: Title: AUserCustomizedSportsVideoSummarization\n",
      "Folder 339: Title: Analysing The Need Of Big Data Owners To Regularly Update Security Measures\n",
      "Folder 34: Title: TransLinguaPro - Empowering Language Translation with Python and ML\n",
      "Folder 340: Title: DeepVideoForensics:UnveilingSpatialForgeryDetectionwithModifiedResNet50\n",
      "Folder 341: Title: EnhancingPathPlanningwithObstaclesviaaCombinedDijkstra-LbCSMethodology\n",
      "Folder 342: Title: Machine Learning Techniques for Loan Approval:  A Comprehensive Analysis and Novel Approaches\n",
      "Folder 343: Title: A comprehensive approach to sentiment analysis with natural language processing techniques\n",
      "Folder 344: Title: On-RoadVehicularCollisionImageClassificationusingDeepLearning\n",
      "Folder 345: Title: Influence of Digital Financial Transactions towards Economic Fluidity and Organizational Success\n",
      "Folder 346: Title: j\n",
      "Folder 347: Title: Strength of Ensemble Learning in Voting Classifier for Crop Yield Prediction\n",
      "Folder 348: Title: An Experimental Study on Distance-Based Nearest Neighbour Approaches in Credit Risk Assessment\n",
      "Folder 349: Title: PerformanceImprovementTechniquesforHigh-SpeedDynamicLatchComparatorat45nmTechnologyNode\n",
      "Folder 35: Title: Cloud-based Healthcare Monitoring System for Remote Areas\n",
      "Folder 350: Title: DeFinance: Decentralised Lending and Borrowing of Digital Assets\n",
      "Folder 351: Title: Big Data Analytics on X discourse: Unveiling Consumer Sentiments for Informed New Product Ideation\n",
      "Folder 352: Title: Deep Learning Based Sentiment Analysis Of Tamil-English YouTube Comments\n",
      "Folder 353: Title: Advancements in Named Entity Recognition: A Focus on Medical Applications and Comparative Analysis of NLP Libraries\n",
      "Folder 354: Title: Pothole Detection and Powertrain Regulation for Vehicular Safety\n",
      "Folder 355: Title: Intelligent Surveillance Camera System  Based on Object Tracking\n",
      "Folder 356: Title: Page 1\n",
      "Folder 357: Title: Factors Influencing Patient Satisfaction with The Use of Teleconsultation in Morocco\n",
      "Folder 358: Title: ONLINE PLATFORM FOR MOVIE RECOMMENDATION\n",
      "Error extracting title from submissions674\\359\\Submission\\paper 1 js.docx: \"no relationship of type 'http://schemas.openxmlformats.org/officeDocument/2006/relationships/officeDocument' in collection\"\n",
      "Folder 359: Title: Error: Title extraction failed\n",
      "Folder 36: Title: \n",
      "Folder 360: Title: Predicting House Prices Using Regression Model\n",
      "Folder 361: Title: Personality Prediction Model : Using Multimodal Data\n",
      "Folder 363: Title: Understanding Interaction design in context of Culture & Religion\n",
      "Folder 364: Title: Performance of Ensemble Learning Techniques for Net-work-based Intrusion Detection System (NIDS): A Com-parative Study\n",
      "Folder 365: No input file found in Submission folder\n",
      "Folder 366: Title: \n",
      "Folder 367: Title: Exploring the Utility of Aadhar Images in Unconstrained Face Recognition: A Review\n",
      "Folder 368: Title: IoT-Enabled RO Wastewater Management for             Sustainable Development\n",
      "Folder 369: Title: APP FOR SMART CARE OF HEALTH THROUGH IoMT\n",
      "Folder 37: Title: CloudBasedDataAnalyticsForBusinessIntelligence\n",
      "Folder 370: Title: Author-Centric Pattern Detection in Scopus Citation Network via Community Structures\n"
     ]
    },
    {
     "name": "stdout",
     "output_type": "stream",
     "text": [
      "Folder 371: Title: \n",
      "Folder 372: Title: K-Nearest Neighbor based Friends Suggestion on social media\n",
      "Folder 373: Title: \n",
      "Folder 374: Title: An Architectural Methodology for Developing Domain Ontology For Efficient Knowledge Management for Artificial Intelligence Systems\n",
      "Folder 375: Title: RefiningtheGiants:AComprehensiveReviewofFine-TuningStrategiesforLargeLanguageModels\n",
      "Folder 376: Title: Enhancing COVID-19 Diagnosis: A convolutional Neural Network-Based Approach for CT Image Classification\n",
      "Folder 377: Title: Software Reliability Prediction and Regression analysis with family of Lindley Distribution\n",
      "Folder 378: Title: ReinventingUrbanMobilitywithReinforcementLearninginVehicularAd-HocNetworks\n",
      "Folder 379: Title: ML-PoweredComprehensiveWebFrameworkForCentralizedMedicalRecordsManagementAndPreciseHealthInsights\n",
      "Folder 38: Title: \n",
      "Folder 380: Title: Deep Learning-Based Classification of Agricultural Soil Textures for Enhanced Crop productivity\n",
      "Folder 381: No input file found in Submission folder\n",
      "Folder 382: Title: Fruitful Insights: Harnessing CNNs for Citrus and To-mato Disease Detection in Nagpur Orchards\n",
      "Folder 383: Title: Construction Site Monitoring for Disaster Resilience\n",
      "Folder 384: Title: Cardioguard : Advancing Cardiovascular Health through Early Detection - An Accurate and Versatile Machine Learning Model for Predicting Heart Attacks among the rural population in the Age Group of 30-60\n",
      "Folder 385: Title: UNet3+:ModifiedInceptionV3formulticlassBrainTumorClassificationusingMRIimages\n",
      "Folder 386: Title: An Analysis of Machine Learning Algorithms for Predicting Student Performance with a Focus on Teacher and Class Attributes\n",
      "Folder 387: Title: CognitiveNetworkAnalysisandTopicModelingforbibliographydataofBiomedicalLiteratureofSudan\n",
      "Folder 388: Title: \n",
      "Folder 389: Title: Enhancing Fetal Health Diagnosis: A Comprehensive Machine Learning Strategy integrating SMOTE for effective Data pre-processing to improve accuracy and reliability\n",
      "Folder 39: Title: User-Friendly Facial Biometrics: A Solution for Folder Locking and Unlocking\n",
      "Folder 390: Title: Comparing car price prediction through different supervised machine learning methods with parameter tunings\n",
      "Folder 391: Title: Ur’sCorporator-InnovatingcitizenCorporatorinteractionthroughMLenabledcomprehensiveframework.\n",
      "Folder 392: Title: Development of Legal Named Entity Recognition Model for Feature Extraction of Legal Documents\n",
      "Folder 393: Title: Decentralized Healthcare Ledger System on Hedera with                      Deep Learning Analytics\n",
      "Folder 394: Title: Design and Development of a Secured Framework equipped with GI Tagging and Blockchain for enhanced data security and transparency in healthcare operations, for effective management of resources in Government Hospitals\n",
      "Folder 395: Title: A systematic review of CNN-based model approaches for human identification using bitemark evidence\n",
      "Folder 396: Title: Pyroshield – Innovating Bus safety through automatic window reactivity.\n",
      "Folder 398: Title: GRUandBi-GRUbasedTechniquesforPredictionofAquacultureWaterQualityParameters\n",
      "Folder 399: Title: 1\n",
      "Folder 4: Title: AUTOMATIC FACIAL MAKEUP DETECTION FOR DEVICE SECURITY USING MACHINE LEARNING\n",
      "Folder 40: Title: Cloud-based Healthcare Monitoring System for Remote Areas\n",
      "Folder 400: Title: Advanced Collision Prevention System: Leveraging Machine Learning and Neural Networks for Pre-Accident Detection\n",
      "Folder 401: Title: LacunarityAnalysisinHyperspectralImaging\n",
      "Folder 402: Title: Forecasting in automobiles using Holton-winter approach and back propogation neural network  techniques\n",
      "Folder 403: Title: Modeling of Videos Emotion Recognition System using Recurrent Neural Networks\n",
      "Folder 404: Title: Exploratory Data Analysis of Crime Patterns against Woman in India\n",
      "Folder 405: Title: Algorithmic Optimization of Coupon Pooling Strategies: A Machine Learning Perspective\n",
      "Folder 406: Title: A Deep Learning Paradigm for Human Activity Recognition Using Computer Vision\n",
      "Folder 407: Title: TransactSafe:AMachineLearningShieldAgainstOnlineFraud\n",
      "Folder 408: Title: Unlocking the Power of Personalized Content with  Generative AI in Healthcare Marketing\n",
      "Folder 41: Title: Smart attendance registration and management system through AI\n",
      "Folder 410: Title: Deep Learning based Ensemble Model for Pulmonary Cancer Segmentation in CT images\n",
      "Folder 412: Title: Evolution and Optimization of Language Model Architectures: from Foundations to Future Directions\n",
      "Folder 413: Title: ExploringAI’sPotentialinDevelopingAdvancedDDoSDefenseStrategies\n",
      "Folder 414: Title: Optimizingnaturallanguageprocessingwithmodifiedmetaheuristicforphishingemaildetection\n",
      "Folder 415: Title: FromDatatoDeployment-CreatingaMovieRecommenderSystemUsingContent-BasedFiltering\n",
      "Folder 416: Title: A Comparative Analysis of Deep Learning Models for Wildlife Prediction\n",
      "Folder 417: Title: Predicting Mental Health Issues Indicators in Textual Data using Enhanced BERT\n",
      "Folder 418: Title: DevelopinganIndianSignLanguage(ISL)generatorfromtextualinputusingneuralmachinetranslationtoenhancecommunicationaccessibilityforthehearing-impairedcommunity\n",
      "Folder 419: Title: Crop and Fertilizer Recommendation System Using Real Climatic Information\n",
      "Folder 42: Title: Diet Plan and Home Exercise Recommendation system using Smart Watch\n",
      "Folder 420: Title: 1\n",
      "Folder 421: Title: An SMC-MBCO approach to detect the shilling profiles in health recommender systems.\n",
      "Folder 422: Title: Guaranteeing Data Confidentiality in Time Series Prediction using Z-Transform and AES\n",
      "Folder 423: Title: Forecasting Financial Frontiers: A Comparative Analysis of LSTM-Based Stock Price Prediction for Meta and Tesla\n",
      "Folder 424: Title: 1\n",
      "Folder 425: Title: \n",
      "Folder 427: Title: \n",
      "Folder 428: Title: Dynamic Self-Charging of EVs with integrated Battery Management System\n",
      "Folder 429: Title: \n",
      "Error extracting title from submissions674\\43\\Submission\\NSATTVCTEPMSI.docx: \"no relationship of type 'http://schemas.openxmlformats.org/officeDocument/2006/relationships/officeDocument' in collection\"\n",
      "Folder 43: Title: Error: Title extraction failed\n",
      "Folder 430: No input file found in Submission folder\n",
      "Folder 431: Title: Reinforcement Learning Control in Smart Energy Systems\n",
      "Folder 432: Title: SpeechEmotionRecognitiononRAVDESSDatasetusingDeepLearning\n",
      "Folder 433: Title: LoRa WAN Architecture with Collusion Management and Collusion Avoidances Schemes in MAC Layer\n",
      "Folder 434: Title: HumanActivityRecognitioninIoTNetworksthroughWi-FiChannelStateInformation\n",
      "Folder 435: Title: Design Controlled Smart Aid  Prosthetics for Elders\n",
      "Folder 436: Title: ObjectDetectioninAerialImageryusingObjectCentricMaskedImageModeling(OCMIM)\n",
      "Folder 437: Title: AnEnhancedOptimizedTechniquetoDetectCardiovascularDiseaseinECGImages\n",
      "Folder 438: Title: Mental Health Diagnosis Survey Using Question Reduction,Advanced Generation algorithms and Contactless UI system.\n",
      "Folder 439: Title: Enhancing Crop Prediction Through Machine Learning: A Comprehensive Soil Analysis Approach\n",
      "Folder 44: Title: 1\n",
      "Folder 440: Title: BimodalDetectionofParkinson’sDisease\n",
      "Folder 441: Title: XXX-X-XXXX-XXXX-X/XX/$XX.00 ©20XX IEEE\n",
      "Folder 442: Title: An Analysis of Rising Security and Privacy with Technological Advancement\n",
      "Folder 443: Title: \n",
      "Folder 444: Title: SignShapeNet : A YOLO-NAS Approach for Efficient Shape Detection in Traffic Signboard\n",
      "Error extracting title from submissions674\\445\\Submission\\Forest fire detection (1) (1).docx: \"no relationship of type 'http://schemas.openxmlformats.org/officeDocument/2006/relationships/officeDocument' in collection\"\n",
      "Folder 445: Title: Error: Title extraction failed\n",
      "Error extracting title from submissions674\\446\\Submission\\FarmGuard.docx: \"no relationship of type 'http://schemas.openxmlformats.org/officeDocument/2006/relationships/officeDocument' in collection\"\n",
      "Folder 446: Title: Error: Title extraction failed\n",
      "Folder 447: Title: RISK STRATIFICATION FOR STROKE USING  ATTENTION TRANSFORMER MODEL\n",
      "Folder 448: Title: Abstract-Rapid and unchecked brain cell proliferation is the hallmark of a tumour. It may prove threatening if not addressed in the first stages. The complexity of accurate segmentation and classification persists despite multiple large efforts and hopeful results. Differences in tumour location, form, and proportions make it difficult to detect brain cancers. This work's main goal is to give researchers a comprehensive overview of the literature on magnetic resonance imaging (MR)-based brain tumour detection. This study suggested numerous methods to identify brain tumours and cancer using\n"
     ]
    },
    {
     "name": "stdout",
     "output_type": "stream",
     "text": [
      "Folder 449: Title: IntrusionDetectioninWirelessNetworksUsingNovelClassificationModels.\n",
      "Folder 45: Title: RevolutionizingMicrocontrollerVirtualization:ExploringMicro-controllerasaService(MaaS)onAWS\n",
      "Folder 450: Title: UNet-BasedMRIImageAnalysisforEnhancedBrainTumorSpotting:ACutting-EdgeApproachinMedicalImaging\n",
      "Folder 451: Title: \n",
      "Folder 452: Title: Optimizing Corporate Governance and Business Ethics through HISMM: A Comprehensive Assessment of Information System Maturity in Hospital XYZ\n",
      "Folder 453: Title: Food Classification and Calories Estimation with Development of Smart Web-Application [ CaloTrack ]\n",
      "Folder 454: Title: Multimodel Conversational Bot For Multilingual Personalized Song Recommendation\n",
      "Folder 455: Title: Parallelization of Random Forest Algorithm for Enhanced Performance\n",
      "Folder 456: Title: IntegratingKeyframeExtractionandMoveNetThunderforRobustVideoPoseEstimationandClassification\n",
      "Folder 457: Title: AComprehensiveAnalysisofVGG16andResNet50ModelsinSignLanguageRecognition\n",
      "Folder 458: Title: HaND GESTURE RECOGNITION FOR DEAF AND DUMB\n",
      "Folder 459: Title: UnveilingInsights:AlexNet-DrivenMRIAnalysisforPrecisionDiagnosisofKneeDisorders\n",
      "Folder 46: Title: Sales forecast prediction using ML\n",
      "Folder 460: Title: Sales Prediction of FMCG Products in E-Commerce Platform\n",
      "Folder 461: Title: EfficientNetB1EmpoweredDeepLearningforAccurateLeukemiaDetectioninBloodSmearImage\n",
      "Folder 462: Title: Optimizing Fruit Classification: A Comprehensive Assessment of Machine Learning Algorithms for Multi-Class Recognition\n",
      "Folder 463: Title: RevolutionizingSkinDiseaseDiagnosis:LeveragingEfficientNetforAdvancedImageAnalysisandPrecisionHealthcare\n",
      "Folder 464: Title: AnEfficientNetworkAttackDetectionsystemusingRecurrentneuralnetworkmodels\n",
      "Folder 466: Title: AnImprovedApproachforYogaPoseEstimationofImages\n",
      "Folder 467: Title: MovieRecommendationusingSentimentanalysisofReviews\n",
      "Folder 468: Title: SecureCommunicationviaPUF-EnabledHardwareandEncryptionTechniques\n",
      "Folder 469: No input file found in Submission folder\n",
      "Folder 47: Title: An In-Depth Exploration of Advanced Driver Drowsiness Detection Systems for Enhanced Road Safety\n",
      "Folder 470: Title: TextOriginDetection:UnmaskingtheSource–AIvsHuman\n",
      "Folder 471: Title: HEART DISEASE RISK PREDICTION USING MACHINE LEARNING\n",
      "Folder 472: Title: Advancing Care for Progeria: Exploring Real-Time Evaluation and its Impact\n",
      "Folder 473: No input file found in Submission folder\n",
      "Folder 474: Title: A novel light weight CNN model for Brain Tumor Classification\n",
      "Folder 475: Title: WordAhead:NextWordPredictionEngine\n",
      "Folder 476: Title: GoogleKeywordCost-Per-ClickAnalyzer\n",
      "Folder 477: Title: PollCastIndia2024:HarnessingDataforAccurateElectionPredictions\n",
      "Folder 478: Title: IMAGECAPTIONING:AUTOMATINGTHEARTOFWORDS\n",
      "Folder 479: Title: XXX-X-XXXX-XXXX-X/XX/$XX.00 ©20XX IEEE\n",
      "Folder 48: Title: \n",
      "Folder 480: Title: SIGN LANGUAGE\n",
      "Folder 481: Title: Extracting Questions from Videos: Leveraging NLP for Inquiry\n",
      "Folder 482: Title: RevolutionizingTransportationInsightsusingGCPServicesinUber'sDataAnalytics\n",
      "Folder 483: Title: Analysis of a Hybrid System Using Neural Network Controller\n",
      "Folder 484: Title: XXX-X-XXXX-XXXX-X/XX/$XX.00 ©20XX IEEE\n",
      "Folder 485: Title: SceneUnderstandinginaWebBrowser\n",
      "Folder 486: Title: LeveragingCNNs,Quantization,andRandomForestforEdgeDeployableIntrusionDetectionEfficiency\n",
      "Folder 487: Title: IndianSignLanguageGestureRecognitionUsingConvolutionalNeuralNetwork(CNN)\n",
      "Folder 488: Title: ADeepLearningApproachforAccurate EnvironmentalSoundsAnalysis\n",
      "Folder 489: Title: Audiodenoisingusingmachinelearning\n",
      "Folder 49: Title: \n",
      "Folder 490: Title: ImageInpaintingusingYOLOv8andLaMaModel\n",
      "Folder 491: Title: StockMarketPredictionUsingMachineLearning\n",
      "Folder 492: Title: OptimalSolutionforDistanceBetweenobjectsinavideousingDeepLearningTechniquesonEmbeddeddevices\n",
      "Folder 493: Title: ImprovedUNetforsemanticsegmentationinremotesensing\n",
      "Folder 494: Title: Decoding and Translating Idiomatic Expressions from Hindi to English\n",
      "Folder 495: Title: EnhancingCataractDetectionwithMachineLearning\n",
      "Folder 496: Title: IMAGE DENOISING USING WAVELET TRANSFORM AND MACHINE LEARNING\n",
      "Folder 497: Title: XXX-X-XXXX-XXXX-X/XX/$XX.00 ©20XX IEEE\n",
      "Folder 498: Title: MLAFE-Net - Multi-Layer Attention and Feature Extraction for Change Detection\n",
      "Folder 499: Title: Deploying Deep Learning in Real-Time for Cancer Diagnosis via Medical Imaging\n",
      "Folder 5: Title: Surveillance Bluetooth Controlled Robot Car\n",
      "Folder 50: Title: \n",
      "Folder 500: Title: Sentiment Analysis of Various Ride Sharing Applications Reviews: A Comparative Analysis between Deep Learning and Machine Learning Algorithms\n",
      "Folder 501: Title: Multi-Disease Detection from MRI Images using Convolutional Neural Networks\n",
      "Folder 502: Title: Transfer Learning anchored Cross-Age Face Recognition\n",
      "Folder 503: Title: \n",
      "Folder 504: Title: CUSTOMER SEGMENTATION USING MACHINE LEARNING\n",
      "Folder 505: Title: REAL TIME OBJECT DETECTION USING MACHINE LEARNING\n",
      "Folder 506: Title: AMachineLearning-basedArchitectureforStructuralHealthMonitoring\n",
      "Folder 509: Title: Interface for the Empirical Analysis of Artificial Intelligence Algorithms\n",
      "Folder 51: Title: \n",
      "Folder 510: Title: XXX-X-XXXX-XXXX-X/XX/$XX.00 ©20XX IEEE\n",
      "Folder 511: Title: The CNN Model Algorithm for Detection of Keratoconus by Using Galilei Corneal Topographies\n",
      "Folder 512: Title: Implementation Of Truth Sense Real-Time Visual Analysis System Using Deep Learning\n",
      "Folder 513: Title: DIAGNOSIS TOBACCO-RELATED ORGAN CANCER\n",
      "Folder 514: Title: Crayfish Optimization Algorithm for Enhanced Feature Selection Accuracy for Datasets\n",
      "Folder 515: Title: SECURING CLOUD INFORMATION UNDER KEY INTRODUCTION\n",
      "Folder 516: Title: \n",
      "Folder 517: Title: Demand Forecasting of Perishable Products Using Traditional Statistical and Machine Learning Methods\n",
      "Folder 519: Title: CROPHEALTHMONITORINGUSINGAI\n",
      "Folder 52: Title: \n",
      "Folder 523: Title: Advancements in Speech based Emotion Identification Methods Using Deep Learning: A Comprehensive Overview\n",
      "Folder 524: Title: Diagnosis of cingulate island sign in lewy body dementia: A systematic literature review\n",
      "Folder 525: Title: BananaPlantDiseaseDetectionusingImageProcessing\n",
      "Folder 526: Title: \n",
      "Folder 527: Title: RealTimeActivityMonitoringUsingDeepLearning\n",
      "Folder 528: Title: Flood Prediction System with Voting Classifier\n",
      "Folder 529: Title: An Investigation of Deep Learning Models for Wildlife Object Detection and Classification in Images\n",
      "Folder 53: Title: Leaf Disease Detection Using Deep Learning\n",
      "Folder 530: Title: 1\n",
      "Folder 531: Title: Electronic Healthcare Record Sharing System Using Blockchain Technology\n",
      "Folder 532: No input file found in Submission folder\n",
      "Folder 533: Title: CODIO: A proficient and effortless No-Code platform for Machine Learning Aspirants\n",
      "Folder 534: Title: INTRODUCING AN INNOVATIVE SMS-BASED INTRUDER DETECTION SYSTEM FOR ENHANCED HOME SECURITY\n",
      "Folder 536: Title: PredictiveMaintenanceofIndustrialEquipmentsusingIoTandDataScienceTechniques:usingFeedForwardNeuralNetwork\n",
      "Folder 537: Title: ScalingInsights:UnleashingthePowerofScalableClusteringIndicesforBigDataExploration\n",
      "Folder 538: Title: Health Insurance Claim Analysis Using Machine Learning Algorithms\n",
      "Folder 539: Title: DestinAI:YourPersonalizedTravelItineraryPlannerandChatCatalystusingGenerativeAI\n",
      "Folder 54: Title: Automatic Number Plate Recognition Based on Deep Learning for Vehicle Authentication\n",
      "Folder 540: Title: Enhancing Pharmaceutical Drug Classification Using XGBoost: A USP-Compliant Approach\n",
      "Folder 541: Title: MachineLearningBasedPredictionofChronicKidneyDisease\n",
      "Folder 542: Title: Prediction of Chronic Respiratory Diseases using Machine Learning Algorithms\n",
      "Folder 543: Title: \n",
      "Folder 545: Title: Smart Wound Measurement: Fusion of Advanced Image Analysis Techniques\n",
      "Folder 547: Title: 1\n",
      "Folder 548: Title: A Convolutional Neural Network Approach to Robust Crop Health Monitoring\n",
      "Folder 549: Title: Lung Cancer Prognosis: A Machine Learning Approach to Symptom-Based Prediction and Early Detection\n",
      "Folder 55: Title: ImageCaptioningusingDeepLearning\n",
      "Folder 551: Title: Skin Cancer Detection with YOLO and Django: A Deep Learning Web Application\n",
      "Folder 552: Title: FlowerNet : Temple Waste Optimization Through AI-Driven Floral Analysis\n",
      "Folder 553: Title: Effect Of Machine Learning And Feature Selection On  Diabetes Type 2  Risk Prediction\n"
     ]
    },
    {
     "name": "stdout",
     "output_type": "stream",
     "text": [
      "Folder 554: Title: AgriLeafNet:SeverityEstimationinMultipleCropLeafDiseases\n",
      "Folder 555: Title: \n",
      "Folder 556: Title: Multi-classSemanticSegmentation:aDeepSupervisedApproachForBrainTumorDetectionUsing3DU-Net++Architecture\n",
      "Folder 557: Title: DeepSeg:ADecisionSupportsystemforenhancedSegmentationofBacterialCellImage\n",
      "Folder 558: Title: Integrative Disease Prediction: A Machine Learning Approach for Multi-Disease Diagnosis\n",
      "Folder 559: Title: Optimizing Resource Allocation in Big Data Environments Through a Minimum-Cost Policy\n",
      "Folder 56: Title: SUSTAINAI: ENHANCING RENEWABLE ENERGY FORECASTING\n",
      "Folder 560: Title: Impurity explicit optimal Machine learning and statistical perfect construction for air quality prediction\n",
      "Folder 561: No input file found in Submission folder\n",
      "Folder 562: Title: Intelli-Face Guardian Criminal Identification System Using LBPH Algorithm.\n",
      "Folder 564: Title: \n",
      "Folder 565: Title: X-Ray Prognosis Using CNN Algorithm\n",
      "Folder 566: Title: ClassificationofdrybeansintoGeneticVarietiesusingdeeplearning-basedConvolutionalNeuralNetworks(CNNs)\n",
      "Folder 567: Title: Transcription-BasedonPitchesanOntologyfortheSystemKnowledgeRepresentation\n",
      "Folder 568: Title: GestureandSpeechRecognitionforReal-TimeMultimodalHuman-RobotInteractionusingDeepLearningBasedApproach\n",
      "Folder 569: Title: SIGN2SPEECH - SIGN LANGUAGE TO SPEECH CONVERTER\n",
      "Folder 57: Title: \n",
      "Folder 570: Title: Use of  Augmented Reality at Foundational Stage of Education: Benefits and Challenges\n",
      "Folder 571: Title: Rating Based Sentiment Analysis on Online Mobile Reviews Using Vader Pre-Processing\n",
      "Folder 572: Title: OxygenPredictioninRiverWaterusingdifferentMachineLearningAlgorithms\n",
      "Folder 573: Title: Medical Waste Classification Using Yolo V5 Algorithm\n",
      "Folder 574: Title: Bio-Inspired Negative Selection Tested for Ransomware Anomaly Detection\n",
      "Folder 575: Title: ComparativeAnalysisofInsertionSortonDiverseDataTypesandDataStructures\n",
      "Folder 576: Title: AnEvaluationSchemeforSingleSourceShortestPathComputingAlgorithms:DijkstravsBellman-Ford\n",
      "Folder 577: Title: Deep Learning For Amazon Textual Review Sentiment Analysis of Mobile Phones With ESOA based 1D-CNN Classification\n",
      "Folder 578: Title: Transient Stability Prediction Using Machine Learning Algorithm\n",
      "Folder 579: Title: Comparative Study of Sentence Paraphrasing in Indian Languages\n",
      "Folder 58: Title: Unlocking the Potential of Virtual Pet Ownership - The Impact of Blockchain and Web3\n",
      "Folder 580: Title: GAN-basedImageInpaintingTechniques:ASurvey\n",
      "Folder 581: Title: A Comprehensive Review on Applications of AI based Metaheuristics for Swarm Robotics\n",
      "Folder 582: Title: A theoretical framework for blockchain smart contract embracing to manage land property transactions.\n",
      "Folder 583: Title: ADeepLearningFrameworkforPaddyandMaizeleafDiseaseDetection\n",
      "Folder 584: Title: SyntheticFingerprintGeneration:BridgingtheGapbetweenPrivacyandSecuritywithVariationalAutoEncoders\n",
      "Folder 585: Title: Face mask detection and alerting system using transfer learning\n",
      "Folder 586: Title: \n",
      "Folder 587: Title: 1\n",
      "Folder 588: Title: 1\n",
      "Folder 589: Title: A Narrative of Security Affair and Challenges: Cloud Computing\n",
      "Folder 59: Title: A comprehensive synopsis on technologies and innovations to enhance safety and mobility of the visually challenged.\n",
      "Folder 590: Title: Automated H&E nuclei segmentation using u-net models\n",
      "Folder 591: Title: Unleashing The Potential of Fog Computing\n",
      "Folder 592: Title: Deep Learning for Multimodal Caption Generation in Images and Videos\n",
      "Folder 593: Title: An Accurate People Counting System  Based on Object Detection and Tracking\n",
      "Folder 594: Title: Harnessing Artificial Intelligence for Targeted Recommendations in E-commerce\n",
      "Folder 595: Title: Structuralandfunctionalfeaturesofthesyntheticbenchmark\n",
      "Folder 596: Title: Detecting and Counting the Tracks Registered Nuclear Based on the Fast Marching Method\n",
      "Folder 597: Title: A Review of Machine Learning-based Ayurvedic Disease Diagnosis and Prospects of Unsupervised Trends towards Ayurveda\n",
      "Folder 598: Title: Estimation and Analysis of Landslide Occurrence by Combining Geographical and Atmospheric Study using U-Net Model\n",
      "Folder 599: Title: A study on Augmented Reality Applications in the 6G era\n",
      "Folder 6: Title: Detailed Survey of Pre-diagnosis Models of Osteoporosis\n",
      "Folder 60: No input file found in Submission folder\n",
      "Folder 600: Title: Fake News Classification On Twitter Using\n",
      "Folder 601: Title: VisionBlend Empowering Object Recognition for the Visually Impaired\n",
      "Folder 602: Title: V2SL: The speech to sign language translator\n",
      "Folder 603: Title: LUNG CANCER PREDICTION USING VGG16\n",
      "Folder 604: Title: An Explainable Machine Learning Framework for Prediction of Recurrent Lumbar Disc Herniation\n",
      "Folder 605: Title: Comprehensive Blockchain, AI-Based Web Framework for Digital Health Record Management System\n",
      "Folder 606: Title: OptimizedReal-timeControlofQuanser\n",
      "Folder 607: Title: \n",
      "Folder 608: Title: Sentimatrix: Sentiment analysis using GNN in healthcare\n",
      "Folder 609: Title: EnhancingImageSecuritywithDynamicEncodinginDNACryptography\n",
      "Folder 61: Title: Instant Ambulance Connection- Rescue Radar\n",
      "Folder 610: Title: ASurveyOnGovernmentHealthSchemesHubAndMedicalMart\n",
      "Folder 611: Title: TrustworthyAIforDermatologicalDiseaseDiagnosis:BridgingtheGapbetweenAccuracyandTrustworthiness\n",
      "Folder 612: Title: Multi-faceted approach to mitigate security and privacy issues in dense network\n",
      "Folder 613: Title: Cloud-based Diabetic Retinopathy Severity Prediction System Using Ensemble Deep Convolutional Neural Network Classifier Model\n",
      "Folder 614: Title: PERFORMANCEAPPRAISALUSINGLEACHPROTOCOLINWIRELESSENERGYHARVESTINGSYSTEM\n",
      "Folder 615: Title: Parkinson’sDiseaseDetectionUsingGeneticAlgorithmandExplainableAI\n",
      "Folder 616: Title: ShareTheMeal:AnAI-PoweredFoodDonationPlatform:BridgingHotelsandNGOs\n",
      "Folder 617: No input file found in Submission folder\n",
      "Folder 618: Title: Flora & Flight: A Botanical and Interactive Augmented Reality Experience\n",
      "Folder 619: Title: \n",
      "Folder 62: Title: FINDING MISSING PERSONS USING HAAR CASCADE ALGORITHM\n",
      "Folder 620: Title: AReviewonImageSegmentationforFishDetectionAndClassificationMethodologies\n",
      "Folder 621: Title: UnveilingtheFutureofConsumerBehaviorthroughUserIntentSignals\n",
      "Folder 622: Title: \n",
      "Folder 623: Title: 1\n",
      "Folder 624: Title: Lacunarity-BasedCharacterizationofHyperspectralSpatialPatterns\n",
      "Folder 625: Title: Advances in Emotion Recognition using Large Language Models: An Overview\n",
      "Folder 626: Title: U-NetSegmentationandLacunarityforEnhancedAnalysisofHyperspectralImagery\n",
      "Folder 627: Title: \n",
      "Folder 629: Title: MUCORMYCOSIS PREDICTIVE ANALYSIS USING MACHINE LEARNING TECHNIQUES\n",
      "Folder 63: Title: Survey Paper on WhatsApp Chat Analytics Platform using Python\n",
      "Folder 630: Title: Large Language Models in Mental Healthcare Applications: A survey\n",
      "Folder 631: Title: TEMPORAL VIDEO SEGMENTATION WITH SIAMESE NETWORK\n",
      "Folder 633: Title: Solar Water Pumping System with BLDC Motor and ANN-based MPPT Technique\n",
      "Folder 634: Title: \n",
      "Folder 635: Title: 1\n",
      "Folder 636: Title: Sentiment Analysis of Amazon Product Reviews: A Comprehensive Evaluation using Naive Bayes Classifiers\n",
      "Folder 637: Title: ComprehensiveAnalysisonImageCaptioningApproaches\n",
      "Folder 638: Title: OptimizingReal-TimePerformanceinML-BasedApplicationLayer\n",
      "Folder 639: Title: Rainfall Prediction Using Machine Learning Techniques\n",
      "Folder 64: Title: Shubham Gore                                    Dipmala Salunke JSPM’s Rajarshri Shahu                     JSPM’s Rajarshri Shahu  College of Engineering,                     College of Engineering, Pune, India                                          Pune, India Shubhamugore99@gmail.com       dtsalunke_it@jspmrscoe.edu.in\n",
      "Folder 640: Title: .\n",
      "Folder 641: Title: \n",
      "Folder 642: Title: \n",
      "Folder 643: Title: ENHANCING MULTI-DOCUMENT QUESTION ANSWERING USING TRANSFORMER BASED DECODER MODELS\n",
      "Folder 644: Title: Sensei – Generative AI based YouTube Study Assistant\n",
      "Folder 645: Title: STABLE DIFFUSION:\n",
      "Folder 646: Title: DetectingOffensiveLanguageinTamilYouTubeComments\n",
      "Folder 647: Title: Applications of Natural Language Processing to Predict Suicidal Tendencies from Social Media Textual Input\n",
      "Folder 648: Title: Exploring the Transformative Landscape: A Comprehensive Survey on the Pivotal Role of Artificial Intelligence and Machine Learning in Shaping the Future of 6th Generation (6G) Communications\n"
     ]
    },
    {
     "name": "stdout",
     "output_type": "stream",
     "text": [
      "Folder 649: Title: Classification Of Schizophrenia With Using EEG Signals\n",
      "Folder 65: Title: Statewise Crime Patterns with Ensemble Machine Learning and Data Visualization Techniques for public safety\n",
      "Folder 651: Title: An Empirical Investigation on the Relationship Between Macroeconomic Metrics and Credit Default Swap Spreads: A Machine Learning Approach  1. Introduction CDS or Credit Default Swap, is a credit instrument of derivative used in the odyssey of finance to hedge credit risk. Like any other contract, CDS is a contractual agreement between a buyer and a seller, in which the buyer makes payments periodically to the seller in exchange for risk protection of a specific credit event, typically the default of a specific debt issuer or entity. Sovereign CDS is focused on the credit risk of sovereign nations, meaning it deals with the possibility of a government defaulting on its debt obligations. The mechanics of a sovereign CDS are similar to those of a regular CDS but are applied to government bonds or debt issued by a specific country. Sovereign CDS spread is the premium paid to protect against the credit risk of a sovereign government, expressed in basis points, reflecting the market's perception of the government's creditworthiness. This paper uses a comprehensive dataset, which can provide insights beyond what is available to an investor at the time of making an investment and analyses\n",
      "Folder 653: Title: DetectionOfBuriedIEDsUsingConvolutionalNeuralNetworksOnGroundImagesFromThermalCamerasEmbarkedOnUAVs\n",
      "Folder 654: Title: DATA MINING FOR SALES PREDICTION IN TOURISM INDUSTRY\n",
      "Folder 655: Title: Unravelling Opportunities: Big Data Analysis Revolutionizing the Textile Industry in India\n",
      "Folder 656: Title: CLOUD PARADIGM SECURITY IMPROVEMENT USING A NEW OPTIMIZED CRYPTO MECHANISM\n",
      "Folder 657: Title: \n",
      "Folder 658: Title: A Real Time Automated Smart Home Application Based on IOT and ML\n",
      "Folder 659: Title: IoT-BASED SMART ALERT SYSTEM FOR DRIVER DROWSINESS DETECTION\n",
      "Folder 66: Title: \n",
      "Folder 661: Title: An Approach to Design a Smart Mining Helmet\n",
      "Folder 662: Title: cVGG16-UNet : Multiregional Automatic Segmentation of Glioma Tumor using Hybrid 3D Deep Convolutional Neural Network\n",
      "Folder 663: Title: ShopAssist – Enabling Smart Shopping through Visual Question Answering\n",
      "Folder 664: Title: Safe and Efficient Traffic Obstacle Detection using Fine-tuned Modified Faster R-CNN\n",
      "Folder 665: Title: Artificial Intelligence: Is the Future of the Heath Care Industry?\n",
      "Folder 666: Title: SecuringAuthenticationSystems:ARobustApproachtoFakeFaceDetectionthroughHierarchicalAttentionMemoryNetworks\n",
      "Folder 667: Title: OptimizingUrbanMobility:AnIntelligentFrameworkforTrafficControlandManagement\n",
      "Folder 668: Title: DetectionofEfficientLandslideInventoryMappinginWesternGhatsregionsofKarnataka,India.\n",
      "Folder 669: Title: Digital Coaching for Fuzzy Real Options Analysis: Corporate Acquisitions under Geopolitical Risk\n",
      "Folder 67: Title: Abstract—The dynamic and data-driven environment we live in today makes network administration an essential component of contemporary information technology. Since networks are required to scale and adapt in real-time to meet the many and constantly changing demands of applications and services, the old approaches to network management are no longer sufficient. In order to tackle these obstacles, this research presents a novel method of network management that combines a Conflict Detection system in Software-Defined Networks (SDN) with the ideas of Intent-Based Networking (IBN). Rather than specifying individual device-level settings, the Intent-Based Networking paradigm focuses on expressing high-level network policies and intentions, giving network administrators control over how the network behaves. By abstracting away the intricacy of network configurations, it makes provisioning, optimization, and troubleshooting automatically possible. The\n",
      "Folder 670: Title: Design of an Auto Evaluation Model for Subjective Answers using Natural Language Processing and Machine Learning Techniques\n",
      "Folder 671: Title: Comparison of Classification Techniques to Detect Epi-leptic Seizure between Black-box & Non-black box classi-fier\n",
      "Folder 672: Title: AnalysisofUNet-basedSemanticSegmentationModels\n",
      "Folder 673: Title: BlockchainTechnology-DrivenSmartContractsforExecutingPersonalWills\n",
      "Folder 674: Title: APSK STAR 16 QAM CONSTELLATION PARTITIONING BASED SCMA CODEBOOK\n",
      "Folder 68: Title: \n",
      "Folder 69: Title: Mobile App Testing Using APPIUM\n",
      "Folder 70: Title: EnhancingStudentPlacementwithCross-PlatformApplication\n",
      "Folder 72: Title: Twitter Sentiment Analysis using Machine Learning Algorithms: A Survey\n",
      "Folder 73: Title: A Real-Time Object Detection for AI-based Exam Proctoring Systems Using YOLOv5\n",
      "Folder 74: Title: A Literature Survey on Decentralized Voting System\n",
      "Folder 75: Title: AI-PoweredCyberSentinel:AdvancedPhishingWebsiteDetectionforEnhancedOnlineSecurity\n",
      "Folder 76: Title: Navigating Complex Texts with Semantic Extraction and Condensing Legal Document Summarization\n",
      "Folder 77: Title: REAL TIME IMAGE PROCESSING ON EMOTION RECOGNITION\n",
      "Folder 78: Title: Review On YouTube Spam Detection In Comment Section\n",
      "Folder 8: Title: TeluguCottonCropAdvisory:ADialogflow-PoweredChatbot\n",
      "Folder 80: Title: Leveraging Transfer Learning to Enhance Deep           Learning-Based IDS Performance\n",
      "Folder 81: Title: Enhancing Healthcare: Bridging Gaps Through Interactive Doctor-Patient Communication Websites\n",
      "Folder 82: Title: OpenAI's GPT-3/ChatGPT: Suggests & Corrects\n",
      "Folder 84: Title: Enhancing IoT Anomaly Detection with DBSCAN - A Data-Driven Approach\n",
      "Folder 85: Title: Semantic Analysis for Healthcare Diagnosis\n",
      "Folder 86: Title: ImaginAI\n",
      "Folder 87: Title: CPU Utilization in Cloud Computing Forecasted Using ML and DL Algorithms\n",
      "Folder 88: Title: Ingredient Based Food Recommendation System Using Deep Learning\n",
      "Error extracting title from submissions674\\89\\Submission\\reviewPaper (AutoRecovered).docx: \"no relationship of type 'http://schemas.openxmlformats.org/officeDocument/2006/relationships/officeDocument' in collection\"\n",
      "Folder 89: Title: Error: Title extraction failed\n",
      "Folder 9: Title: 1\n",
      "Folder 90: Title: \n",
      "Folder 91: Title: 1\n",
      "Folder 92: Title: AResearchPaperonAI-BasedDiseaseDiagnosisfromMedicalImages\n",
      "Folder 93: Title: AResearchPaperonAI-BasedDiseaseDiagnosisfromMedicalImages\n",
      "Folder 94: Title: \"TransformativeHealthMonitoring:AComprehensiveSurveyontheIntegrationofFitnessInsightsinanEmergencyHealthReportingApp\n",
      "Folder 98: Title: Deep Learning Approaches for Drowsiness Detection System:\n",
      "Folder 99: Title: Pranav Deo, Atharva Debre, Gauri Deo, Deepak Chimkar, Maitreyee Deo, Mohit Deo, Ganesh UbalenDepartment of Engineering, Sciences and Humanities (DESH)nVishwakarma Institute of TechnologynPune, Maharashtra, India\n"
     ]
    }
   ],
   "source": [
    "import os\n",
    "import tempfile\n",
    "from PyPDF2 import PdfWriter, PdfReader\n",
    "from io import BytesIO\n",
    "from reportlab.lib.pagesizes import letter\n",
    "from reportlab.pdfgen import canvas\n",
    "from docx import Document\n",
    "import pdfplumber\n",
    "\n",
    "\n",
    "def extract_title_from_pdf(pdf_path):\n",
    "    title = \"\"\n",
    "    with pdfplumber.open(pdf_path) as pdf:\n",
    "        first_page = pdf.pages[0]\n",
    "        first_font_size = None\n",
    "        for obj in first_page.chars:\n",
    "            if not first_font_size:\n",
    "                first_font_size = obj['size']\n",
    "            if obj['size'] == first_font_size:\n",
    "                title += obj['text']\n",
    "            else:\n",
    "                break\n",
    "    return title.strip()\n",
    "\n",
    "\n",
    "def convert_docx_to_pdf(docx_path, pdf_path):\n",
    "    doc = Document(docx_path)\n",
    "    output = PdfWriter()\n",
    "    for para in doc.paragraphs:\n",
    "        bio = BytesIO()\n",
    "        c = canvas.Canvas(bio, pagesize=letter)\n",
    "        c.drawString(100, 750, para.text)\n",
    "        c.save()\n",
    "        bio.seek(0)\n",
    "        input_pdf = PdfReader(bio)\n",
    "        for page in input_pdf.pages:\n",
    "            output.add_page(page)\n",
    "    with open(pdf_path, \"wb\") as f:\n",
    "        output.write(f)\n",
    "\n",
    "\n",
    "def extract_title_from_docx(docx_path):\n",
    "    try:\n",
    "        with tempfile.NamedTemporaryFile(suffix=\".pdf\", delete=False) as tmp_pdf_file:\n",
    "            convert_docx_to_pdf(docx_path, tmp_pdf_file.name)\n",
    "            return extract_title_from_pdf(tmp_pdf_file.name)\n",
    "    except KeyError as e:\n",
    "        print(f\"Error extracting title from {docx_path}: {e}\")\n",
    "        return \"Error: Title extraction failed\"\n",
    "\n",
    "\n",
    "def extract_title(file_path):\n",
    "    file_extension = os.path.splitext(file_path)[1].lower()\n",
    "    if file_extension == '.pdf':\n",
    "        return extract_title_from_pdf(file_path)\n",
    "    elif file_extension == '.docx':\n",
    "        return extract_title_from_docx(file_path)\n",
    "    else:\n",
    "        raise ValueError(\"Unsupported file format\")\n",
    "\n",
    "\n",
    "def main():\n",
    "    submissions_folder = 'submissions674'  # Path to the submissions674 folder\n",
    "    for folder_name in os.listdir(submissions_folder):\n",
    "        if folder_name.startswith('.'):\n",
    "            continue  # Skip directories starting with '.'\n",
    "        folder_path = os.path.join(submissions_folder, folder_name)\n",
    "        if os.path.isdir(folder_path):\n",
    "            submission_folder = os.path.join(folder_path, 'Submission')\n",
    "            if os.path.exists(submission_folder):\n",
    "                input_file = None\n",
    "                for file in os.listdir(submission_folder):\n",
    "                    if file.endswith('.pdf') or file.endswith('.docx'):\n",
    "                        input_file = os.path.join(submission_folder, file)\n",
    "                        break\n",
    "                if input_file:\n",
    "                    title = extract_title(input_file)\n",
    "                    print(f\"Folder {folder_name}: Title: {title}\")\n",
    "                else:\n",
    "                    print(f\"Folder {folder_name}: No input file found in Submission folder\")\n",
    "            else:\n",
    "                print(f\"Folder {folder_name}: Submission folder not found\")\n",
    "\n",
    "\n",
    "if __name__ == \"__main__\":\n",
    "    main()\n"
   ]
  },
  {
   "cell_type": "code",
   "execution_count": 3,
   "id": "09fd32ed",
   "metadata": {},
   "outputs": [
    {
     "name": "stdout",
     "output_type": "stream",
     "text": [
      "Collecting PyPDF2\n",
      "  Obtaining dependency information for PyPDF2 from https://files.pythonhosted.org/packages/8e/5e/c86a5643653825d3c913719e788e41386bee415c2b87b4f955432f2de6b2/pypdf2-3.0.1-py3-none-any.whl.metadata\n",
      "  Downloading pypdf2-3.0.1-py3-none-any.whl.metadata (6.8 kB)\n",
      "Collecting typing_extensions>=3.10.0.0 (from PyPDF2)\n",
      "  Obtaining dependency information for typing_extensions>=3.10.0.0 from https://files.pythonhosted.org/packages/f9/de/dc04a3ea60b22624b51c703a84bbe0184abcd1d0b9bc8074b5d6b7ab90bb/typing_extensions-4.10.0-py3-none-any.whl.metadata\n",
      "  Downloading typing_extensions-4.10.0-py3-none-any.whl.metadata (3.0 kB)\n",
      "Downloading pypdf2-3.0.1-py3-none-any.whl (232 kB)\n",
      "   -------------------------------------- 232.6/232.6 kB 712.6 kB/s eta 0:00:00\n",
      "Downloading typing_extensions-4.10.0-py3-none-any.whl (33 kB)\n",
      "Installing collected packages: typing_extensions, PyPDF2\n",
      "  Attempting uninstall: typing_extensions\n",
      "    Found existing installation: typing_extensions 4.9.0\n",
      "    Uninstalling typing_extensions-4.9.0:\n",
      "      Successfully uninstalled typing_extensions-4.9.0\n",
      "  Attempting uninstall: PyPDF2\n",
      "    Found existing installation: PyPDF2 1.26.0\n",
      "    Uninstalling PyPDF2-1.26.0:\n",
      "      Successfully uninstalled PyPDF2-1.26.0\n",
      "Successfully installed PyPDF2-3.0.1 typing_extensions-4.10.0\n",
      "Note: you may need to restart the kernel to use updated packages.\n"
     ]
    }
   ],
   "source": [
    "pip install --upgrade --force-reinstall PyPDF2\n"
   ]
  },
  {
   "cell_type": "code",
   "execution_count": 2,
   "id": "8d897a3a",
   "metadata": {},
   "outputs": [
    {
     "name": "stdout",
     "output_type": "stream",
     "text": [
      "Collecting reportlab\n",
      "  Obtaining dependency information for reportlab from https://files.pythonhosted.org/packages/d2/70/c44e5fb6099cf28d01255ff1dfc6a4c8f2b981f314707018c802ac179e4e/reportlab-4.1.0-py3-none-any.whl.metadata\n",
      "  Downloading reportlab-4.1.0-py3-none-any.whl.metadata (1.4 kB)\n",
      "Requirement already satisfied: pillow>=9.0.0 in c:\\users\\sahil thapa\\appdata\\local\\programs\\arcgis\\pro\\bin\\python\\envs\\arcgispro-py3\\lib\\site-packages (from reportlab) (9.5.0)\n",
      "Requirement already satisfied: chardet in c:\\users\\sahil thapa\\appdata\\local\\programs\\arcgis\\pro\\bin\\python\\envs\\arcgispro-py3\\lib\\site-packages (from reportlab) (4.0.0)\n",
      "Downloading reportlab-4.1.0-py3-none-any.whl (1.9 MB)\n",
      "   ---------------------------------------- 1.9/1.9 MB 1.8 MB/s eta 0:00:00\n",
      "Installing collected packages: reportlab\n",
      "Successfully installed reportlab-4.1.0\n",
      "Note: you may need to restart the kernel to use updated packages.\n"
     ]
    }
   ],
   "source": [
    "pip install reportlab"
   ]
  },
  {
   "cell_type": "code",
   "execution_count": 2,
   "id": "dcec8a2b",
   "metadata": {},
   "outputs": [
    {
     "name": "stdout",
     "output_type": "stream",
     "text": [
      "Collecting docxNote: you may need to restart the kernel to use updated packages.\n",
      "\n",
      "  Downloading docx-0.2.4.tar.gz (54 kB)\n",
      "     -------------------------------------- 54.9/54.9 kB 204.0 kB/s eta 0:00:00\n",
      "  Preparing metadata (setup.py): started\n",
      "  Preparing metadata (setup.py): finished with status 'done'\n",
      "Requirement already satisfied: lxml in c:\\users\\sahil thapa\\appdata\\local\\programs\\arcgis\\pro\\bin\\python\\envs\\arcgispro-py3\\lib\\site-packages (from docx) (4.9.1)\n",
      "Requirement already satisfied: Pillow>=2.0 in c:\\users\\sahil thapa\\appdata\\local\\programs\\arcgis\\pro\\bin\\python\\envs\\arcgispro-py3\\lib\\site-packages (from docx) (9.5.0)\n",
      "Building wheels for collected packages: docx\n",
      "  Building wheel for docx (setup.py): started\n",
      "  Building wheel for docx (setup.py): finished with status 'done'\n",
      "  Created wheel for docx: filename=docx-0.2.4-py3-none-any.whl size=53897 sha256=672bbef1f9975019060446aec5fff0923e878c746d7e8211e8a316cc33e4debd\n",
      "  Stored in directory: c:\\users\\sahil thapa\\appdata\\local\\pip\\cache\\wheels\\0f\\8e\\9d\\7003eed35a84cf960876aae6bdf60d02041ddfcca66eceee94\n",
      "Successfully built docx\n",
      "Installing collected packages: docx\n",
      "Successfully installed docx-0.2.4\n"
     ]
    }
   ],
   "source": [
    "pip install docx"
   ]
  },
  {
   "cell_type": "code",
   "execution_count": 2,
   "id": "203dec9b",
   "metadata": {},
   "outputs": [
    {
     "name": "stdout",
     "output_type": "stream",
     "text": [
      "Collecting python-docx\n",
      "  Obtaining dependency information for python-docx from https://files.pythonhosted.org/packages/5f/d8/6948f7ac00edf74bfa52b3c5e3073df20284bec1db466d13e668fe991707/python_docx-1.1.0-py3-none-any.whl.metadata\n",
      "  Downloading python_docx-1.1.0-py3-none-any.whl.metadata (2.0 kB)\n",
      "Requirement already satisfied: lxml>=3.1.0 in c:\\users\\sahil thapa\\appdata\\local\\programs\\arcgis\\pro\\bin\\python\\envs\\arcgispro-py3\\lib\\site-packages (from python-docx) (4.9.1)\n",
      "Requirement already satisfied: typing-extensions in c:\\users\\sahil thapa\\appdata\\local\\programs\\arcgis\\pro\\bin\\python\\envs\\arcgispro-py3\\lib\\site-packages (from python-docx) (4.10.0)\n",
      "Downloading python_docx-1.1.0-py3-none-any.whl (239 kB)\n",
      "   ---------------------------------------- 239.6/239.6 kB 1.0 MB/s eta 0:00:00\n",
      "Installing collected packages: python-docx\n",
      "Successfully installed python-docx-1.1.0\n"
     ]
    }
   ],
   "source": [
    "!pip install python-docx"
   ]
  },
  {
   "cell_type": "code",
   "execution_count": 4,
   "id": "11596c0f",
   "metadata": {},
   "outputs": [
    {
     "name": "stdout",
     "output_type": "stream",
     "text": [
      "Collecting pdfplumber\n",
      "  Obtaining dependency information for pdfplumber from https://files.pythonhosted.org/packages/ee/ec/315015b6c4667d889cc14348c93e31f9fd43a6f61162b85c39e4a21018d5/pdfplumber-0.11.0-py3-none-any.whl.metadata\n",
      "  Downloading pdfplumber-0.11.0-py3-none-any.whl.metadata (39 kB)\n",
      "Collecting pdfminer.six==20231228 (from pdfplumber)\n",
      "  Obtaining dependency information for pdfminer.six==20231228 from https://files.pythonhosted.org/packages/eb/9c/e46fe7502b32d7db6af6e36a9105abb93301fa1ec475b5ddcba8b35ae23a/pdfminer.six-20231228-py3-none-any.whl.metadata\n",
      "  Downloading pdfminer.six-20231228-py3-none-any.whl.metadata (4.2 kB)\n",
      "Requirement already satisfied: Pillow>=9.1 in c:\\users\\sahil thapa\\appdata\\local\\programs\\arcgis\\pro\\bin\\python\\envs\\arcgispro-py3\\lib\\site-packages (from pdfplumber) (9.5.0)\n",
      "Collecting pypdfium2>=4.18.0 (from pdfplumber)\n",
      "  Obtaining dependency information for pypdfium2>=4.18.0 from https://files.pythonhosted.org/packages/88/ad/4d3d28df04a93de73efccc5e49a810436c7fdfd4ea97852af99434910841/pypdfium2-4.27.0-py3-none-win_amd64.whl.metadata\n",
      "  Downloading pypdfium2-4.27.0-py3-none-win_amd64.whl.metadata (48 kB)\n",
      "     -------------------------------------- 48.1/48.1 kB 805.7 kB/s eta 0:00:00\n",
      "Requirement already satisfied: charset-normalizer>=2.0.0 in c:\\users\\sahil thapa\\appdata\\local\\programs\\arcgis\\pro\\bin\\python\\envs\\arcgispro-py3\\lib\\site-packages (from pdfminer.six==20231228->pdfplumber) (2.0.4)\n",
      "Requirement already satisfied: cryptography>=36.0.0 in c:\\users\\sahil thapa\\appdata\\local\\programs\\arcgis\\pro\\bin\\python\\envs\\arcgispro-py3\\lib\\site-packages (from pdfminer.six==20231228->pdfplumber) (41.0.3)\n",
      "Requirement already satisfied: cffi>=1.12 in c:\\users\\sahil thapa\\appdata\\local\\programs\\arcgis\\pro\\bin\\python\\envs\\arcgispro-py3\\lib\\site-packages (from cryptography>=36.0.0->pdfminer.six==20231228->pdfplumber) (1.15.1)\n",
      "Requirement already satisfied: pycparser in c:\\users\\sahil thapa\\appdata\\local\\programs\\arcgis\\pro\\bin\\python\\envs\\arcgispro-py3\\lib\\site-packages (from cffi>=1.12->cryptography>=36.0.0->pdfminer.six==20231228->pdfplumber) (2.21)\n",
      "Downloading pdfplumber-0.11.0-py3-none-any.whl (56 kB)\n",
      "   ---------------------------------------- 56.4/56.4 kB 591.4 kB/s eta 0:00:00\n",
      "Downloading pdfminer.six-20231228-py3-none-any.whl (5.6 MB)\n",
      "   ---------------------------------------- 5.6/5.6 MB 1.9 MB/s eta 0:00:00\n",
      "Downloading pypdfium2-4.27.0-py3-none-win_amd64.whl (2.7 MB)\n",
      "   ---------------------------------------- 2.7/2.7 MB 1.8 MB/s eta 0:00:00\n",
      "Installing collected packages: pypdfium2, pdfminer.six, pdfplumber\n",
      "Successfully installed pdfminer.six-20231228 pdfplumber-0.11.0 pypdfium2-4.27.0\n",
      "Note: you may need to restart the kernel to use updated packages.\n"
     ]
    }
   ],
   "source": [
    "pip install pdfplumber"
   ]
  },
  {
   "cell_type": "code",
   "execution_count": 5,
   "id": "6bb64666",
   "metadata": {},
   "outputs": [
    {
     "name": "stdout",
     "output_type": "stream",
     "text": [
      "Collecting docx2pdf\n",
      "  Obtaining dependency information for docx2pdf from https://files.pythonhosted.org/packages/53/4f/1155781308281e67f80b829738a29e5354e03664c62311f753056afc873b/docx2pdf-0.1.8-py3-none-any.whl.metadata\n",
      "  Downloading docx2pdf-0.1.8-py3-none-any.whl.metadata (3.3 kB)\n",
      "Collecting pywin32>=227 (from docx2pdf)\n",
      "  Obtaining dependency information for pywin32>=227 from https://files.pythonhosted.org/packages/1c/f7/24d8ed4fd9c43b90354df7764f81f0dd5e623f9a50f1538f90fe085d6dff/pywin32-306-cp39-cp39-win_amd64.whl.metadata\n",
      "  Downloading pywin32-306-cp39-cp39-win_amd64.whl.metadata (6.4 kB)\n",
      "Requirement already satisfied: tqdm>=4.41.0 in c:\\users\\sahil thapa\\appdata\\local\\programs\\arcgis\\pro\\bin\\python\\envs\\arcgispro-py3\\lib\\site-packages (from docx2pdf) (4.64.1)\n",
      "Requirement already satisfied: colorama in c:\\users\\sahil thapa\\appdata\\local\\programs\\arcgis\\pro\\bin\\python\\envs\\arcgispro-py3\\lib\\site-packages (from tqdm>=4.41.0->docx2pdf) (0.4.6)\n",
      "Downloading docx2pdf-0.1.8-py3-none-any.whl (6.7 kB)\n",
      "Downloading pywin32-306-cp39-cp39-win_amd64.whl (9.3 MB)\n",
      "   ---------------------------------------- 9.3/9.3 MB 1.8 MB/s eta 0:00:00\n",
      "Installing collected packages: pywin32, docx2pdf\n",
      "Successfully installed docx2pdf-0.1.8 pywin32-306\n",
      "Note: you may need to restart the kernel to use updated packages.\n"
     ]
    }
   ],
   "source": [
    "pip install docx2pdf"
   ]
  },
  {
   "cell_type": "code",
   "execution_count": 7,
   "id": "8435ff9a",
   "metadata": {},
   "outputs": [
    {
     "name": "stdout",
     "output_type": "stream",
     "text": [
      "Note: you may need to restart the kernel to use updated packages.\n"
     ]
    },
    {
     "name": "stderr",
     "output_type": "stream",
     "text": [
      "ERROR: Could not find a version that satisfies the requirement winerror (from versions: none)\n",
      "ERROR: No matching distribution found for winerror\n"
     ]
    }
   ],
   "source": [
    "pip install winerror"
   ]
  },
  {
   "cell_type": "code",
   "execution_count": 5,
   "id": "5d7efed4",
   "metadata": {},
   "outputs": [
    {
     "ename": "SyntaxError",
     "evalue": "(unicode error) 'unicodeescape' codec can't decode bytes in position 2-3: truncated \\UXXXXXXXX escape (3541732300.py, line 4)",
     "output_type": "error",
     "traceback": [
      "\u001b[1;36m  File \u001b[1;32m\"C:\\Users\\sahil thapa\\AppData\\Local\\Temp\\ipykernel_17260\\3541732300.py\"\u001b[1;36m, line \u001b[1;32m4\u001b[0m\n\u001b[1;33m    docx_file = 'C:\\Users\\sahil thapa\\another.docx'\u001b[0m\n\u001b[1;37m                                                   ^\u001b[0m\n\u001b[1;31mSyntaxError\u001b[0m\u001b[1;31m:\u001b[0m (unicode error) 'unicodeescape' codec can't decode bytes in position 2-3: truncated \\UXXXXXXXX escape\n"
     ]
    }
   ],
   "source": [
    "from docx2pdf import convert\n",
    "\n",
    "# Path to the input DOCX file\n",
    "docx_file = 'another.docx'\n",
    "\n",
    "# Path to save the output PDF file\n",
    "pdf_file = 'hello2.pdf'\n",
    "\n",
    "# Convert DOCX to PDF\n",
    "convert(docx_file, pdf_file)\n"
   ]
  },
  {
   "cell_type": "code",
   "execution_count": 8,
   "id": "e3d4ab21",
   "metadata": {},
   "outputs": [
    {
     "name": "stdout",
     "output_type": "stream",
     "text": [
      "Requirement already satisfied: pywin32 in c:\\users\\sahil thapa\\appdata\\local\\programs\\arcgis\\pro\\bin\\python\\envs\\arcgispro-py3\\lib\\site-packages (306)Note: you may need to restart the kernel to use updated packages.\n",
      "\n"
     ]
    }
   ],
   "source": [
    "pip install pywin32\n"
   ]
  },
  {
   "cell_type": "code",
   "execution_count": 4,
   "id": "5ec71646",
   "metadata": {},
   "outputs": [
    {
     "name": "stdout",
     "output_type": "stream",
     "text": [
      "Title: Next-Generation Cloud Infrastructure Management - Integrating TCNs and Ensemble Policies for Improved Performance\n"
     ]
    }
   ],
   "source": [
    "import pdfplumber\n",
    "\n",
    "def extract_title_from_pdf(pdf_path):\n",
    "    title = \"\"\n",
    "    with pdfplumber.open(pdf_path) as pdf:\n",
    "        first_page = pdf.pages[0]\n",
    "        first_font_size = None\n",
    "        for obj in first_page.chars:\n",
    "            if not first_font_size:\n",
    "                first_font_size = obj['size']\n",
    "            if obj['size'] == first_font_size:\n",
    "                title += obj['text']\n",
    "            else:\n",
    "                break\n",
    "    return title.strip()\n",
    "\n",
    "def main():\n",
    "    pdf_path = 'hello2.pdf'  # Path to your PDF file\n",
    "    title = extract_title_from_pdf(pdf_path)\n",
    "    print(\"Title:\", title)\n",
    "\n",
    "if __name__ == \"__main__\":\n",
    "    main()"
   ]
  },
  {
   "cell_type": "code",
   "execution_count": 6,
   "id": "b0dcbd44",
   "metadata": {},
   "outputs": [
    {
     "data": {
      "application/vnd.jupyter.widget-view+json": {
       "model_id": "7c6e35bb5f0247a99b06be67bde763dc",
       "version_major": 2,
       "version_minor": 0
      },
      "text/plain": [
       "  0%|          | 0/1 [00:00<?, ?it/s]"
      ]
     },
     "metadata": {},
     "output_type": "display_data"
    },
    {
     "ename": "com_error",
     "evalue": "(-2147352567, 'Exception occurred.', (0, 'Microsoft Word', 'Command failed', 'wdmain11.chm', 36966, -2146824090), None)",
     "output_type": "error",
     "traceback": [
      "\u001b[1;31m---------------------------------------------------------------------------\u001b[0m",
      "\u001b[1;31mcom_error\u001b[0m                                 Traceback (most recent call last)",
      "\u001b[1;32m~\\AppData\\Local\\Temp\\ipykernel_17260\\3913791951.py\u001b[0m in \u001b[0;36m<cell line: 70>\u001b[1;34m()\u001b[0m\n\u001b[0;32m     69\u001b[0m \u001b[1;33m\u001b[0m\u001b[0m\n\u001b[0;32m     70\u001b[0m \u001b[1;32mif\u001b[0m \u001b[0m__name__\u001b[0m \u001b[1;33m==\u001b[0m \u001b[1;34m\"__main__\"\u001b[0m\u001b[1;33m:\u001b[0m\u001b[1;33m\u001b[0m\u001b[1;33m\u001b[0m\u001b[0m\n\u001b[1;32m---> 71\u001b[1;33m     \u001b[0mmain\u001b[0m\u001b[1;33m(\u001b[0m\u001b[1;33m)\u001b[0m\u001b[1;33m\u001b[0m\u001b[1;33m\u001b[0m\u001b[0m\n\u001b[0m",
      "\u001b[1;32m~\\AppData\\Local\\Temp\\ipykernel_17260\\3913791951.py\u001b[0m in \u001b[0;36mmain\u001b[1;34m()\u001b[0m\n\u001b[0;32m     60\u001b[0m                         \u001b[1;32mbreak\u001b[0m\u001b[1;33m\u001b[0m\u001b[1;33m\u001b[0m\u001b[0m\n\u001b[0;32m     61\u001b[0m                 \u001b[1;32mif\u001b[0m \u001b[0minput_file\u001b[0m\u001b[1;33m:\u001b[0m\u001b[1;33m\u001b[0m\u001b[1;33m\u001b[0m\u001b[0m\n\u001b[1;32m---> 62\u001b[1;33m                     \u001b[0mtitle\u001b[0m \u001b[1;33m=\u001b[0m \u001b[0mextract_title\u001b[0m\u001b[1;33m(\u001b[0m\u001b[0minput_file\u001b[0m\u001b[1;33m)\u001b[0m\u001b[1;33m\u001b[0m\u001b[1;33m\u001b[0m\u001b[0m\n\u001b[0m\u001b[0;32m     63\u001b[0m                     \u001b[0mprint\u001b[0m\u001b[1;33m(\u001b[0m\u001b[1;34mf\"Folder {folder_name}: Title: {title}\"\u001b[0m\u001b[1;33m)\u001b[0m\u001b[1;33m\u001b[0m\u001b[1;33m\u001b[0m\u001b[0m\n\u001b[0;32m     64\u001b[0m                 \u001b[1;32melse\u001b[0m\u001b[1;33m:\u001b[0m\u001b[1;33m\u001b[0m\u001b[1;33m\u001b[0m\u001b[0m\n",
      "\u001b[1;32m~\\AppData\\Local\\Temp\\ipykernel_17260\\3913791951.py\u001b[0m in \u001b[0;36mextract_title\u001b[1;34m(file_path)\u001b[0m\n\u001b[0;32m     40\u001b[0m         \u001b[1;32mreturn\u001b[0m \u001b[0mextract_title_from_pdf\u001b[0m\u001b[1;33m(\u001b[0m\u001b[0mfile_path\u001b[0m\u001b[1;33m)\u001b[0m\u001b[1;33m\u001b[0m\u001b[1;33m\u001b[0m\u001b[0m\n\u001b[0;32m     41\u001b[0m     \u001b[1;32melif\u001b[0m \u001b[0mfile_extension\u001b[0m \u001b[1;33m==\u001b[0m \u001b[1;34m'.docx'\u001b[0m\u001b[1;33m:\u001b[0m\u001b[1;33m\u001b[0m\u001b[1;33m\u001b[0m\u001b[0m\n\u001b[1;32m---> 42\u001b[1;33m         \u001b[1;32mreturn\u001b[0m \u001b[0mextract_title_from_docx\u001b[0m\u001b[1;33m(\u001b[0m\u001b[0mfile_path\u001b[0m\u001b[1;33m)\u001b[0m\u001b[1;33m\u001b[0m\u001b[1;33m\u001b[0m\u001b[0m\n\u001b[0m\u001b[0;32m     43\u001b[0m     \u001b[1;32melse\u001b[0m\u001b[1;33m:\u001b[0m\u001b[1;33m\u001b[0m\u001b[1;33m\u001b[0m\u001b[0m\n\u001b[0;32m     44\u001b[0m         \u001b[1;32mraise\u001b[0m \u001b[0mValueError\u001b[0m\u001b[1;33m(\u001b[0m\u001b[1;34m\"Unsupported file format\"\u001b[0m\u001b[1;33m)\u001b[0m\u001b[1;33m\u001b[0m\u001b[1;33m\u001b[0m\u001b[0m\n",
      "\u001b[1;32m~\\AppData\\Local\\Temp\\ipykernel_17260\\3913791951.py\u001b[0m in \u001b[0;36mextract_title_from_docx\u001b[1;34m(docx_path)\u001b[0m\n\u001b[0;32m     28\u001b[0m         \u001b[1;32mwith\u001b[0m \u001b[0mtempfile\u001b[0m\u001b[1;33m.\u001b[0m\u001b[0mNamedTemporaryFile\u001b[0m\u001b[1;33m(\u001b[0m\u001b[0msuffix\u001b[0m\u001b[1;33m=\u001b[0m\u001b[1;34m\".pdf\"\u001b[0m\u001b[1;33m,\u001b[0m \u001b[0mdelete\u001b[0m\u001b[1;33m=\u001b[0m\u001b[1;32mFalse\u001b[0m\u001b[1;33m)\u001b[0m \u001b[1;32mas\u001b[0m \u001b[0mtmp_pdf_file\u001b[0m\u001b[1;33m:\u001b[0m\u001b[1;33m\u001b[0m\u001b[1;33m\u001b[0m\u001b[0m\n\u001b[0;32m     29\u001b[0m             \u001b[1;31m# Convert DOCX to PDF using docx2pdf\u001b[0m\u001b[1;33m\u001b[0m\u001b[1;33m\u001b[0m\u001b[0m\n\u001b[1;32m---> 30\u001b[1;33m             \u001b[0mconvert_docx_to_pdf\u001b[0m\u001b[1;33m(\u001b[0m\u001b[0mdocx_path\u001b[0m\u001b[1;33m,\u001b[0m \u001b[0mtmp_pdf_file\u001b[0m\u001b[1;33m.\u001b[0m\u001b[0mname\u001b[0m\u001b[1;33m)\u001b[0m\u001b[1;33m\u001b[0m\u001b[1;33m\u001b[0m\u001b[0m\n\u001b[0m\u001b[0;32m     31\u001b[0m             \u001b[1;32mreturn\u001b[0m \u001b[0mextract_title_from_pdf\u001b[0m\u001b[1;33m(\u001b[0m\u001b[0mtmp_pdf_file\u001b[0m\u001b[1;33m.\u001b[0m\u001b[0mname\u001b[0m\u001b[1;33m)\u001b[0m\u001b[1;33m\u001b[0m\u001b[1;33m\u001b[0m\u001b[0m\n\u001b[0;32m     32\u001b[0m     \u001b[1;32mexcept\u001b[0m \u001b[0mKeyError\u001b[0m \u001b[1;32mas\u001b[0m \u001b[0me\u001b[0m\u001b[1;33m:\u001b[0m\u001b[1;33m\u001b[0m\u001b[1;33m\u001b[0m\u001b[0m\n",
      "\u001b[1;32m~\\AppData\\Local\\Programs\\ArcGIS\\Pro\\bin\\Python\\envs\\arcgispro-py3\\lib\\site-packages\\docx2pdf\\__init__.py\u001b[0m in \u001b[0;36mconvert\u001b[1;34m(input_path, output_path, keep_active)\u001b[0m\n\u001b[0;32m    104\u001b[0m         \u001b[1;32mreturn\u001b[0m \u001b[0mmacos\u001b[0m\u001b[1;33m(\u001b[0m\u001b[0mpaths\u001b[0m\u001b[1;33m,\u001b[0m \u001b[0mkeep_active\u001b[0m\u001b[1;33m)\u001b[0m\u001b[1;33m\u001b[0m\u001b[1;33m\u001b[0m\u001b[0m\n\u001b[0;32m    105\u001b[0m     \u001b[1;32melif\u001b[0m \u001b[0msys\u001b[0m\u001b[1;33m.\u001b[0m\u001b[0mplatform\u001b[0m \u001b[1;33m==\u001b[0m \u001b[1;34m\"win32\"\u001b[0m\u001b[1;33m:\u001b[0m\u001b[1;33m\u001b[0m\u001b[1;33m\u001b[0m\u001b[0m\n\u001b[1;32m--> 106\u001b[1;33m         \u001b[1;32mreturn\u001b[0m \u001b[0mwindows\u001b[0m\u001b[1;33m(\u001b[0m\u001b[0mpaths\u001b[0m\u001b[1;33m,\u001b[0m \u001b[0mkeep_active\u001b[0m\u001b[1;33m)\u001b[0m\u001b[1;33m\u001b[0m\u001b[1;33m\u001b[0m\u001b[0m\n\u001b[0m\u001b[0;32m    107\u001b[0m     \u001b[1;32melse\u001b[0m\u001b[1;33m:\u001b[0m\u001b[1;33m\u001b[0m\u001b[1;33m\u001b[0m\u001b[0m\n\u001b[0;32m    108\u001b[0m         raise NotImplementedError(\n",
      "\u001b[1;32m~\\AppData\\Local\\Programs\\ArcGIS\\Pro\\bin\\Python\\envs\\arcgispro-py3\\lib\\site-packages\\docx2pdf\\__init__.py\u001b[0m in \u001b[0;36mwindows\u001b[1;34m(paths, keep_active)\u001b[0m\n\u001b[0;32m     31\u001b[0m         \u001b[0mpdf_filepath\u001b[0m \u001b[1;33m=\u001b[0m \u001b[0mPath\u001b[0m\u001b[1;33m(\u001b[0m\u001b[0mpaths\u001b[0m\u001b[1;33m[\u001b[0m\u001b[1;34m\"output\"\u001b[0m\u001b[1;33m]\u001b[0m\u001b[1;33m)\u001b[0m\u001b[1;33m.\u001b[0m\u001b[0mresolve\u001b[0m\u001b[1;33m(\u001b[0m\u001b[1;33m)\u001b[0m\u001b[1;33m\u001b[0m\u001b[1;33m\u001b[0m\u001b[0m\n\u001b[0;32m     32\u001b[0m         \u001b[0mdoc\u001b[0m \u001b[1;33m=\u001b[0m \u001b[0mword\u001b[0m\u001b[1;33m.\u001b[0m\u001b[0mDocuments\u001b[0m\u001b[1;33m.\u001b[0m\u001b[0mOpen\u001b[0m\u001b[1;33m(\u001b[0m\u001b[0mstr\u001b[0m\u001b[1;33m(\u001b[0m\u001b[0mdocx_filepath\u001b[0m\u001b[1;33m)\u001b[0m\u001b[1;33m)\u001b[0m\u001b[1;33m\u001b[0m\u001b[1;33m\u001b[0m\u001b[0m\n\u001b[1;32m---> 33\u001b[1;33m         \u001b[0mdoc\u001b[0m\u001b[1;33m.\u001b[0m\u001b[0mSaveAs\u001b[0m\u001b[1;33m(\u001b[0m\u001b[0mstr\u001b[0m\u001b[1;33m(\u001b[0m\u001b[0mpdf_filepath\u001b[0m\u001b[1;33m)\u001b[0m\u001b[1;33m,\u001b[0m \u001b[0mFileFormat\u001b[0m\u001b[1;33m=\u001b[0m\u001b[0mwdFormatPDF\u001b[0m\u001b[1;33m)\u001b[0m\u001b[1;33m\u001b[0m\u001b[1;33m\u001b[0m\u001b[0m\n\u001b[0m\u001b[0;32m     34\u001b[0m         \u001b[0mdoc\u001b[0m\u001b[1;33m.\u001b[0m\u001b[0mClose\u001b[0m\u001b[1;33m(\u001b[0m\u001b[1;36m0\u001b[0m\u001b[1;33m)\u001b[0m\u001b[1;33m\u001b[0m\u001b[1;33m\u001b[0m\u001b[0m\n\u001b[0;32m     35\u001b[0m         \u001b[0mpbar\u001b[0m\u001b[1;33m.\u001b[0m\u001b[0mupdate\u001b[0m\u001b[1;33m(\u001b[0m\u001b[1;36m1\u001b[0m\u001b[1;33m)\u001b[0m\u001b[1;33m\u001b[0m\u001b[1;33m\u001b[0m\u001b[0m\n",
      "\u001b[1;32m~\\AppData\\Local\\Programs\\ArcGIS\\Pro\\bin\\Python\\envs\\arcgispro-py3\\lib\\site-packages\\win32com\\client\\dynamic.py\u001b[0m in \u001b[0;36mSaveAs\u001b[1;34m(self, FileName, FileFormat, LockComments, Password, AddToRecentFiles, WritePassword, ReadOnlyRecommended, EmbedTrueTypeFonts, SaveNativePictureFormat, SaveFormsData, SaveAsAOCELetter, Encoding, InsertLineBreaks, AllowSubstitutions, LineEnding, AddBiDiMarks)\u001b[0m\n",
      "\u001b[1;31mcom_error\u001b[0m: (-2147352567, 'Exception occurred.', (0, 'Microsoft Word', 'Command failed', 'wdmain11.chm', 36966, -2146824090), None)"
     ]
    }
   ],
   "source": [
    "import os\n",
    "import tempfile\n",
    "from io import BytesIO\n",
    "from reportlab.lib.pagesizes import letter\n",
    "from reportlab.pdfgen import canvas\n",
    "from docx import Document\n",
    "import pdfplumber\n",
    "from docx2pdf import convert as convert_docx_to_pdf\n",
    "\n",
    "\n",
    "def extract_title_from_pdf(pdf_path):\n",
    "    title = \"\"\n",
    "    with pdfplumber.open(pdf_path) as pdf:\n",
    "        first_page = pdf.pages[0]\n",
    "        first_font_size = None\n",
    "        for obj in first_page.chars:\n",
    "            if not first_font_size:\n",
    "                first_font_size = obj['size']\n",
    "            if obj['size'] == first_font_size:\n",
    "                title += obj['text']\n",
    "            else:\n",
    "                break\n",
    "    return title.strip()\n",
    "\n",
    "\n",
    "def extract_title_from_docx(docx_path):\n",
    "    try:\n",
    "        with tempfile.NamedTemporaryFile(suffix=\".pdf\", delete=False) as tmp_pdf_file:\n",
    "            # Convert DOCX to PDF using docx2pdf\n",
    "            convert_docx_to_pdf(docx_path, tmp_pdf_file.name)\n",
    "            return extract_title_from_pdf(tmp_pdf_file.name)\n",
    "    except KeyError as e:\n",
    "        print(f\"Error extracting title from {docx_path}: {e}\")\n",
    "        return \"Error: Title extraction failed\"\n",
    "\n",
    "\n",
    "def extract_title(file_path):\n",
    "    file_extension = os.path.splitext(file_path)[1].lower()\n",
    "    if file_extension == '.pdf':\n",
    "        return extract_title_from_pdf(file_path)\n",
    "    elif file_extension == '.docx':\n",
    "        return extract_title_from_docx(file_path)\n",
    "    else:\n",
    "        raise ValueError(\"Unsupported file format\")\n",
    "\n",
    "\n",
    "def main():\n",
    "    submissions_folder = 'submissions674'  # Path to the submissions674 folder\n",
    "    for folder_name in os.listdir(submissions_folder):\n",
    "        if folder_name.startswith('.'):\n",
    "            continue  # Skip directories starting with '.'\n",
    "        folder_path = os.path.join(submissions_folder, folder_name)\n",
    "        if os.path.isdir(folder_path):\n",
    "            submission_folder = os.path.join(folder_path, 'Submission')\n",
    "            if os.path.exists(submission_folder):\n",
    "                input_file = None\n",
    "                for file in os.listdir(submission_folder):\n",
    "                    if file.endswith('.pdf') or file.endswith('.docx'):\n",
    "                        input_file = os.path.join(submission_folder, file)\n",
    "                        break\n",
    "                if input_file:\n",
    "                    title = extract_title(input_file)\n",
    "                    print(f\"Folder {folder_name}: Title: {title}\")\n",
    "                else:\n",
    "                    print(f\"Folder {folder_name}: No input file found in Submission folder\")\n",
    "            else:\n",
    "                print(f\"Folder {folder_name}: Submission folder not found\")\n",
    "\n",
    "\n",
    "if __name__ == \"__main__\":\n",
    "    main()\n"
   ]
  },
  {
   "cell_type": "code",
   "execution_count": 34,
   "id": "2aa4bb86",
   "metadata": {},
   "outputs": [
    {
     "name": "stdout",
     "output_type": "stream",
     "text": [
      "Current Count:  45\r"
     ]
    },
    {
     "ename": "KeyboardInterrupt",
     "evalue": "",
     "output_type": "error",
     "traceback": [
      "\u001b[1;31m---------------------------------------------------------------------------\u001b[0m",
      "\u001b[1;31mKeyboardInterrupt\u001b[0m                         Traceback (most recent call last)",
      "\u001b[1;32m~\\AppData\\Local\\Temp\\ipykernel_17260\\4221916869.py\u001b[0m in \u001b[0;36m<cell line: 101>\u001b[1;34m()\u001b[0m\n\u001b[0;32m    100\u001b[0m \u001b[1;33m\u001b[0m\u001b[0m\n\u001b[0;32m    101\u001b[0m \u001b[1;32mif\u001b[0m \u001b[0m__name__\u001b[0m \u001b[1;33m==\u001b[0m \u001b[1;34m\"__main__\"\u001b[0m\u001b[1;33m:\u001b[0m\u001b[1;33m\u001b[0m\u001b[1;33m\u001b[0m\u001b[0m\n\u001b[1;32m--> 102\u001b[1;33m     \u001b[0mmain\u001b[0m\u001b[1;33m(\u001b[0m\u001b[1;33m)\u001b[0m\u001b[1;33m\u001b[0m\u001b[1;33m\u001b[0m\u001b[0m\n\u001b[0m\u001b[0;32m    103\u001b[0m \u001b[1;33m\u001b[0m\u001b[0m\n\u001b[0;32m    104\u001b[0m \u001b[1;33m\u001b[0m\u001b[0m\n",
      "\u001b[1;32m~\\AppData\\Local\\Temp\\ipykernel_17260\\4221916869.py\u001b[0m in \u001b[0;36mmain\u001b[1;34m()\u001b[0m\n\u001b[0;32m     89\u001b[0m                         \u001b[1;32mbreak\u001b[0m\u001b[1;33m\u001b[0m\u001b[1;33m\u001b[0m\u001b[0m\n\u001b[0;32m     90\u001b[0m                 \u001b[1;32mif\u001b[0m \u001b[0minput_file\u001b[0m\u001b[1;33m:\u001b[0m\u001b[1;33m\u001b[0m\u001b[1;33m\u001b[0m\u001b[0m\n\u001b[1;32m---> 91\u001b[1;33m                     \u001b[0mtitle\u001b[0m \u001b[1;33m=\u001b[0m \u001b[0mextract_title\u001b[0m\u001b[1;33m(\u001b[0m\u001b[0minput_file\u001b[0m\u001b[1;33m)\u001b[0m\u001b[1;33m\u001b[0m\u001b[1;33m\u001b[0m\u001b[0m\n\u001b[0m\u001b[0;32m     92\u001b[0m                     \u001b[1;31m#print(f\"Folder {folder_name}: Title: {title}\")\u001b[0m\u001b[1;33m\u001b[0m\u001b[1;33m\u001b[0m\u001b[0m\n\u001b[0;32m     93\u001b[0m                 \u001b[1;32melse\u001b[0m\u001b[1;33m:\u001b[0m\u001b[1;33m\u001b[0m\u001b[1;33m\u001b[0m\u001b[0m\n",
      "\u001b[1;32m~\\AppData\\Local\\Temp\\ipykernel_17260\\4221916869.py\u001b[0m in \u001b[0;36mextract_title\u001b[1;34m(file_path)\u001b[0m\n\u001b[0;32m     66\u001b[0m     \u001b[0mfile_extension\u001b[0m \u001b[1;33m=\u001b[0m \u001b[0mos\u001b[0m\u001b[1;33m.\u001b[0m\u001b[0mpath\u001b[0m\u001b[1;33m.\u001b[0m\u001b[0msplitext\u001b[0m\u001b[1;33m(\u001b[0m\u001b[0mfile_path\u001b[0m\u001b[1;33m)\u001b[0m\u001b[1;33m[\u001b[0m\u001b[1;36m1\u001b[0m\u001b[1;33m]\u001b[0m\u001b[1;33m.\u001b[0m\u001b[0mlower\u001b[0m\u001b[1;33m(\u001b[0m\u001b[1;33m)\u001b[0m\u001b[1;33m\u001b[0m\u001b[1;33m\u001b[0m\u001b[0m\n\u001b[0;32m     67\u001b[0m     \u001b[1;32mif\u001b[0m \u001b[0mfile_extension\u001b[0m \u001b[1;33m==\u001b[0m \u001b[1;34m'.pdf'\u001b[0m\u001b[1;33m:\u001b[0m\u001b[1;33m\u001b[0m\u001b[1;33m\u001b[0m\u001b[0m\n\u001b[1;32m---> 68\u001b[1;33m         \u001b[1;32mreturn\u001b[0m \u001b[0mextract_title_from_pdf\u001b[0m\u001b[1;33m(\u001b[0m\u001b[0mfile_path\u001b[0m\u001b[1;33m)\u001b[0m\u001b[1;33m\u001b[0m\u001b[1;33m\u001b[0m\u001b[0m\n\u001b[0m\u001b[0;32m     69\u001b[0m     \u001b[1;32melif\u001b[0m \u001b[0mfile_extension\u001b[0m \u001b[1;33m==\u001b[0m \u001b[1;34m'.docx'\u001b[0m\u001b[1;33m:\u001b[0m\u001b[1;33m\u001b[0m\u001b[1;33m\u001b[0m\u001b[0m\n\u001b[0;32m     70\u001b[0m         \u001b[1;32mreturn\u001b[0m \u001b[0mextract_title_from_docx\u001b[0m\u001b[1;33m(\u001b[0m\u001b[0mfile_path\u001b[0m\u001b[1;33m)\u001b[0m\u001b[1;33m\u001b[0m\u001b[1;33m\u001b[0m\u001b[0m\n",
      "\u001b[1;32m~\\AppData\\Local\\Temp\\ipykernel_17260\\4221916869.py\u001b[0m in \u001b[0;36mextract_title_from_pdf\u001b[1;34m(pdf_path)\u001b[0m\n\u001b[0;32m     29\u001b[0m         \u001b[0mfirst_page\u001b[0m \u001b[1;33m=\u001b[0m \u001b[0mpdf\u001b[0m\u001b[1;33m.\u001b[0m\u001b[0mpages\u001b[0m\u001b[1;33m[\u001b[0m\u001b[1;36m0\u001b[0m\u001b[1;33m]\u001b[0m\u001b[1;33m\u001b[0m\u001b[1;33m\u001b[0m\u001b[0m\n\u001b[0;32m     30\u001b[0m         \u001b[0mfirst_font_size\u001b[0m \u001b[1;33m=\u001b[0m \u001b[1;32mNone\u001b[0m\u001b[1;33m\u001b[0m\u001b[1;33m\u001b[0m\u001b[0m\n\u001b[1;32m---> 31\u001b[1;33m         \u001b[1;32mfor\u001b[0m \u001b[0mobj\u001b[0m \u001b[1;32min\u001b[0m \u001b[0mfirst_page\u001b[0m\u001b[1;33m.\u001b[0m\u001b[0mchars\u001b[0m\u001b[1;33m:\u001b[0m\u001b[1;33m\u001b[0m\u001b[1;33m\u001b[0m\u001b[0m\n\u001b[0m\u001b[0;32m     32\u001b[0m             \u001b[1;32mif\u001b[0m \u001b[1;32mnot\u001b[0m \u001b[0mfirst_font_size\u001b[0m\u001b[1;33m:\u001b[0m\u001b[1;33m\u001b[0m\u001b[1;33m\u001b[0m\u001b[0m\n\u001b[0;32m     33\u001b[0m                 \u001b[0mfirst_font_size\u001b[0m \u001b[1;33m=\u001b[0m \u001b[0mobj\u001b[0m\u001b[1;33m[\u001b[0m\u001b[1;34m'size'\u001b[0m\u001b[1;33m]\u001b[0m\u001b[1;33m\u001b[0m\u001b[1;33m\u001b[0m\u001b[0m\n",
      "\u001b[1;32m~\\AppData\\Local\\Programs\\ArcGIS\\Pro\\bin\\Python\\envs\\arcgispro-py3\\lib\\site-packages\\pdfplumber\\container.py\u001b[0m in \u001b[0;36mchars\u001b[1;34m(self)\u001b[0m\n\u001b[0;32m     48\u001b[0m     \u001b[1;33m@\u001b[0m\u001b[0mproperty\u001b[0m\u001b[1;33m\u001b[0m\u001b[1;33m\u001b[0m\u001b[0m\n\u001b[0;32m     49\u001b[0m     \u001b[1;32mdef\u001b[0m \u001b[0mchars\u001b[0m\u001b[1;33m(\u001b[0m\u001b[0mself\u001b[0m\u001b[1;33m)\u001b[0m \u001b[1;33m->\u001b[0m \u001b[0mT_obj_list\u001b[0m\u001b[1;33m:\u001b[0m\u001b[1;33m\u001b[0m\u001b[1;33m\u001b[0m\u001b[0m\n\u001b[1;32m---> 50\u001b[1;33m         \u001b[1;32mreturn\u001b[0m \u001b[0mself\u001b[0m\u001b[1;33m.\u001b[0m\u001b[0mobjects\u001b[0m\u001b[1;33m.\u001b[0m\u001b[0mget\u001b[0m\u001b[1;33m(\u001b[0m\u001b[1;34m\"char\"\u001b[0m\u001b[1;33m,\u001b[0m \u001b[1;33m[\u001b[0m\u001b[1;33m]\u001b[0m\u001b[1;33m)\u001b[0m\u001b[1;33m\u001b[0m\u001b[1;33m\u001b[0m\u001b[0m\n\u001b[0m\u001b[0;32m     51\u001b[0m \u001b[1;33m\u001b[0m\u001b[0m\n\u001b[0;32m     52\u001b[0m     \u001b[1;33m@\u001b[0m\u001b[0mproperty\u001b[0m\u001b[1;33m\u001b[0m\u001b[1;33m\u001b[0m\u001b[0m\n",
      "\u001b[1;32m~\\AppData\\Local\\Programs\\ArcGIS\\Pro\\bin\\Python\\envs\\arcgispro-py3\\lib\\site-packages\\pdfplumber\\page.py\u001b[0m in \u001b[0;36mobjects\u001b[1;34m(self)\u001b[0m\n\u001b[0;32m    327\u001b[0m         \u001b[1;32mif\u001b[0m \u001b[0mhasattr\u001b[0m\u001b[1;33m(\u001b[0m\u001b[0mself\u001b[0m\u001b[1;33m,\u001b[0m \u001b[1;34m\"_objects\"\u001b[0m\u001b[1;33m)\u001b[0m\u001b[1;33m:\u001b[0m\u001b[1;33m\u001b[0m\u001b[1;33m\u001b[0m\u001b[0m\n\u001b[0;32m    328\u001b[0m             \u001b[1;32mreturn\u001b[0m \u001b[0mself\u001b[0m\u001b[1;33m.\u001b[0m\u001b[0m_objects\u001b[0m\u001b[1;33m\u001b[0m\u001b[1;33m\u001b[0m\u001b[0m\n\u001b[1;32m--> 329\u001b[1;33m         \u001b[0mself\u001b[0m\u001b[1;33m.\u001b[0m\u001b[0m_objects\u001b[0m\u001b[1;33m:\u001b[0m \u001b[0mDict\u001b[0m\u001b[1;33m[\u001b[0m\u001b[0mstr\u001b[0m\u001b[1;33m,\u001b[0m \u001b[0mT_obj_list\u001b[0m\u001b[1;33m]\u001b[0m \u001b[1;33m=\u001b[0m \u001b[0mself\u001b[0m\u001b[1;33m.\u001b[0m\u001b[0mparse_objects\u001b[0m\u001b[1;33m(\u001b[0m\u001b[1;33m)\u001b[0m\u001b[1;33m\u001b[0m\u001b[1;33m\u001b[0m\u001b[0m\n\u001b[0m\u001b[0;32m    330\u001b[0m         \u001b[1;32mreturn\u001b[0m \u001b[0mself\u001b[0m\u001b[1;33m.\u001b[0m\u001b[0m_objects\u001b[0m\u001b[1;33m\u001b[0m\u001b[1;33m\u001b[0m\u001b[0m\n\u001b[0;32m    331\u001b[0m \u001b[1;33m\u001b[0m\u001b[0m\n",
      "\u001b[1;32m~\\AppData\\Local\\Programs\\ArcGIS\\Pro\\bin\\Python\\envs\\arcgispro-py3\\lib\\site-packages\\pdfplumber\\page.py\u001b[0m in \u001b[0;36mparse_objects\u001b[1;34m(self)\u001b[0m\n\u001b[0;32m    416\u001b[0m     \u001b[1;32mdef\u001b[0m \u001b[0mparse_objects\u001b[0m\u001b[1;33m(\u001b[0m\u001b[0mself\u001b[0m\u001b[1;33m)\u001b[0m \u001b[1;33m->\u001b[0m \u001b[0mDict\u001b[0m\u001b[1;33m[\u001b[0m\u001b[0mstr\u001b[0m\u001b[1;33m,\u001b[0m \u001b[0mT_obj_list\u001b[0m\u001b[1;33m]\u001b[0m\u001b[1;33m:\u001b[0m\u001b[1;33m\u001b[0m\u001b[1;33m\u001b[0m\u001b[0m\n\u001b[0;32m    417\u001b[0m         \u001b[0mobjects\u001b[0m\u001b[1;33m:\u001b[0m \u001b[0mDict\u001b[0m\u001b[1;33m[\u001b[0m\u001b[0mstr\u001b[0m\u001b[1;33m,\u001b[0m \u001b[0mT_obj_list\u001b[0m\u001b[1;33m]\u001b[0m \u001b[1;33m=\u001b[0m \u001b[1;33m{\u001b[0m\u001b[1;33m}\u001b[0m\u001b[1;33m\u001b[0m\u001b[1;33m\u001b[0m\u001b[0m\n\u001b[1;32m--> 418\u001b[1;33m         \u001b[1;32mfor\u001b[0m \u001b[0mobj\u001b[0m \u001b[1;32min\u001b[0m \u001b[0mself\u001b[0m\u001b[1;33m.\u001b[0m\u001b[0miter_layout_objects\u001b[0m\u001b[1;33m(\u001b[0m\u001b[0mself\u001b[0m\u001b[1;33m.\u001b[0m\u001b[0mlayout\u001b[0m\u001b[1;33m.\u001b[0m\u001b[0m_objs\u001b[0m\u001b[1;33m)\u001b[0m\u001b[1;33m:\u001b[0m\u001b[1;33m\u001b[0m\u001b[1;33m\u001b[0m\u001b[0m\n\u001b[0m\u001b[0;32m    419\u001b[0m             \u001b[0mkind\u001b[0m \u001b[1;33m=\u001b[0m \u001b[0mobj\u001b[0m\u001b[1;33m[\u001b[0m\u001b[1;34m\"object_type\"\u001b[0m\u001b[1;33m]\u001b[0m\u001b[1;33m\u001b[0m\u001b[1;33m\u001b[0m\u001b[0m\n\u001b[0;32m    420\u001b[0m             \u001b[1;32mif\u001b[0m \u001b[0mkind\u001b[0m \u001b[1;32min\u001b[0m \u001b[1;33m[\u001b[0m\u001b[1;34m\"anno\"\u001b[0m\u001b[1;33m]\u001b[0m\u001b[1;33m:\u001b[0m\u001b[1;33m\u001b[0m\u001b[1;33m\u001b[0m\u001b[0m\n",
      "\u001b[1;32m~\\AppData\\Local\\Programs\\ArcGIS\\Pro\\bin\\Python\\envs\\arcgispro-py3\\lib\\site-packages\\pdfplumber\\page.py\u001b[0m in \u001b[0;36mlayout\u001b[1;34m(self)\u001b[0m\n\u001b[0;32m    273\u001b[0m         )\n\u001b[0;32m    274\u001b[0m         \u001b[0minterpreter\u001b[0m \u001b[1;33m=\u001b[0m \u001b[0mPDFPageInterpreter\u001b[0m\u001b[1;33m(\u001b[0m\u001b[0mself\u001b[0m\u001b[1;33m.\u001b[0m\u001b[0mpdf\u001b[0m\u001b[1;33m.\u001b[0m\u001b[0mrsrcmgr\u001b[0m\u001b[1;33m,\u001b[0m \u001b[0mdevice\u001b[0m\u001b[1;33m)\u001b[0m\u001b[1;33m\u001b[0m\u001b[1;33m\u001b[0m\u001b[0m\n\u001b[1;32m--> 275\u001b[1;33m         \u001b[0minterpreter\u001b[0m\u001b[1;33m.\u001b[0m\u001b[0mprocess_page\u001b[0m\u001b[1;33m(\u001b[0m\u001b[0mself\u001b[0m\u001b[1;33m.\u001b[0m\u001b[0mpage_obj\u001b[0m\u001b[1;33m)\u001b[0m\u001b[1;33m\u001b[0m\u001b[1;33m\u001b[0m\u001b[0m\n\u001b[0m\u001b[0;32m    276\u001b[0m         \u001b[0mself\u001b[0m\u001b[1;33m.\u001b[0m\u001b[0m_layout\u001b[0m\u001b[1;33m:\u001b[0m \u001b[0mLTPage\u001b[0m \u001b[1;33m=\u001b[0m \u001b[0mdevice\u001b[0m\u001b[1;33m.\u001b[0m\u001b[0mget_result\u001b[0m\u001b[1;33m(\u001b[0m\u001b[1;33m)\u001b[0m\u001b[1;33m\u001b[0m\u001b[1;33m\u001b[0m\u001b[0m\n\u001b[0;32m    277\u001b[0m         \u001b[1;32mreturn\u001b[0m \u001b[0mself\u001b[0m\u001b[1;33m.\u001b[0m\u001b[0m_layout\u001b[0m\u001b[1;33m\u001b[0m\u001b[1;33m\u001b[0m\u001b[0m\n",
      "\u001b[1;32m~\\AppData\\Local\\Programs\\ArcGIS\\Pro\\bin\\Python\\envs\\arcgispro-py3\\lib\\site-packages\\pdfminer\\pdfinterp.py\u001b[0m in \u001b[0;36mprocess_page\u001b[1;34m(self, page)\u001b[0m\n\u001b[0;32m    995\u001b[0m             \u001b[0mctm\u001b[0m \u001b[1;33m=\u001b[0m \u001b[1;33m(\u001b[0m\u001b[1;36m1\u001b[0m\u001b[1;33m,\u001b[0m \u001b[1;36m0\u001b[0m\u001b[1;33m,\u001b[0m \u001b[1;36m0\u001b[0m\u001b[1;33m,\u001b[0m \u001b[1;36m1\u001b[0m\u001b[1;33m,\u001b[0m \u001b[1;33m-\u001b[0m\u001b[0mx0\u001b[0m\u001b[1;33m,\u001b[0m \u001b[1;33m-\u001b[0m\u001b[0my0\u001b[0m\u001b[1;33m)\u001b[0m\u001b[1;33m\u001b[0m\u001b[1;33m\u001b[0m\u001b[0m\n\u001b[0;32m    996\u001b[0m         \u001b[0mself\u001b[0m\u001b[1;33m.\u001b[0m\u001b[0mdevice\u001b[0m\u001b[1;33m.\u001b[0m\u001b[0mbegin_page\u001b[0m\u001b[1;33m(\u001b[0m\u001b[0mpage\u001b[0m\u001b[1;33m,\u001b[0m \u001b[0mctm\u001b[0m\u001b[1;33m)\u001b[0m\u001b[1;33m\u001b[0m\u001b[1;33m\u001b[0m\u001b[0m\n\u001b[1;32m--> 997\u001b[1;33m         \u001b[0mself\u001b[0m\u001b[1;33m.\u001b[0m\u001b[0mrender_contents\u001b[0m\u001b[1;33m(\u001b[0m\u001b[0mpage\u001b[0m\u001b[1;33m.\u001b[0m\u001b[0mresources\u001b[0m\u001b[1;33m,\u001b[0m \u001b[0mpage\u001b[0m\u001b[1;33m.\u001b[0m\u001b[0mcontents\u001b[0m\u001b[1;33m,\u001b[0m \u001b[0mctm\u001b[0m\u001b[1;33m=\u001b[0m\u001b[0mctm\u001b[0m\u001b[1;33m)\u001b[0m\u001b[1;33m\u001b[0m\u001b[1;33m\u001b[0m\u001b[0m\n\u001b[0m\u001b[0;32m    998\u001b[0m         \u001b[0mself\u001b[0m\u001b[1;33m.\u001b[0m\u001b[0mdevice\u001b[0m\u001b[1;33m.\u001b[0m\u001b[0mend_page\u001b[0m\u001b[1;33m(\u001b[0m\u001b[0mpage\u001b[0m\u001b[1;33m)\u001b[0m\u001b[1;33m\u001b[0m\u001b[1;33m\u001b[0m\u001b[0m\n\u001b[0;32m    999\u001b[0m         \u001b[1;32mreturn\u001b[0m\u001b[1;33m\u001b[0m\u001b[1;33m\u001b[0m\u001b[0m\n",
      "\u001b[1;32m~\\AppData\\Local\\Programs\\ArcGIS\\Pro\\bin\\Python\\envs\\arcgispro-py3\\lib\\site-packages\\pdfminer\\pdfinterp.py\u001b[0m in \u001b[0;36mrender_contents\u001b[1;34m(self, resources, streams, ctm)\u001b[0m\n\u001b[0;32m   1014\u001b[0m         \u001b[0mself\u001b[0m\u001b[1;33m.\u001b[0m\u001b[0minit_resources\u001b[0m\u001b[1;33m(\u001b[0m\u001b[0mresources\u001b[0m\u001b[1;33m)\u001b[0m\u001b[1;33m\u001b[0m\u001b[1;33m\u001b[0m\u001b[0m\n\u001b[0;32m   1015\u001b[0m         \u001b[0mself\u001b[0m\u001b[1;33m.\u001b[0m\u001b[0minit_state\u001b[0m\u001b[1;33m(\u001b[0m\u001b[0mctm\u001b[0m\u001b[1;33m)\u001b[0m\u001b[1;33m\u001b[0m\u001b[1;33m\u001b[0m\u001b[0m\n\u001b[1;32m-> 1016\u001b[1;33m         \u001b[0mself\u001b[0m\u001b[1;33m.\u001b[0m\u001b[0mexecute\u001b[0m\u001b[1;33m(\u001b[0m\u001b[0mlist_value\u001b[0m\u001b[1;33m(\u001b[0m\u001b[0mstreams\u001b[0m\u001b[1;33m)\u001b[0m\u001b[1;33m)\u001b[0m\u001b[1;33m\u001b[0m\u001b[1;33m\u001b[0m\u001b[0m\n\u001b[0m\u001b[0;32m   1017\u001b[0m         \u001b[1;32mreturn\u001b[0m\u001b[1;33m\u001b[0m\u001b[1;33m\u001b[0m\u001b[0m\n\u001b[0;32m   1018\u001b[0m \u001b[1;33m\u001b[0m\u001b[0m\n",
      "\u001b[1;32m~\\AppData\\Local\\Programs\\ArcGIS\\Pro\\bin\\Python\\envs\\arcgispro-py3\\lib\\site-packages\\pdfminer\\pdfinterp.py\u001b[0m in \u001b[0;36mexecute\u001b[1;34m(self, streams)\u001b[0m\n\u001b[0;32m   1025\u001b[0m         \u001b[1;32mwhile\u001b[0m \u001b[1;36m1\u001b[0m\u001b[1;33m:\u001b[0m\u001b[1;33m\u001b[0m\u001b[1;33m\u001b[0m\u001b[0m\n\u001b[0;32m   1026\u001b[0m             \u001b[1;32mtry\u001b[0m\u001b[1;33m:\u001b[0m\u001b[1;33m\u001b[0m\u001b[1;33m\u001b[0m\u001b[0m\n\u001b[1;32m-> 1027\u001b[1;33m                 \u001b[1;33m(\u001b[0m\u001b[0m_\u001b[0m\u001b[1;33m,\u001b[0m \u001b[0mobj\u001b[0m\u001b[1;33m)\u001b[0m \u001b[1;33m=\u001b[0m \u001b[0mparser\u001b[0m\u001b[1;33m.\u001b[0m\u001b[0mnextobject\u001b[0m\u001b[1;33m(\u001b[0m\u001b[1;33m)\u001b[0m\u001b[1;33m\u001b[0m\u001b[1;33m\u001b[0m\u001b[0m\n\u001b[0m\u001b[0;32m   1028\u001b[0m             \u001b[1;32mexcept\u001b[0m \u001b[0mPSEOF\u001b[0m\u001b[1;33m:\u001b[0m\u001b[1;33m\u001b[0m\u001b[1;33m\u001b[0m\u001b[0m\n\u001b[0;32m   1029\u001b[0m                 \u001b[1;32mbreak\u001b[0m\u001b[1;33m\u001b[0m\u001b[1;33m\u001b[0m\u001b[0m\n",
      "\u001b[1;32m~\\AppData\\Local\\Programs\\ArcGIS\\Pro\\bin\\Python\\envs\\arcgispro-py3\\lib\\site-packages\\pdfminer\\psparser.py\u001b[0m in \u001b[0;36mnextobject\u001b[1;34m(self)\u001b[0m\n\u001b[0;32m    607\u001b[0m         \"\"\"\n\u001b[0;32m    608\u001b[0m         \u001b[1;32mwhile\u001b[0m \u001b[1;32mnot\u001b[0m \u001b[0mself\u001b[0m\u001b[1;33m.\u001b[0m\u001b[0mresults\u001b[0m\u001b[1;33m:\u001b[0m\u001b[1;33m\u001b[0m\u001b[1;33m\u001b[0m\u001b[0m\n\u001b[1;32m--> 609\u001b[1;33m             \u001b[1;33m(\u001b[0m\u001b[0mpos\u001b[0m\u001b[1;33m,\u001b[0m \u001b[0mtoken\u001b[0m\u001b[1;33m)\u001b[0m \u001b[1;33m=\u001b[0m \u001b[0mself\u001b[0m\u001b[1;33m.\u001b[0m\u001b[0mnexttoken\u001b[0m\u001b[1;33m(\u001b[0m\u001b[1;33m)\u001b[0m\u001b[1;33m\u001b[0m\u001b[1;33m\u001b[0m\u001b[0m\n\u001b[0m\u001b[0;32m    610\u001b[0m             \u001b[1;32mif\u001b[0m \u001b[0misinstance\u001b[0m\u001b[1;33m(\u001b[0m\u001b[0mtoken\u001b[0m\u001b[1;33m,\u001b[0m \u001b[1;33m(\u001b[0m\u001b[0mint\u001b[0m\u001b[1;33m,\u001b[0m \u001b[0mfloat\u001b[0m\u001b[1;33m,\u001b[0m \u001b[0mbool\u001b[0m\u001b[1;33m,\u001b[0m \u001b[0mstr\u001b[0m\u001b[1;33m,\u001b[0m \u001b[0mbytes\u001b[0m\u001b[1;33m,\u001b[0m \u001b[0mPSLiteral\u001b[0m\u001b[1;33m)\u001b[0m\u001b[1;33m)\u001b[0m\u001b[1;33m:\u001b[0m\u001b[1;33m\u001b[0m\u001b[1;33m\u001b[0m\u001b[0m\n\u001b[0;32m    611\u001b[0m                 \u001b[1;31m# normal token\u001b[0m\u001b[1;33m\u001b[0m\u001b[1;33m\u001b[0m\u001b[0m\n",
      "\u001b[1;32m~\\AppData\\Local\\Programs\\ArcGIS\\Pro\\bin\\Python\\envs\\arcgispro-py3\\lib\\site-packages\\pdfminer\\psparser.py\u001b[0m in \u001b[0;36mnexttoken\u001b[1;34m(self)\u001b[0m\n\u001b[0;32m    527\u001b[0m             \u001b[0mself\u001b[0m\u001b[1;33m.\u001b[0m\u001b[0mcharpos\u001b[0m \u001b[1;33m=\u001b[0m \u001b[0mself\u001b[0m\u001b[1;33m.\u001b[0m\u001b[0m_parse1\u001b[0m\u001b[1;33m(\u001b[0m\u001b[0mself\u001b[0m\u001b[1;33m.\u001b[0m\u001b[0mbuf\u001b[0m\u001b[1;33m,\u001b[0m \u001b[0mself\u001b[0m\u001b[1;33m.\u001b[0m\u001b[0mcharpos\u001b[0m\u001b[1;33m)\u001b[0m\u001b[1;33m\u001b[0m\u001b[1;33m\u001b[0m\u001b[0m\n\u001b[0;32m    528\u001b[0m         \u001b[0mtoken\u001b[0m \u001b[1;33m=\u001b[0m \u001b[0mself\u001b[0m\u001b[1;33m.\u001b[0m\u001b[0m_tokens\u001b[0m\u001b[1;33m.\u001b[0m\u001b[0mpop\u001b[0m\u001b[1;33m(\u001b[0m\u001b[1;36m0\u001b[0m\u001b[1;33m)\u001b[0m\u001b[1;33m\u001b[0m\u001b[1;33m\u001b[0m\u001b[0m\n\u001b[1;32m--> 529\u001b[1;33m         \u001b[0mlog\u001b[0m\u001b[1;33m.\u001b[0m\u001b[0mdebug\u001b[0m\u001b[1;33m(\u001b[0m\u001b[1;34m\"nexttoken: %r\"\u001b[0m\u001b[1;33m,\u001b[0m \u001b[0mtoken\u001b[0m\u001b[1;33m)\u001b[0m\u001b[1;33m\u001b[0m\u001b[1;33m\u001b[0m\u001b[0m\n\u001b[0m\u001b[0;32m    530\u001b[0m         \u001b[1;32mreturn\u001b[0m \u001b[0mtoken\u001b[0m\u001b[1;33m\u001b[0m\u001b[1;33m\u001b[0m\u001b[0m\n\u001b[0;32m    531\u001b[0m \u001b[1;33m\u001b[0m\u001b[0m\n",
      "\u001b[1;32m~\\AppData\\Local\\Programs\\ArcGIS\\Pro\\bin\\Python\\envs\\arcgispro-py3\\lib\\logging\\__init__.py\u001b[0m in \u001b[0;36mdebug\u001b[1;34m(self, msg, *args, **kwargs)\u001b[0m\n\u001b[0;32m   1432\u001b[0m         \"\"\"\n\u001b[0;32m   1433\u001b[0m         \u001b[1;32mif\u001b[0m \u001b[0mself\u001b[0m\u001b[1;33m.\u001b[0m\u001b[0misEnabledFor\u001b[0m\u001b[1;33m(\u001b[0m\u001b[0mDEBUG\u001b[0m\u001b[1;33m)\u001b[0m\u001b[1;33m:\u001b[0m\u001b[1;33m\u001b[0m\u001b[1;33m\u001b[0m\u001b[0m\n\u001b[1;32m-> 1434\u001b[1;33m             \u001b[0mself\u001b[0m\u001b[1;33m.\u001b[0m\u001b[0m_log\u001b[0m\u001b[1;33m(\u001b[0m\u001b[0mDEBUG\u001b[0m\u001b[1;33m,\u001b[0m \u001b[0mmsg\u001b[0m\u001b[1;33m,\u001b[0m \u001b[0margs\u001b[0m\u001b[1;33m,\u001b[0m \u001b[1;33m**\u001b[0m\u001b[0mkwargs\u001b[0m\u001b[1;33m)\u001b[0m\u001b[1;33m\u001b[0m\u001b[1;33m\u001b[0m\u001b[0m\n\u001b[0m\u001b[0;32m   1435\u001b[0m \u001b[1;33m\u001b[0m\u001b[0m\n\u001b[0;32m   1436\u001b[0m     \u001b[1;32mdef\u001b[0m \u001b[0minfo\u001b[0m\u001b[1;33m(\u001b[0m\u001b[0mself\u001b[0m\u001b[1;33m,\u001b[0m \u001b[0mmsg\u001b[0m\u001b[1;33m,\u001b[0m \u001b[1;33m*\u001b[0m\u001b[0margs\u001b[0m\u001b[1;33m,\u001b[0m \u001b[1;33m**\u001b[0m\u001b[0mkwargs\u001b[0m\u001b[1;33m)\u001b[0m\u001b[1;33m:\u001b[0m\u001b[1;33m\u001b[0m\u001b[1;33m\u001b[0m\u001b[0m\n",
      "\u001b[1;32m~\\AppData\\Local\\Programs\\ArcGIS\\Pro\\bin\\Python\\envs\\arcgispro-py3\\lib\\logging\\__init__.py\u001b[0m in \u001b[0;36m_log\u001b[1;34m(self, level, msg, args, exc_info, extra, stack_info, stacklevel)\u001b[0m\n\u001b[0;32m   1587\u001b[0m         record = self.makeRecord(self.name, level, fn, lno, msg, args,\n\u001b[0;32m   1588\u001b[0m                                  exc_info, func, extra, sinfo)\n\u001b[1;32m-> 1589\u001b[1;33m         \u001b[0mself\u001b[0m\u001b[1;33m.\u001b[0m\u001b[0mhandle\u001b[0m\u001b[1;33m(\u001b[0m\u001b[0mrecord\u001b[0m\u001b[1;33m)\u001b[0m\u001b[1;33m\u001b[0m\u001b[1;33m\u001b[0m\u001b[0m\n\u001b[0m\u001b[0;32m   1590\u001b[0m \u001b[1;33m\u001b[0m\u001b[0m\n\u001b[0;32m   1591\u001b[0m     \u001b[1;32mdef\u001b[0m \u001b[0mhandle\u001b[0m\u001b[1;33m(\u001b[0m\u001b[0mself\u001b[0m\u001b[1;33m,\u001b[0m \u001b[0mrecord\u001b[0m\u001b[1;33m)\u001b[0m\u001b[1;33m:\u001b[0m\u001b[1;33m\u001b[0m\u001b[1;33m\u001b[0m\u001b[0m\n",
      "\u001b[1;32m~\\AppData\\Local\\Programs\\ArcGIS\\Pro\\bin\\Python\\envs\\arcgispro-py3\\lib\\logging\\__init__.py\u001b[0m in \u001b[0;36mhandle\u001b[1;34m(self, record)\u001b[0m\n\u001b[0;32m   1597\u001b[0m         \"\"\"\n\u001b[0;32m   1598\u001b[0m         \u001b[1;32mif\u001b[0m \u001b[1;33m(\u001b[0m\u001b[1;32mnot\u001b[0m \u001b[0mself\u001b[0m\u001b[1;33m.\u001b[0m\u001b[0mdisabled\u001b[0m\u001b[1;33m)\u001b[0m \u001b[1;32mand\u001b[0m \u001b[0mself\u001b[0m\u001b[1;33m.\u001b[0m\u001b[0mfilter\u001b[0m\u001b[1;33m(\u001b[0m\u001b[0mrecord\u001b[0m\u001b[1;33m)\u001b[0m\u001b[1;33m:\u001b[0m\u001b[1;33m\u001b[0m\u001b[1;33m\u001b[0m\u001b[0m\n\u001b[1;32m-> 1599\u001b[1;33m             \u001b[0mself\u001b[0m\u001b[1;33m.\u001b[0m\u001b[0mcallHandlers\u001b[0m\u001b[1;33m(\u001b[0m\u001b[0mrecord\u001b[0m\u001b[1;33m)\u001b[0m\u001b[1;33m\u001b[0m\u001b[1;33m\u001b[0m\u001b[0m\n\u001b[0m\u001b[0;32m   1600\u001b[0m \u001b[1;33m\u001b[0m\u001b[0m\n\u001b[0;32m   1601\u001b[0m     \u001b[1;32mdef\u001b[0m \u001b[0maddHandler\u001b[0m\u001b[1;33m(\u001b[0m\u001b[0mself\u001b[0m\u001b[1;33m,\u001b[0m \u001b[0mhdlr\u001b[0m\u001b[1;33m)\u001b[0m\u001b[1;33m:\u001b[0m\u001b[1;33m\u001b[0m\u001b[1;33m\u001b[0m\u001b[0m\n",
      "\u001b[1;32m~\\AppData\\Local\\Programs\\ArcGIS\\Pro\\bin\\Python\\envs\\arcgispro-py3\\lib\\logging\\__init__.py\u001b[0m in \u001b[0;36mcallHandlers\u001b[1;34m(self, record)\u001b[0m\n\u001b[0;32m   1659\u001b[0m                 \u001b[0mfound\u001b[0m \u001b[1;33m=\u001b[0m \u001b[0mfound\u001b[0m \u001b[1;33m+\u001b[0m \u001b[1;36m1\u001b[0m\u001b[1;33m\u001b[0m\u001b[1;33m\u001b[0m\u001b[0m\n\u001b[0;32m   1660\u001b[0m                 \u001b[1;32mif\u001b[0m \u001b[0mrecord\u001b[0m\u001b[1;33m.\u001b[0m\u001b[0mlevelno\u001b[0m \u001b[1;33m>=\u001b[0m \u001b[0mhdlr\u001b[0m\u001b[1;33m.\u001b[0m\u001b[0mlevel\u001b[0m\u001b[1;33m:\u001b[0m\u001b[1;33m\u001b[0m\u001b[1;33m\u001b[0m\u001b[0m\n\u001b[1;32m-> 1661\u001b[1;33m                     \u001b[0mhdlr\u001b[0m\u001b[1;33m.\u001b[0m\u001b[0mhandle\u001b[0m\u001b[1;33m(\u001b[0m\u001b[0mrecord\u001b[0m\u001b[1;33m)\u001b[0m\u001b[1;33m\u001b[0m\u001b[1;33m\u001b[0m\u001b[0m\n\u001b[0m\u001b[0;32m   1662\u001b[0m             \u001b[1;32mif\u001b[0m \u001b[1;32mnot\u001b[0m \u001b[0mc\u001b[0m\u001b[1;33m.\u001b[0m\u001b[0mpropagate\u001b[0m\u001b[1;33m:\u001b[0m\u001b[1;33m\u001b[0m\u001b[1;33m\u001b[0m\u001b[0m\n\u001b[0;32m   1663\u001b[0m                 \u001b[0mc\u001b[0m \u001b[1;33m=\u001b[0m \u001b[1;32mNone\u001b[0m    \u001b[1;31m#break out\u001b[0m\u001b[1;33m\u001b[0m\u001b[1;33m\u001b[0m\u001b[0m\n",
      "\u001b[1;32m~\\AppData\\Local\\Programs\\ArcGIS\\Pro\\bin\\Python\\envs\\arcgispro-py3\\lib\\logging\\__init__.py\u001b[0m in \u001b[0;36mhandle\u001b[1;34m(self, record)\u001b[0m\n\u001b[0;32m    950\u001b[0m             \u001b[0mself\u001b[0m\u001b[1;33m.\u001b[0m\u001b[0macquire\u001b[0m\u001b[1;33m(\u001b[0m\u001b[1;33m)\u001b[0m\u001b[1;33m\u001b[0m\u001b[1;33m\u001b[0m\u001b[0m\n\u001b[0;32m    951\u001b[0m             \u001b[1;32mtry\u001b[0m\u001b[1;33m:\u001b[0m\u001b[1;33m\u001b[0m\u001b[1;33m\u001b[0m\u001b[0m\n\u001b[1;32m--> 952\u001b[1;33m                 \u001b[0mself\u001b[0m\u001b[1;33m.\u001b[0m\u001b[0memit\u001b[0m\u001b[1;33m(\u001b[0m\u001b[0mrecord\u001b[0m\u001b[1;33m)\u001b[0m\u001b[1;33m\u001b[0m\u001b[1;33m\u001b[0m\u001b[0m\n\u001b[0m\u001b[0;32m    953\u001b[0m             \u001b[1;32mfinally\u001b[0m\u001b[1;33m:\u001b[0m\u001b[1;33m\u001b[0m\u001b[1;33m\u001b[0m\u001b[0m\n\u001b[0;32m    954\u001b[0m                 \u001b[0mself\u001b[0m\u001b[1;33m.\u001b[0m\u001b[0mrelease\u001b[0m\u001b[1;33m(\u001b[0m\u001b[1;33m)\u001b[0m\u001b[1;33m\u001b[0m\u001b[1;33m\u001b[0m\u001b[0m\n",
      "\u001b[1;32m~\\AppData\\Local\\Programs\\ArcGIS\\Pro\\bin\\Python\\envs\\arcgispro-py3\\lib\\logging\\__init__.py\u001b[0m in \u001b[0;36memit\u001b[1;34m(self, record)\u001b[0m\n\u001b[0;32m   1185\u001b[0m         \u001b[1;32mif\u001b[0m \u001b[0mself\u001b[0m\u001b[1;33m.\u001b[0m\u001b[0mstream\u001b[0m \u001b[1;32mis\u001b[0m \u001b[1;32mNone\u001b[0m\u001b[1;33m:\u001b[0m\u001b[1;33m\u001b[0m\u001b[1;33m\u001b[0m\u001b[0m\n\u001b[0;32m   1186\u001b[0m             \u001b[0mself\u001b[0m\u001b[1;33m.\u001b[0m\u001b[0mstream\u001b[0m \u001b[1;33m=\u001b[0m \u001b[0mself\u001b[0m\u001b[1;33m.\u001b[0m\u001b[0m_open\u001b[0m\u001b[1;33m(\u001b[0m\u001b[1;33m)\u001b[0m\u001b[1;33m\u001b[0m\u001b[1;33m\u001b[0m\u001b[0m\n\u001b[1;32m-> 1187\u001b[1;33m         \u001b[0mStreamHandler\u001b[0m\u001b[1;33m.\u001b[0m\u001b[0memit\u001b[0m\u001b[1;33m(\u001b[0m\u001b[0mself\u001b[0m\u001b[1;33m,\u001b[0m \u001b[0mrecord\u001b[0m\u001b[1;33m)\u001b[0m\u001b[1;33m\u001b[0m\u001b[1;33m\u001b[0m\u001b[0m\n\u001b[0m\u001b[0;32m   1188\u001b[0m \u001b[1;33m\u001b[0m\u001b[0m\n\u001b[0;32m   1189\u001b[0m     \u001b[1;32mdef\u001b[0m \u001b[0m__repr__\u001b[0m\u001b[1;33m(\u001b[0m\u001b[0mself\u001b[0m\u001b[1;33m)\u001b[0m\u001b[1;33m:\u001b[0m\u001b[1;33m\u001b[0m\u001b[1;33m\u001b[0m\u001b[0m\n",
      "\u001b[1;32m~\\AppData\\Local\\Programs\\ArcGIS\\Pro\\bin\\Python\\envs\\arcgispro-py3\\lib\\logging\\__init__.py\u001b[0m in \u001b[0;36memit\u001b[1;34m(self, record)\u001b[0m\n\u001b[0;32m   1085\u001b[0m             \u001b[1;31m# issue 35046: merged two stream.writes into one.\u001b[0m\u001b[1;33m\u001b[0m\u001b[1;33m\u001b[0m\u001b[0m\n\u001b[0;32m   1086\u001b[0m             \u001b[0mstream\u001b[0m\u001b[1;33m.\u001b[0m\u001b[0mwrite\u001b[0m\u001b[1;33m(\u001b[0m\u001b[0mmsg\u001b[0m \u001b[1;33m+\u001b[0m \u001b[0mself\u001b[0m\u001b[1;33m.\u001b[0m\u001b[0mterminator\u001b[0m\u001b[1;33m)\u001b[0m\u001b[1;33m\u001b[0m\u001b[1;33m\u001b[0m\u001b[0m\n\u001b[1;32m-> 1087\u001b[1;33m             \u001b[0mself\u001b[0m\u001b[1;33m.\u001b[0m\u001b[0mflush\u001b[0m\u001b[1;33m(\u001b[0m\u001b[1;33m)\u001b[0m\u001b[1;33m\u001b[0m\u001b[1;33m\u001b[0m\u001b[0m\n\u001b[0m\u001b[0;32m   1088\u001b[0m         \u001b[1;32mexcept\u001b[0m \u001b[0mRecursionError\u001b[0m\u001b[1;33m:\u001b[0m  \u001b[1;31m# See issue 36272\u001b[0m\u001b[1;33m\u001b[0m\u001b[1;33m\u001b[0m\u001b[0m\n\u001b[0;32m   1089\u001b[0m             \u001b[1;32mraise\u001b[0m\u001b[1;33m\u001b[0m\u001b[1;33m\u001b[0m\u001b[0m\n",
      "\u001b[1;32m~\\AppData\\Local\\Programs\\ArcGIS\\Pro\\bin\\Python\\envs\\arcgispro-py3\\lib\\logging\\__init__.py\u001b[0m in \u001b[0;36mflush\u001b[1;34m(self)\u001b[0m\n\u001b[0;32m   1065\u001b[0m         \u001b[1;32mtry\u001b[0m\u001b[1;33m:\u001b[0m\u001b[1;33m\u001b[0m\u001b[1;33m\u001b[0m\u001b[0m\n\u001b[0;32m   1066\u001b[0m             \u001b[1;32mif\u001b[0m \u001b[0mself\u001b[0m\u001b[1;33m.\u001b[0m\u001b[0mstream\u001b[0m \u001b[1;32mand\u001b[0m \u001b[0mhasattr\u001b[0m\u001b[1;33m(\u001b[0m\u001b[0mself\u001b[0m\u001b[1;33m.\u001b[0m\u001b[0mstream\u001b[0m\u001b[1;33m,\u001b[0m \u001b[1;34m\"flush\"\u001b[0m\u001b[1;33m)\u001b[0m\u001b[1;33m:\u001b[0m\u001b[1;33m\u001b[0m\u001b[1;33m\u001b[0m\u001b[0m\n\u001b[1;32m-> 1067\u001b[1;33m                 \u001b[0mself\u001b[0m\u001b[1;33m.\u001b[0m\u001b[0mstream\u001b[0m\u001b[1;33m.\u001b[0m\u001b[0mflush\u001b[0m\u001b[1;33m(\u001b[0m\u001b[1;33m)\u001b[0m\u001b[1;33m\u001b[0m\u001b[1;33m\u001b[0m\u001b[0m\n\u001b[0m\u001b[0;32m   1068\u001b[0m         \u001b[1;32mfinally\u001b[0m\u001b[1;33m:\u001b[0m\u001b[1;33m\u001b[0m\u001b[1;33m\u001b[0m\u001b[0m\n\u001b[0;32m   1069\u001b[0m             \u001b[0mself\u001b[0m\u001b[1;33m.\u001b[0m\u001b[0mrelease\u001b[0m\u001b[1;33m(\u001b[0m\u001b[1;33m)\u001b[0m\u001b[1;33m\u001b[0m\u001b[1;33m\u001b[0m\u001b[0m\n",
      "\u001b[1;31mKeyboardInterrupt\u001b[0m: "
     ]
    }
   ],
   "source": [
    "import os\n",
    "import tempfile\n",
    "from PyPDF2 import PdfWriter, PdfReader\n",
    "from io import BytesIO\n",
    "from reportlab.lib.pagesizes import letter\n",
    "from reportlab.pdfgen import canvas\n",
    "from docx import Document\n",
    "import pdfplumber\n",
    "import logging\n",
    "\n",
    "count = 0\n",
    "initial = \"/\"\n",
    "\n",
    "# Configure logging\n",
    "logging.basicConfig(filename='conversion.log', level=logging.DEBUG, format='%(asctime)s - %(levelname)s - %(message)s')\n",
    "\n",
    "\n",
    "def extract_title_from_pdf(pdf_path):\n",
    "    global count\n",
    "    global initial\n",
    "    title = \"\"\n",
    "    count +=1\n",
    "    print(\"Current Count: \",count,end=\"\\r\")\n",
    "    initial = \"\\\\\"\n",
    "    #if count %2 != 0:\n",
    "        #initial = \"/\"\n",
    "    #print(\"hello\")\n",
    "    with pdfplumber.open(pdf_path) as pdf:\n",
    "        first_page = pdf.pages[0]\n",
    "        first_font_size = None\n",
    "        for obj in first_page.chars:\n",
    "            if not first_font_size:\n",
    "                first_font_size = obj['size']\n",
    "            if obj['size'] == first_font_size:\n",
    "                title += obj['text']\n",
    "            else:\n",
    "                break\n",
    "    return title.strip()\n",
    "\n",
    "def convert_docx_to_pdf(docx_path, pdf_path):\n",
    "    \n",
    "    doc = Document(docx_path)\n",
    "    output = PdfWriter()\n",
    "    for para in doc.paragraphs:\n",
    "        bio = BytesIO()\n",
    "        c = canvas.Canvas(bio, pagesize=letter)\n",
    "        c.drawString(100, 750, para.text)\n",
    "        c.save()\n",
    "        bio.seek(0)\n",
    "        input_pdf = PdfReader(bio)\n",
    "        for page in input_pdf.pages:\n",
    "            output.add_page(page)\n",
    "    with open(pdf_path, \"wb\") as f:\n",
    "        output.write(f)\n",
    "\n",
    "def extract_title_from_docx(docx_path):\n",
    "    try:\n",
    "        with tempfile.NamedTemporaryFile(suffix=\".pdf\", delete=False) as tmp_pdf_file:\n",
    "            convert_docx_to_pdf(docx_path, tmp_pdf_file.name)\n",
    "            return extract_title_from_pdf(tmp_pdf_file.name)\n",
    "    except Exception as e:\n",
    "        logging.error(f\"Error extracting title from {docx_path}: {e}\")\n",
    "        return \"Error: Title extraction failed\"\n",
    "\n",
    "def extract_title(file_path):\n",
    "    file_extension = os.path.splitext(file_path)[1].lower()\n",
    "    if file_extension == '.pdf':\n",
    "        return extract_title_from_pdf(file_path)\n",
    "    elif file_extension == '.docx':\n",
    "        return extract_title_from_docx(file_path)\n",
    "    else:\n",
    "        raise ValueError(\"Unsupported file format\")\n",
    "\n",
    "def main():\n",
    "    \n",
    "\n",
    "    submissions_folder = 'submissions674'  # Path to the submissions674 folder\n",
    "    for folder_name in os.listdir(submissions_folder):\n",
    "        if folder_name.startswith('.'):\n",
    "            continue  # Skip directories starting with '.'\n",
    "        folder_path = os.path.join(submissions_folder, folder_name)\n",
    "        if os.path.isdir(folder_path):\n",
    "            submission_folder = os.path.join(folder_path, 'Submission')\n",
    "            if os.path.exists(submission_folder):\n",
    "                input_file = None\n",
    "                for file in os.listdir(submission_folder):\n",
    "                    if file.endswith('.pdf') or file.endswith('.docx'):\n",
    "                        input_file = os.path.join(submission_folder, file)\n",
    "                        break\n",
    "                if input_file:\n",
    "                    title = extract_title(input_file)\n",
    "                    #print(f\"Folder {folder_name}: Title: {title}\")\n",
    "                else:\n",
    "                    pass\n",
    "                    #print(f\"Folder {folder_name}: No input file found in Submission folder\")\n",
    "            else:\n",
    "                pass\n",
    "                #print(f\"Folder {folder_name}: Submission folder not found\")\n",
    "\n",
    "                \n",
    "if __name__ == \"__main__\":\n",
    "    main()\n",
    "\n",
    "    \n",
    "    print(\"Count: \", count)"
   ]
  },
  {
   "cell_type": "code",
   "execution_count": 9,
   "id": "c5879723",
   "metadata": {},
   "outputs": [
    {
     "name": "stdout",
     "output_type": "stream",
     "text": [
      "Total DOCX files in submissions674: 191\n",
      "Total PDF files in submissions674: 415\n"
     ]
    },
    {
     "data": {
      "application/vnd.jupyter.widget-view+json": {
       "model_id": "e3304dea6582444687301f70f62e43df",
       "version_major": 2,
       "version_minor": 0
      },
      "text/plain": [
       "  0%|          | 0/1 [00:00<?, ?it/s]"
      ]
     },
     "metadata": {},
     "output_type": "display_data"
    },
    {
     "data": {
      "application/vnd.jupyter.widget-view+json": {
       "model_id": "e488587adee34907b1039bd18151aa7b",
       "version_major": 2,
       "version_minor": 0
      },
      "text/plain": [
       "  0%|          | 0/1 [00:00<?, ?it/s]"
      ]
     },
     "metadata": {},
     "output_type": "display_data"
    },
    {
     "ename": "AttributeError",
     "evalue": "Word.Application.Documents",
     "output_type": "error",
     "traceback": [
      "\u001b[1;31m---------------------------------------------------------------------------\u001b[0m",
      "\u001b[1;31mAttributeError\u001b[0m                            Traceback (most recent call last)",
      "\u001b[1;32m~\\AppData\\Local\\Temp\\ipykernel_17260\\4251746487.py\u001b[0m in \u001b[0;36m<cell line: 27>\u001b[1;34m()\u001b[0m\n\u001b[0;32m     27\u001b[0m \u001b[1;32mif\u001b[0m \u001b[0m__name__\u001b[0m \u001b[1;33m==\u001b[0m \u001b[1;34m\"__main__\"\u001b[0m\u001b[1;33m:\u001b[0m\u001b[1;33m\u001b[0m\u001b[1;33m\u001b[0m\u001b[0m\n\u001b[0;32m     28\u001b[0m     \u001b[0msubmissions_folder\u001b[0m \u001b[1;33m=\u001b[0m \u001b[1;34m'submissions674'\u001b[0m  \u001b[1;31m# Path to the submissions674 folder\u001b[0m\u001b[1;33m\u001b[0m\u001b[1;33m\u001b[0m\u001b[0m\n\u001b[1;32m---> 29\u001b[1;33m     \u001b[0mprocess_submission\u001b[0m\u001b[1;33m(\u001b[0m\u001b[0msubmissions_folder\u001b[0m\u001b[1;33m)\u001b[0m\u001b[1;33m\u001b[0m\u001b[1;33m\u001b[0m\u001b[0m\n\u001b[0m",
      "\u001b[1;32m~\\AppData\\Local\\Temp\\ipykernel_17260\\4251746487.py\u001b[0m in \u001b[0;36mprocess_submission\u001b[1;34m(submission_folder)\u001b[0m\n\u001b[0;32m     19\u001b[0m                     \u001b[1;32mif\u001b[0m \u001b[0mfile\u001b[0m\u001b[1;33m.\u001b[0m\u001b[0mendswith\u001b[0m\u001b[1;33m(\u001b[0m\u001b[1;34m'.docx'\u001b[0m\u001b[1;33m)\u001b[0m\u001b[1;33m:\u001b[0m\u001b[1;33m\u001b[0m\u001b[1;33m\u001b[0m\u001b[0m\n\u001b[0;32m     20\u001b[0m                         \u001b[0minput_file\u001b[0m \u001b[1;33m=\u001b[0m \u001b[0mos\u001b[0m\u001b[1;33m.\u001b[0m\u001b[0mpath\u001b[0m\u001b[1;33m.\u001b[0m\u001b[0mjoin\u001b[0m\u001b[1;33m(\u001b[0m\u001b[0mroot\u001b[0m\u001b[1;33m,\u001b[0m \u001b[0mfile\u001b[0m\u001b[1;33m)\u001b[0m\u001b[1;33m\u001b[0m\u001b[1;33m\u001b[0m\u001b[0m\n\u001b[1;32m---> 21\u001b[1;33m                         \u001b[0mconvert\u001b[0m\u001b[1;33m(\u001b[0m\u001b[0minput_file\u001b[0m\u001b[1;33m)\u001b[0m\u001b[1;33m\u001b[0m\u001b[1;33m\u001b[0m\u001b[0m\n\u001b[0m\u001b[0;32m     22\u001b[0m         \u001b[1;32melse\u001b[0m\u001b[1;33m:\u001b[0m\u001b[1;33m\u001b[0m\u001b[1;33m\u001b[0m\u001b[0m\n\u001b[0;32m     23\u001b[0m             \u001b[0mprint\u001b[0m\u001b[1;33m(\u001b[0m\u001b[1;34m\"No DOCX file found in Submission folder\"\u001b[0m\u001b[1;33m)\u001b[0m\u001b[1;33m\u001b[0m\u001b[1;33m\u001b[0m\u001b[0m\n",
      "\u001b[1;32m~\\AppData\\Local\\Programs\\ArcGIS\\Pro\\bin\\Python\\envs\\arcgispro-py3\\lib\\site-packages\\docx2pdf\\__init__.py\u001b[0m in \u001b[0;36mconvert\u001b[1;34m(input_path, output_path, keep_active)\u001b[0m\n\u001b[0;32m    104\u001b[0m         \u001b[1;32mreturn\u001b[0m \u001b[0mmacos\u001b[0m\u001b[1;33m(\u001b[0m\u001b[0mpaths\u001b[0m\u001b[1;33m,\u001b[0m \u001b[0mkeep_active\u001b[0m\u001b[1;33m)\u001b[0m\u001b[1;33m\u001b[0m\u001b[1;33m\u001b[0m\u001b[0m\n\u001b[0;32m    105\u001b[0m     \u001b[1;32melif\u001b[0m \u001b[0msys\u001b[0m\u001b[1;33m.\u001b[0m\u001b[0mplatform\u001b[0m \u001b[1;33m==\u001b[0m \u001b[1;34m\"win32\"\u001b[0m\u001b[1;33m:\u001b[0m\u001b[1;33m\u001b[0m\u001b[1;33m\u001b[0m\u001b[0m\n\u001b[1;32m--> 106\u001b[1;33m         \u001b[1;32mreturn\u001b[0m \u001b[0mwindows\u001b[0m\u001b[1;33m(\u001b[0m\u001b[0mpaths\u001b[0m\u001b[1;33m,\u001b[0m \u001b[0mkeep_active\u001b[0m\u001b[1;33m)\u001b[0m\u001b[1;33m\u001b[0m\u001b[1;33m\u001b[0m\u001b[0m\n\u001b[0m\u001b[0;32m    107\u001b[0m     \u001b[1;32melse\u001b[0m\u001b[1;33m:\u001b[0m\u001b[1;33m\u001b[0m\u001b[1;33m\u001b[0m\u001b[0m\n\u001b[0;32m    108\u001b[0m         raise NotImplementedError(\n",
      "\u001b[1;32m~\\AppData\\Local\\Programs\\ArcGIS\\Pro\\bin\\Python\\envs\\arcgispro-py3\\lib\\site-packages\\docx2pdf\\__init__.py\u001b[0m in \u001b[0;36mwindows\u001b[1;34m(paths, keep_active)\u001b[0m\n\u001b[0;32m     30\u001b[0m         \u001b[0mdocx_filepath\u001b[0m \u001b[1;33m=\u001b[0m \u001b[0mPath\u001b[0m\u001b[1;33m(\u001b[0m\u001b[0mpaths\u001b[0m\u001b[1;33m[\u001b[0m\u001b[1;34m\"input\"\u001b[0m\u001b[1;33m]\u001b[0m\u001b[1;33m)\u001b[0m\u001b[1;33m.\u001b[0m\u001b[0mresolve\u001b[0m\u001b[1;33m(\u001b[0m\u001b[1;33m)\u001b[0m\u001b[1;33m\u001b[0m\u001b[1;33m\u001b[0m\u001b[0m\n\u001b[0;32m     31\u001b[0m         \u001b[0mpdf_filepath\u001b[0m \u001b[1;33m=\u001b[0m \u001b[0mPath\u001b[0m\u001b[1;33m(\u001b[0m\u001b[0mpaths\u001b[0m\u001b[1;33m[\u001b[0m\u001b[1;34m\"output\"\u001b[0m\u001b[1;33m]\u001b[0m\u001b[1;33m)\u001b[0m\u001b[1;33m.\u001b[0m\u001b[0mresolve\u001b[0m\u001b[1;33m(\u001b[0m\u001b[1;33m)\u001b[0m\u001b[1;33m\u001b[0m\u001b[1;33m\u001b[0m\u001b[0m\n\u001b[1;32m---> 32\u001b[1;33m         \u001b[0mdoc\u001b[0m \u001b[1;33m=\u001b[0m \u001b[0mword\u001b[0m\u001b[1;33m.\u001b[0m\u001b[0mDocuments\u001b[0m\u001b[1;33m.\u001b[0m\u001b[0mOpen\u001b[0m\u001b[1;33m(\u001b[0m\u001b[0mstr\u001b[0m\u001b[1;33m(\u001b[0m\u001b[0mdocx_filepath\u001b[0m\u001b[1;33m)\u001b[0m\u001b[1;33m)\u001b[0m\u001b[1;33m\u001b[0m\u001b[1;33m\u001b[0m\u001b[0m\n\u001b[0m\u001b[0;32m     33\u001b[0m         \u001b[0mdoc\u001b[0m\u001b[1;33m.\u001b[0m\u001b[0mSaveAs\u001b[0m\u001b[1;33m(\u001b[0m\u001b[0mstr\u001b[0m\u001b[1;33m(\u001b[0m\u001b[0mpdf_filepath\u001b[0m\u001b[1;33m)\u001b[0m\u001b[1;33m,\u001b[0m \u001b[0mFileFormat\u001b[0m\u001b[1;33m=\u001b[0m\u001b[0mwdFormatPDF\u001b[0m\u001b[1;33m)\u001b[0m\u001b[1;33m\u001b[0m\u001b[1;33m\u001b[0m\u001b[0m\n\u001b[0;32m     34\u001b[0m         \u001b[0mdoc\u001b[0m\u001b[1;33m.\u001b[0m\u001b[0mClose\u001b[0m\u001b[1;33m(\u001b[0m\u001b[1;36m0\u001b[0m\u001b[1;33m)\u001b[0m\u001b[1;33m\u001b[0m\u001b[1;33m\u001b[0m\u001b[0m\n",
      "\u001b[1;32m~\\AppData\\Local\\Programs\\ArcGIS\\Pro\\bin\\Python\\envs\\arcgispro-py3\\lib\\site-packages\\win32com\\client\\dynamic.py\u001b[0m in \u001b[0;36m__getattr__\u001b[1;34m(self, attr)\u001b[0m\n\u001b[0;32m    636\u001b[0m \u001b[1;33m\u001b[0m\u001b[0m\n\u001b[0;32m    637\u001b[0m         \u001b[1;31m# no where else to look.\u001b[0m\u001b[1;33m\u001b[0m\u001b[1;33m\u001b[0m\u001b[0m\n\u001b[1;32m--> 638\u001b[1;33m         \u001b[1;32mraise\u001b[0m \u001b[0mAttributeError\u001b[0m\u001b[1;33m(\u001b[0m\u001b[1;34m\"%s.%s\"\u001b[0m \u001b[1;33m%\u001b[0m \u001b[1;33m(\u001b[0m\u001b[0mself\u001b[0m\u001b[1;33m.\u001b[0m\u001b[0m_username_\u001b[0m\u001b[1;33m,\u001b[0m \u001b[0mattr\u001b[0m\u001b[1;33m)\u001b[0m\u001b[1;33m)\u001b[0m\u001b[1;33m\u001b[0m\u001b[1;33m\u001b[0m\u001b[0m\n\u001b[0m\u001b[0;32m    639\u001b[0m \u001b[1;33m\u001b[0m\u001b[0m\n\u001b[0;32m    640\u001b[0m     \u001b[1;32mdef\u001b[0m \u001b[0m__setattr__\u001b[0m\u001b[1;33m(\u001b[0m\u001b[0mself\u001b[0m\u001b[1;33m,\u001b[0m \u001b[0mattr\u001b[0m\u001b[1;33m,\u001b[0m \u001b[0mvalue\u001b[0m\u001b[1;33m)\u001b[0m\u001b[1;33m:\u001b[0m\u001b[1;33m\u001b[0m\u001b[1;33m\u001b[0m\u001b[0m\n",
      "\u001b[1;31mAttributeError\u001b[0m: Word.Application.Documents"
     ]
    }
   ],
   "source": [
    "import os\n",
    "from docx2pdf import convert\n",
    "\n",
    "def process_submission(submission_folder):\n",
    "    if os.path.exists(submission_folder):\n",
    "        docx_count = 0\n",
    "        pdf_count = 0\n",
    "        for root, dirs, files in os.walk(submission_folder):\n",
    "            for file in files:\n",
    "                if file.endswith('.docx'):\n",
    "                    docx_count += 1\n",
    "                elif file.endswith('.pdf'):\n",
    "                    pdf_count += 1\n",
    "        print(f\"Total DOCX files in {submission_folder}: {docx_count}\")\n",
    "        print(f\"Total PDF files in {submission_folder}: {pdf_count}\")\n",
    "        if docx_count > 0:\n",
    "            for root, dirs, files in os.walk(submission_folder):\n",
    "                for file in files:\n",
    "                    if file.endswith('.docx'):\n",
    "                        input_file = os.path.join(root, file)\n",
    "                        convert(input_file)\n",
    "        else:\n",
    "            print(\"No DOCX file found in Submission folder\")\n",
    "    else:\n",
    "        print(\"Submission folder not found\")\n",
    "\n",
    "if __name__ == \"__main__\":\n",
    "    submissions_folder = 'submissions674'  # Path to the submissions674 folder\n",
    "    process_submission(submissions_folder)\n"
   ]
  },
  {
   "cell_type": "code",
   "execution_count": 10,
   "id": "f6ddb512",
   "metadata": {},
   "outputs": [
    {
     "name": "stdout",
     "output_type": "stream",
     "text": [
      "Total DOCX files in submissions674: 190\n",
      "Total PDF files in submissions674: 416\n",
      "Total folders in submissions674: 1246\n"
     ]
    },
    {
     "data": {
      "application/vnd.jupyter.widget-view+json": {
       "model_id": "93ce105a516945bdad43f50d041f2f21",
       "version_major": 2,
       "version_minor": 0
      },
      "text/plain": [
       "  0%|          | 0/1 [00:00<?, ?it/s]"
      ]
     },
     "metadata": {},
     "output_type": "display_data"
    },
    {
     "ename": "KeyboardInterrupt",
     "evalue": "",
     "output_type": "error",
     "traceback": [
      "\u001b[1;31m---------------------------------------------------------------------------\u001b[0m",
      "\u001b[1;31mKeyboardInterrupt\u001b[0m                         Traceback (most recent call last)",
      "\u001b[1;32m~\\AppData\\Local\\Temp\\ipykernel_17260\\2559335050.py\u001b[0m in \u001b[0;36m<cell line: 31>\u001b[1;34m()\u001b[0m\n\u001b[0;32m     31\u001b[0m \u001b[1;32mif\u001b[0m \u001b[0m__name__\u001b[0m \u001b[1;33m==\u001b[0m \u001b[1;34m\"__main__\"\u001b[0m\u001b[1;33m:\u001b[0m\u001b[1;33m\u001b[0m\u001b[1;33m\u001b[0m\u001b[0m\n\u001b[0;32m     32\u001b[0m     \u001b[0msubmissions_folder\u001b[0m \u001b[1;33m=\u001b[0m \u001b[1;34m'submissions674'\u001b[0m  \u001b[1;31m# Path to the submissions674 folder\u001b[0m\u001b[1;33m\u001b[0m\u001b[1;33m\u001b[0m\u001b[0m\n\u001b[1;32m---> 33\u001b[1;33m     \u001b[0mprocess_submission\u001b[0m\u001b[1;33m(\u001b[0m\u001b[0msubmissions_folder\u001b[0m\u001b[1;33m)\u001b[0m\u001b[1;33m\u001b[0m\u001b[1;33m\u001b[0m\u001b[0m\n\u001b[0m",
      "\u001b[1;32m~\\AppData\\Local\\Temp\\ipykernel_17260\\2559335050.py\u001b[0m in \u001b[0;36mprocess_submission\u001b[1;34m(submission_folder)\u001b[0m\n\u001b[0;32m     23\u001b[0m                     \u001b[1;32mif\u001b[0m \u001b[0mfile\u001b[0m\u001b[1;33m.\u001b[0m\u001b[0mendswith\u001b[0m\u001b[1;33m(\u001b[0m\u001b[1;34m'.docx'\u001b[0m\u001b[1;33m)\u001b[0m\u001b[1;33m:\u001b[0m\u001b[1;33m\u001b[0m\u001b[1;33m\u001b[0m\u001b[0m\n\u001b[0;32m     24\u001b[0m                         \u001b[0minput_file\u001b[0m \u001b[1;33m=\u001b[0m \u001b[0mos\u001b[0m\u001b[1;33m.\u001b[0m\u001b[0mpath\u001b[0m\u001b[1;33m.\u001b[0m\u001b[0mjoin\u001b[0m\u001b[1;33m(\u001b[0m\u001b[0mroot\u001b[0m\u001b[1;33m,\u001b[0m \u001b[0mfile\u001b[0m\u001b[1;33m)\u001b[0m\u001b[1;33m\u001b[0m\u001b[1;33m\u001b[0m\u001b[0m\n\u001b[1;32m---> 25\u001b[1;33m                         \u001b[0mconvert\u001b[0m\u001b[1;33m(\u001b[0m\u001b[0minput_file\u001b[0m\u001b[1;33m)\u001b[0m\u001b[1;33m\u001b[0m\u001b[1;33m\u001b[0m\u001b[0m\n\u001b[0m\u001b[0;32m     26\u001b[0m         \u001b[1;32melse\u001b[0m\u001b[1;33m:\u001b[0m\u001b[1;33m\u001b[0m\u001b[1;33m\u001b[0m\u001b[0m\n\u001b[0;32m     27\u001b[0m             \u001b[0mprint\u001b[0m\u001b[1;33m(\u001b[0m\u001b[1;34m\"No DOCX file found in Submission folder\"\u001b[0m\u001b[1;33m)\u001b[0m\u001b[1;33m\u001b[0m\u001b[1;33m\u001b[0m\u001b[0m\n",
      "\u001b[1;32m~\\AppData\\Local\\Programs\\ArcGIS\\Pro\\bin\\Python\\envs\\arcgispro-py3\\lib\\site-packages\\docx2pdf\\__init__.py\u001b[0m in \u001b[0;36mconvert\u001b[1;34m(input_path, output_path, keep_active)\u001b[0m\n\u001b[0;32m    104\u001b[0m         \u001b[1;32mreturn\u001b[0m \u001b[0mmacos\u001b[0m\u001b[1;33m(\u001b[0m\u001b[0mpaths\u001b[0m\u001b[1;33m,\u001b[0m \u001b[0mkeep_active\u001b[0m\u001b[1;33m)\u001b[0m\u001b[1;33m\u001b[0m\u001b[1;33m\u001b[0m\u001b[0m\n\u001b[0;32m    105\u001b[0m     \u001b[1;32melif\u001b[0m \u001b[0msys\u001b[0m\u001b[1;33m.\u001b[0m\u001b[0mplatform\u001b[0m \u001b[1;33m==\u001b[0m \u001b[1;34m\"win32\"\u001b[0m\u001b[1;33m:\u001b[0m\u001b[1;33m\u001b[0m\u001b[1;33m\u001b[0m\u001b[0m\n\u001b[1;32m--> 106\u001b[1;33m         \u001b[1;32mreturn\u001b[0m \u001b[0mwindows\u001b[0m\u001b[1;33m(\u001b[0m\u001b[0mpaths\u001b[0m\u001b[1;33m,\u001b[0m \u001b[0mkeep_active\u001b[0m\u001b[1;33m)\u001b[0m\u001b[1;33m\u001b[0m\u001b[1;33m\u001b[0m\u001b[0m\n\u001b[0m\u001b[0;32m    107\u001b[0m     \u001b[1;32melse\u001b[0m\u001b[1;33m:\u001b[0m\u001b[1;33m\u001b[0m\u001b[1;33m\u001b[0m\u001b[0m\n\u001b[0;32m    108\u001b[0m         raise NotImplementedError(\n",
      "\u001b[1;32m~\\AppData\\Local\\Programs\\ArcGIS\\Pro\\bin\\Python\\envs\\arcgispro-py3\\lib\\site-packages\\docx2pdf\\__init__.py\u001b[0m in \u001b[0;36mwindows\u001b[1;34m(paths, keep_active)\u001b[0m\n\u001b[0;32m     31\u001b[0m         \u001b[0mpdf_filepath\u001b[0m \u001b[1;33m=\u001b[0m \u001b[0mPath\u001b[0m\u001b[1;33m(\u001b[0m\u001b[0mpaths\u001b[0m\u001b[1;33m[\u001b[0m\u001b[1;34m\"output\"\u001b[0m\u001b[1;33m]\u001b[0m\u001b[1;33m)\u001b[0m\u001b[1;33m.\u001b[0m\u001b[0mresolve\u001b[0m\u001b[1;33m(\u001b[0m\u001b[1;33m)\u001b[0m\u001b[1;33m\u001b[0m\u001b[1;33m\u001b[0m\u001b[0m\n\u001b[0;32m     32\u001b[0m         \u001b[0mdoc\u001b[0m \u001b[1;33m=\u001b[0m \u001b[0mword\u001b[0m\u001b[1;33m.\u001b[0m\u001b[0mDocuments\u001b[0m\u001b[1;33m.\u001b[0m\u001b[0mOpen\u001b[0m\u001b[1;33m(\u001b[0m\u001b[0mstr\u001b[0m\u001b[1;33m(\u001b[0m\u001b[0mdocx_filepath\u001b[0m\u001b[1;33m)\u001b[0m\u001b[1;33m)\u001b[0m\u001b[1;33m\u001b[0m\u001b[1;33m\u001b[0m\u001b[0m\n\u001b[1;32m---> 33\u001b[1;33m         \u001b[0mdoc\u001b[0m\u001b[1;33m.\u001b[0m\u001b[0mSaveAs\u001b[0m\u001b[1;33m(\u001b[0m\u001b[0mstr\u001b[0m\u001b[1;33m(\u001b[0m\u001b[0mpdf_filepath\u001b[0m\u001b[1;33m)\u001b[0m\u001b[1;33m,\u001b[0m \u001b[0mFileFormat\u001b[0m\u001b[1;33m=\u001b[0m\u001b[0mwdFormatPDF\u001b[0m\u001b[1;33m)\u001b[0m\u001b[1;33m\u001b[0m\u001b[1;33m\u001b[0m\u001b[0m\n\u001b[0m\u001b[0;32m     34\u001b[0m         \u001b[0mdoc\u001b[0m\u001b[1;33m.\u001b[0m\u001b[0mClose\u001b[0m\u001b[1;33m(\u001b[0m\u001b[1;36m0\u001b[0m\u001b[1;33m)\u001b[0m\u001b[1;33m\u001b[0m\u001b[1;33m\u001b[0m\u001b[0m\n\u001b[0;32m     35\u001b[0m         \u001b[0mpbar\u001b[0m\u001b[1;33m.\u001b[0m\u001b[0mupdate\u001b[0m\u001b[1;33m(\u001b[0m\u001b[1;36m1\u001b[0m\u001b[1;33m)\u001b[0m\u001b[1;33m\u001b[0m\u001b[1;33m\u001b[0m\u001b[0m\n",
      "\u001b[1;32m~\\AppData\\Local\\Programs\\ArcGIS\\Pro\\bin\\Python\\envs\\arcgispro-py3\\lib\\site-packages\\win32com\\client\\dynamic.py\u001b[0m in \u001b[0;36mSaveAs\u001b[1;34m(self, FileName, FileFormat, LockComments, Password, AddToRecentFiles, WritePassword, ReadOnlyRecommended, EmbedTrueTypeFonts, SaveNativePictureFormat, SaveFormsData, SaveAsAOCELetter, Encoding, InsertLineBreaks, AllowSubstitutions, LineEnding, AddBiDiMarks)\u001b[0m\n",
      "\u001b[1;31mKeyboardInterrupt\u001b[0m: "
     ]
    }
   ],
   "source": [
    "import os\n",
    "from docx2pdf import convert\n",
    "\n",
    "def process_submission(submission_folder):\n",
    "    if os.path.exists(submission_folder):\n",
    "        docx_count = 0\n",
    "        pdf_count = 0\n",
    "        folder_count = 0\n",
    "        for root, dirs, files in os.walk(submission_folder):\n",
    "            for file in files:\n",
    "                if file.endswith('.docx'):\n",
    "                    docx_count += 1\n",
    "                elif file.endswith('.pdf'):\n",
    "                    pdf_count += 1\n",
    "            for directory in dirs:\n",
    "                folder_count += 1\n",
    "        print(f\"Total DOCX files in {submission_folder}: {docx_count}\")\n",
    "        print(f\"Total PDF files in {submission_folder}: {pdf_count}\")\n",
    "        print(f\"Total folders in {submission_folder}: {folder_count}\")\n",
    "        if docx_count > 0:\n",
    "            for root, dirs, files in os.walk(submission_folder):\n",
    "                for file in files:\n",
    "                    if file.endswith('.docx'):\n",
    "                        input_file = os.path.join(root, file)\n",
    "                        convert(input_file)\n",
    "        else:\n",
    "            print(\"No DOCX file found in Submission folder\")\n",
    "    else:\n",
    "        print(\"Submission folder not found\")\n",
    "\n",
    "if __name__ == \"__main__\":\n",
    "    submissions_folder = 'submissions674'  # Path to the submissions674 folder\n",
    "    process_submission(submissions_folder)\n"
   ]
  },
  {
   "cell_type": "code",
   "execution_count": 35,
   "id": "ba11780a",
   "metadata": {},
   "outputs": [
    {
     "data": {
      "application/vnd.jupyter.widget-view+json": {
       "model_id": "b2c23ae7aac745dca45f70222a94b18d",
       "version_major": 2,
       "version_minor": 0
      },
      "text/plain": [
       "  0%|          | 0/1 [00:00<?, ?it/s]"
      ]
     },
     "metadata": {},
     "output_type": "display_data"
    }
   ],
   "source": [
    "import os\n",
    "from docx2pdf import convert\n",
    "\n",
    "# Path to the input DOCX file\n",
    "docx_file = 'another.docx'\n",
    "\n",
    "# Extract folder path from the input file\n",
    "folder_path = os.path.dirname(docx_file)\n",
    "\n",
    "# Name of the output PDF file\n",
    "pdf_file = os.path.join(folder_path, 'hello3.pdf')\n",
    "\n",
    "# Convert DOCX to PDF\n",
    "convert(docx_file, pdf_file)\n"
   ]
  },
  {
   "cell_type": "code",
   "execution_count": 36,
   "id": "ed27926d",
   "metadata": {},
   "outputs": [
    {
     "data": {
      "application/vnd.jupyter.widget-view+json": {
       "model_id": "b01f5861409a43ffa9f121fc61074ea9",
       "version_major": 2,
       "version_minor": 0
      },
      "text/plain": [
       "  0%|          | 0/1 [00:00<?, ?it/s]"
      ]
     },
     "metadata": {},
     "output_type": "display_data"
    },
    {
     "name": "stdout",
     "output_type": "stream",
     "text": [
      "Folder 1: Title: Next-Generation Cloud Infrastructure Management - Integrating TCNs and Ensemble Policies for Improved Performance\n",
      "Folder 2: Title: Hospital Record Management System Using Blockchain\n"
     ]
    }
   ],
   "source": [
    "import os\n",
    "import tempfile\n",
    "from PyPDF2 import PdfWriter, PdfReader\n",
    "from io import BytesIO\n",
    "from reportlab.lib.pagesizes import letter\n",
    "from reportlab.pdfgen import canvas\n",
    "from docx import Document\n",
    "import pdfplumber\n",
    "from docx2pdf import convert as docx2pdf_convert\n",
    "\n",
    "\n",
    "def extract_title_from_pdf(pdf_path):\n",
    "    title = \"\"\n",
    "    with pdfplumber.open(pdf_path) as pdf:\n",
    "        first_page = pdf.pages[0]\n",
    "        first_font_size = None\n",
    "        for obj in first_page.chars:\n",
    "            if not first_font_size:\n",
    "                first_font_size = obj['size']\n",
    "            if obj['size'] == first_font_size:\n",
    "                title += obj['text']\n",
    "            else:\n",
    "                break\n",
    "    return title.strip()\n",
    "\n",
    "\n",
    "def extract_title_from_docx(docx_path):\n",
    "    try:\n",
    "        # Convert docx to pdf\n",
    "        pdf_path = docx_path[:-4] + \".pdf\"\n",
    "        docx2pdf_convert(docx_path, pdf_path)\n",
    "        # Extract title from the converted pdf\n",
    "        return extract_title_from_pdf(pdf_path)\n",
    "    except Exception as e:\n",
    "        print(f\"Error extracting title from {docx_path}: {e}\")\n",
    "        return \"Error: Title extraction failed\"\n",
    "\n",
    "\n",
    "def extract_title(file_path):\n",
    "    file_extension = os.path.splitext(file_path)[1].lower()\n",
    "    if file_extension == '.pdf':\n",
    "        return extract_title_from_pdf(file_path)\n",
    "    elif file_extension == '.docx':\n",
    "        return extract_title_from_docx(file_path)\n",
    "    else:\n",
    "        raise ValueError(\"Unsupported file format\")\n",
    "\n",
    "\n",
    "def main():\n",
    "    submissions_folder = 'submissions674'  # Path to the submissions674 folder\n",
    "    for folder_name in os.listdir(submissions_folder):\n",
    "        if folder_name.startswith('.'):\n",
    "            continue  # Skip directories starting with '.'\n",
    "        folder_path = os.path.join(submissions_folder, folder_name)\n",
    "        if os.path.isdir(folder_path):\n",
    "            submission_folder = os.path.join(folder_path, 'Submission')\n",
    "            if os.path.exists(submission_folder):\n",
    "                input_file = None\n",
    "                for file in os.listdir(submission_folder):\n",
    "                    if file.endswith('.pdf') or file.endswith('.docx'):\n",
    "                        input_file = os.path.join(submission_folder, file)\n",
    "                        break\n",
    "                if input_file:\n",
    "                    title = extract_title(input_file)\n",
    "                    print(f\"Folder {folder_name}: Title: {title}\")\n",
    "                else:\n",
    "                    print(f\"Folder {folder_name}: No input file found in Submission folder\")\n",
    "            else:\n",
    "                print(f\"Folder {folder_name}: Submission folder not found\")\n",
    "\n",
    "\n",
    "if __name__ == \"__main__\":\n",
    "    main()\n"
   ]
  },
  {
   "cell_type": "code",
   "execution_count": 40,
   "id": "e2e27e73",
   "metadata": {},
   "outputs": [
    {
     "data": {
      "application/vnd.jupyter.widget-view+json": {
       "model_id": "697c9cd0bd9c47d99e4de89ece1359a5",
       "version_major": 2,
       "version_minor": 0
      },
      "text/plain": [
       "  0%|          | 0/1 [00:00<?, ?it/s]"
      ]
     },
     "metadata": {},
     "output_type": "display_data"
    },
    {
     "name": "stdout",
     "output_type": "stream",
     "text": [
      "Folder 1: Title: Next-Generation Cloud Infrastructure Management - Integrating TCNs and Ensemble Policies for Improved Performance\n",
      "Folder 10: Title: \n",
      "Folder 100: Title: LegalContractAnalysisandSummarization\n",
      "Folder 102: Title: \n",
      "Folder 103: Title: Arpan Dixit\n",
      "Folder 104: Title: ComparingGPTandHumanresponseAnalysis:Strengths,Limitations,andtheFutureofAICommunications\n",
      "Folder 105: Title: Liver Segmentation from MR T1 In-phase and Out-phase fused Images using U-Net and its Modified Variants\n",
      "Folder 106: Title: A Novel Method of Enhancing Skin Lesion Diagnosis Using Attention Mechanisms and Weakly-Supervised Learning\n"
     ]
    },
    {
     "data": {
      "application/vnd.jupyter.widget-view+json": {
       "model_id": "4442f5c70e6944f1bb8a8fb647214786",
       "version_major": 2,
       "version_minor": 0
      },
      "text/plain": [
       "  0%|          | 0/1 [00:00<?, ?it/s]"
      ]
     },
     "metadata": {},
     "output_type": "display_data"
    },
    {
     "name": "stdout",
     "output_type": "stream",
     "text": [
      "Folder 107: Title: Secure Private Data Storage and File Sharing Using Homomorphic and Hybrid Hash-Based Cryptographic Technique in Cloud\n"
     ]
    },
    {
     "data": {
      "application/vnd.jupyter.widget-view+json": {
       "model_id": "803a0316e53f4efbab3ebb56bc135149",
       "version_major": 2,
       "version_minor": 0
      },
      "text/plain": [
       "  0%|          | 0/1 [00:00<?, ?it/s]"
      ]
     },
     "metadata": {},
     "output_type": "display_data"
    },
    {
     "name": "stdout",
     "output_type": "stream",
     "text": [
      "Folder 108: Title: F.Y.B.Tech Students’ Engineering Design and Innovation (EDAI1) Project Paper, SEM 1 A.Y. 2022-23  Vishwakarma Institute of Technology, Pune, INDIA.\n",
      "Folder 109: Title: XXX-X-XXXX-XXXX-X/XX/$XX.00 ©20XX IEEE\n",
      "Folder 11: Title: Page | 1\n",
      "Folder 110: Title: Loopholes in security implementation of cloud and IoT environment: Case study of a recent security incident\n",
      "Folder 111: Title: FromTastetoText:ExaminingtheInfluenceofOnlineReviewsonCulinaryExperiences\n",
      "Folder 112: Title: \n",
      "Folder 114: Title: HOSPITAL MANAGEMENT SYSTEM USING PHP & MY-SQL\n",
      "Folder 115: Title: \n",
      "Folder 116: Title: Signature Verification Using Computer Vision\n"
     ]
    },
    {
     "data": {
      "application/vnd.jupyter.widget-view+json": {
       "model_id": "fd993a0d0e7b4f95a3147e6a1dac6fdf",
       "version_major": 2,
       "version_minor": 0
      },
      "text/plain": [
       "  0%|          | 0/1 [00:00<?, ?it/s]"
      ]
     },
     "metadata": {},
     "output_type": "display_data"
    },
    {
     "name": "stdout",
     "output_type": "stream",
     "text": [
      "Folder 117: Title: \n"
     ]
    },
    {
     "data": {
      "application/vnd.jupyter.widget-view+json": {
       "model_id": "b206eede67184ecab64d8b9d572cfa5d",
       "version_major": 2,
       "version_minor": 0
      },
      "text/plain": [
       "  0%|          | 0/1 [00:00<?, ?it/s]"
      ]
     },
     "metadata": {},
     "output_type": "display_data"
    },
    {
     "name": "stdout",
     "output_type": "stream",
     "text": [
      "Folder 118: Title: \n",
      "Folder 12: Title: 1\n"
     ]
    },
    {
     "data": {
      "application/vnd.jupyter.widget-view+json": {
       "model_id": "835bc8f9fe9b4391b367bafba8cf39e7",
       "version_major": 2,
       "version_minor": 0
      },
      "text/plain": [
       "  0%|          | 0/1 [00:00<?, ?it/s]"
      ]
     },
     "metadata": {},
     "output_type": "display_data"
    },
    {
     "name": "stdout",
     "output_type": "stream",
     "text": [
      "Folder 120: Title: 1\n",
      "Folder 121: Title: \n",
      "Folder 122: Title: AI-EnabledLanguageLearningPlatform\n",
      "Folder 123: Title: AI-EnabledLanguageLearningPlatform\n",
      "Folder 125: Title: CRYPTOCURRENCY TRACKER APPLICATION FOR REAL-TIME CRYPTOCURRENCY PRICE TRACKING AND\n",
      "Folder 126: Title: AUTOMATICSPEECHRECOGNITIONUSINGDEEPNEURALNETWORKS\n",
      "Folder 127: Title: SkinDiseaseDetection\n",
      "Folder 128: Title: Blockchain based Medical Records Management\n",
      "Folder 129: Title: SecureTransactionShield\n",
      "Folder 13: Title: \n",
      "Folder 131: Title: Seamless Interaction AI Hand Gesture\n",
      "Folder 132: Title: RemoteECGMonitoringSystemviaInternet\n"
     ]
    },
    {
     "data": {
      "application/vnd.jupyter.widget-view+json": {
       "model_id": "f7ca03611eee400c943c0be5ef5315cd",
       "version_major": 2,
       "version_minor": 0
      },
      "text/plain": [
       "  0%|          | 0/1 [00:00<?, ?it/s]"
      ]
     },
     "metadata": {},
     "output_type": "display_data"
    },
    {
     "name": "stdout",
     "output_type": "stream",
     "text": [
      "Folder 133: Title: SCHOOL MANAGEMENT SYSTEM\n",
      "Folder 134: Title: AReal-TimeObjectDetectionforSurveillanceSystemUsingYOLOv5\n",
      "Folder 136: Title: F.Y.B. Tech Students’ Engineering Design and Innovation (EDAI 2) Project Paper, SEM 2 A.Y. 2022-23  Vishwakarma Institute of Technology, Pune, INDIA.\n"
     ]
    },
    {
     "data": {
      "application/vnd.jupyter.widget-view+json": {
       "model_id": "6ae15d4ce9d948ca91a231892a8687f6",
       "version_major": 2,
       "version_minor": 0
      },
      "text/plain": [
       "  0%|          | 0/1 [00:00<?, ?it/s]"
      ]
     },
     "metadata": {},
     "output_type": "display_data"
    },
    {
     "name": "stdout",
     "output_type": "stream",
     "text": [
      "Folder 137: Title: Real-Time Object Detection Using  Deep Learning and OpenCV\n",
      "Folder 138: Title: VarishtaRakshak:AnAI-basedcomprehensivewebframeworkforensuringseniorcitizencareinrealtime.\n",
      "Folder 139: Title: ChatApsit:GenerativeAIbasedcomprehensivewebframeworkforanEducationalInstitute\n",
      "Folder 14: Title: WEB-INTEGRATED MECHANIC SERVICE FINDER\n",
      "Folder 140: Title: \n",
      "Folder 141: Title: Text-Based Generative AI\n",
      "Folder 142: Title: Digital Filter Design Using Soft Computing\n"
     ]
    },
    {
     "data": {
      "application/vnd.jupyter.widget-view+json": {
       "model_id": "165564e04c4c41faacef0e3bfe1b2f82",
       "version_major": 2,
       "version_minor": 0
      },
      "text/plain": [
       "  0%|          | 0/1 [00:00<?, ?it/s]"
      ]
     },
     "metadata": {},
     "output_type": "display_data"
    },
    {
     "name": "stdout",
     "output_type": "stream",
     "text": [
      "Folder 143: Title: Real-Time Anomaly Detection System for Network Administrators\n"
     ]
    },
    {
     "data": {
      "application/vnd.jupyter.widget-view+json": {
       "model_id": "ee2293d9b903424c8c47283b6c969e0b",
       "version_major": 2,
       "version_minor": 0
      },
      "text/plain": [
       "  0%|          | 0/1 [00:00<?, ?it/s]"
      ]
     },
     "metadata": {},
     "output_type": "display_data"
    },
    {
     "name": "stdout",
     "output_type": "stream",
     "text": [
      "Folder 144: Title: \n"
     ]
    },
    {
     "data": {
      "application/vnd.jupyter.widget-view+json": {
       "model_id": "8717b7103d6c49a388474d8169704f62",
       "version_major": 2,
       "version_minor": 0
      },
      "text/plain": [
       "  0%|          | 0/1 [00:00<?, ?it/s]"
      ]
     },
     "metadata": {},
     "output_type": "display_data"
    },
    {
     "name": "stdout",
     "output_type": "stream",
     "text": [
      "Folder 146: Title: 1\n",
      "Folder 147: Title: ONGOING MARKET PREDICTION BY USING PYTHON and ML\n",
      "Folder 148: Title: FacialRecognitionandDetectionTechnologyforAttendanceSystems\n",
      "Folder 149: Title: Machine Learning for Healthcare Diagnostics\n",
      "Folder 15: Title: \n",
      "Folder 150: Title: \n",
      "Folder 151: Title: From Crash Protection to Life Protection: The Smart Airbag SOS System\n",
      "Folder 152: Title: Enhancing Invasive Ductal Carcinoma Detection in Breast Histopathology using Convolutional Neural Networks\n",
      "Folder 153: Title: AChronicKidneyDiseasepredictionsusingMLalgorithms\n",
      "Folder 154: Title: DOUBLE PRECISION FLOATING POINT COMPARATOR\n"
     ]
    },
    {
     "data": {
      "application/vnd.jupyter.widget-view+json": {
       "model_id": "6c8593c7ba094e249bdd32673e29f0d7",
       "version_major": 2,
       "version_minor": 0
      },
      "text/plain": [
       "  0%|          | 0/1 [00:00<?, ?it/s]"
      ]
     },
     "metadata": {},
     "output_type": "display_data"
    },
    {
     "name": "stdout",
     "output_type": "stream",
     "text": [
      "Folder 155: Title: SIMULATING DIGITAL PHASE LOCKED LOOP USING VERILOG\n"
     ]
    },
    {
     "data": {
      "application/vnd.jupyter.widget-view+json": {
       "model_id": "1eb82047c79a44cab24e7b8839fd9b72",
       "version_major": 2,
       "version_minor": 0
      },
      "text/plain": [
       "  0%|          | 0/1 [00:00<?, ?it/s]"
      ]
     },
     "metadata": {},
     "output_type": "display_data"
    },
    {
     "name": "stdout",
     "output_type": "stream",
     "text": [
      "Folder 156: Title: \n"
     ]
    },
    {
     "data": {
      "application/vnd.jupyter.widget-view+json": {
       "model_id": "ffc47fdff0714ad9825263b54230ecfa",
       "version_major": 2,
       "version_minor": 0
      },
      "text/plain": [
       "  0%|          | 0/1 [00:00<?, ?it/s]"
      ]
     },
     "metadata": {},
     "output_type": "display_data"
    },
    {
     "name": "stdout",
     "output_type": "stream",
     "text": [
      "Folder 157: Title: ZEN: AI Voice Assistant\n",
      "Folder 158: Title: INTRUSION DETECTION SYSTEM USING RASPBERRY PI AND TELEGRAM INTEGRATION\n",
      "Folder 159: Title: Blockchain Based Crypto-Wallet\n",
      "Folder 16: Title: \n",
      "Folder 160: Title: SurveyPaperonMachineLearningandDeepLearningDrivenApplicationsusingBayesianTechniques\n"
     ]
    },
    {
     "data": {
      "application/vnd.jupyter.widget-view+json": {
       "model_id": "f4f1c345bf4c4abc8084cbb095f6b8ae",
       "version_major": 2,
       "version_minor": 0
      },
      "text/plain": [
       "  0%|          | 0/1 [00:00<?, ?it/s]"
      ]
     },
     "metadata": {},
     "output_type": "display_data"
    },
    {
     "name": "stdout",
     "output_type": "stream",
     "text": [
      "Folder 161: Title: \n",
      "Folder 162: Title: WoS Bibliometric and Content Analysis on Handwritten Hindi Characters Recognition\n"
     ]
    },
    {
     "data": {
      "application/vnd.jupyter.widget-view+json": {
       "model_id": "84f8fd3911dd47d382494eb0f72e1efb",
       "version_major": 2,
       "version_minor": 0
      },
      "text/plain": [
       "  0%|          | 0/1 [00:00<?, ?it/s]"
      ]
     },
     "metadata": {},
     "output_type": "display_data"
    },
    {
     "name": "stdout",
     "output_type": "stream",
     "text": [
      "Folder 163: Title: \n",
      "Folder 164: Title: Ensembling of Performance Metrics in Credit Risk Assessment Using Machine Learning Analytics Arijit Bhattacharya\n"
     ]
    },
    {
     "data": {
      "application/vnd.jupyter.widget-view+json": {
       "model_id": "7c7d9b513e3548b09f8a06a187eaa64a",
       "version_major": 2,
       "version_minor": 0
      },
      "text/plain": [
       "  0%|          | 0/1 [00:00<?, ?it/s]"
      ]
     },
     "metadata": {},
     "output_type": "display_data"
    },
    {
     "name": "stdout",
     "output_type": "stream",
     "text": [
      "Folder 165: Title: IMAGE FORGERY DETECTION USING COMPUTER VISION TECHNIQUES\n",
      "Folder 166: Title: A Survey on smoking and Alcohol Tracking Systems: State of the Art, Analysis, and Performance Evaluation\n"
     ]
    },
    {
     "data": {
      "application/vnd.jupyter.widget-view+json": {
       "model_id": "406f60ba0550434d829f4d4cc3466cdb",
       "version_major": 2,
       "version_minor": 0
      },
      "text/plain": [
       "  0%|          | 0/1 [00:00<?, ?it/s]"
      ]
     },
     "metadata": {},
     "output_type": "display_data"
    },
    {
     "name": "stdout",
     "output_type": "stream",
     "text": [
      "Folder 167: Title: XXX-X-XXXX-XXXX-X/XX/$XX.00 ©20XX IEEE\n",
      "Folder 168: Title: Does Employee Loyalty Moderates the Relationship between Job Satisfaction and other influencing Factors of Workers' Performance\n",
      "Folder 169: Title: IoT Based Architecture to Monitoring the Quality of Animal Fodder and prototype to extract the grass color\n"
     ]
    },
    {
     "data": {
      "application/vnd.jupyter.widget-view+json": {
       "model_id": "b69ec468f885499494a62152414dbc69",
       "version_major": 2,
       "version_minor": 0
      },
      "text/plain": [
       "  0%|          | 0/1 [00:00<?, ?it/s]"
      ]
     },
     "metadata": {},
     "output_type": "display_data"
    },
    {
     "name": "stdout",
     "output_type": "stream",
     "text": [
      "Folder 17: Title: WASTE SEGREGATION USING CNN\n",
      "Folder 170: Title: Machine Learning Based Framework For  Phishing Website Detection\n",
      "Folder 171: Title: Adaptation of Blockchain Technologies into Monetary Transmission in Banking Operations\n",
      "Folder 172: Title: NeuroSyght: An AI-Powered Approach on Emotion Classification from EEG Data\n"
     ]
    },
    {
     "data": {
      "application/vnd.jupyter.widget-view+json": {
       "model_id": "c63ade60e2114206858eaccb746b8cd5",
       "version_major": 2,
       "version_minor": 0
      },
      "text/plain": [
       "  0%|          | 0/1 [00:00<?, ?it/s]"
      ]
     },
     "metadata": {},
     "output_type": "display_data"
    },
    {
     "name": "stdout",
     "output_type": "stream",
     "text": [
      "Folder 173: Title: Digital Forensics and Machine Learning Based Early Detection of Ongoing Cyber-Attacks\n",
      "Folder 175: Title: \n",
      "Folder 176: Title: Revitalising Volunteerism: The Transformative Influence of Artificial Intelligence in Volunteer Management\n",
      "Folder 177: Title: \n"
     ]
    },
    {
     "data": {
      "application/vnd.jupyter.widget-view+json": {
       "model_id": "183f3c9fcda84f69baa54fd988376d5e",
       "version_major": 2,
       "version_minor": 0
      },
      "text/plain": [
       "  0%|          | 0/1 [00:00<?, ?it/s]"
      ]
     },
     "metadata": {},
     "output_type": "display_data"
    },
    {
     "name": "stdout",
     "output_type": "stream",
     "text": [
      "Folder 178: Title: \n"
     ]
    },
    {
     "data": {
      "application/vnd.jupyter.widget-view+json": {
       "model_id": "e31c4fb12a8742ad87f61ddef32cb04b",
       "version_major": 2,
       "version_minor": 0
      },
      "text/plain": [
       "  0%|          | 0/1 [00:00<?, ?it/s]"
      ]
     },
     "metadata": {},
     "output_type": "display_data"
    },
    {
     "name": "stdout",
     "output_type": "stream",
     "text": [
      "Folder 179: Title: \n",
      "Folder 18: Title: Bird Identification through Visual and Auditory Signals using Deep Learning\n",
      "Folder 180: Title: A Review of Machine Learning Algorithms for Predicting Heart Disease\n"
     ]
    },
    {
     "data": {
      "application/vnd.jupyter.widget-view+json": {
       "model_id": "3301e5d599f9476d8956bedddfd1e4d8",
       "version_major": 2,
       "version_minor": 0
      },
      "text/plain": [
       "  0%|          | 0/1 [00:00<?, ?it/s]"
      ]
     },
     "metadata": {},
     "output_type": "display_data"
    },
    {
     "name": "stdout",
     "output_type": "stream",
     "text": [
      "Folder 182: Title: AN APPROACH FOR CROSS-PLATFORM APPLICATION DEVELOPMENT    USING FLUTTER AND FIREBASE\n"
     ]
    },
    {
     "data": {
      "application/vnd.jupyter.widget-view+json": {
       "model_id": "6c640587583b4be5a8c207cb27a6f65f",
       "version_major": 2,
       "version_minor": 0
      },
      "text/plain": [
       "  0%|          | 0/1 [00:00<?, ?it/s]"
      ]
     },
     "metadata": {},
     "output_type": "display_data"
    },
    {
     "name": "stdout",
     "output_type": "stream",
     "text": [
      "Folder 183: Title: CURRENT WEB DEVELOPMENT TRENDS\n"
     ]
    },
    {
     "data": {
      "application/vnd.jupyter.widget-view+json": {
       "model_id": "ab1f3731477a4962affaf047e2ebedf8",
       "version_major": 2,
       "version_minor": 0
      },
      "text/plain": [
       "  0%|          | 0/1 [00:00<?, ?it/s]"
      ]
     },
     "metadata": {},
     "output_type": "display_data"
    },
    {
     "name": "stdout",
     "output_type": "stream",
     "text": [
      "Folder 184: Title: EVOLUTION OF ARTIFICIAL INTELLIGENCE\n",
      "Folder 185: Title: praveenchowdary413@gmail.com  Abstract— Plastic pollution is a huge environmental problem, leading research into novel solutions such as road construction utilising plastic trash. This method has various advantages, including increased durability, decreased maintenance requirements, and cost-effectiveness. However, further study is needed to fully grasp the potential of waste polyolefin pyrolysis products for bitumen modification, which is critical for optimising the quality and performance of binders in such applications. It is critical to investigate the relationships between pyrolysis process parameters and final product quality. Additionally, techniques for modifying these goods and improving their performance in diverse applications should be investigated. This technique might be extended beyond road building to provide sustainable solutions in other areas. The growing garbage creation emphasises the importance of addressing disposal techniques. One intriguing option includes combining plastic garbage with asphalt to generate durable road surfaces. This may drastically reduce plastic litter in landfills and seas while also reducing asphalt consumption and providing a more environmentally friendly road building option. However, difficulties remain. Concerns about the dependability, safety, and potential harmful environmental effects of plastic roads persist. The production and use of plastic materials for road building generate legitimate concerns regarding their overall environmental impact. Despite these obstacles, the continued investigation and deployment of plastic roads represent significant advances in sustainable infrastructure innovation. More research, stricter standards, and coordinated efforts are required to reduce dangers and maximise the advantages of this method.   Keywords— Waste plastic roads, Plastic waste, Road construction, Bitumen, Asphalt, Collection, Sorting, Shredding, Composite material, Laydown, Maintenance, Durability, Safety,  Innovation\n",
      "Folder 186: Title: S.Y.B.Tech Students’ Engineering Design and Innovation (EDAI3) Project Paper, SEM 3 A.Y. 2023-24  Vishwakarma Institute of Technology, Pune\n",
      "Folder 188: Title: SarcasmandHumorDetectioninCode-MixedHindiData:ASurvey\n",
      "Folder 189: Title: SOLEFIT:ASMARTSHOEDEVELOPEDFORDIABETICPATIENTS\n",
      "Folder 19: Title: \n",
      "Folder 190: Title: ScriptSketch: Art Generation using Deep Learning\n",
      "Folder 191: Title: Sign Language Translator\n"
     ]
    },
    {
     "data": {
      "application/vnd.jupyter.widget-view+json": {
       "model_id": "a427c9b4e5584b229f1dcccb7df80c96",
       "version_major": 2,
       "version_minor": 0
      },
      "text/plain": [
       "  0%|          | 0/1 [00:00<?, ?it/s]"
      ]
     },
     "metadata": {},
     "output_type": "display_data"
    },
    {
     "name": "stdout",
     "output_type": "stream",
     "text": [
      "Folder 192: Title: XXX-X-XXXX-XX-X/XX/$XX.00 ©20XX IEEE\n",
      "Folder 193: Title: FakeNewsDetectionUsingMachineLearning\n",
      "Folder 194: Title: GUARDING THE GATE: Innovative Solutions for Third-Party app Vulnerabilities\n"
     ]
    },
    {
     "data": {
      "application/vnd.jupyter.widget-view+json": {
       "model_id": "32973adba7e34d6a9be4efeb4c769e05",
       "version_major": 2,
       "version_minor": 0
      },
      "text/plain": [
       "  0%|          | 0/1 [00:00<?, ?it/s]"
      ]
     },
     "metadata": {},
     "output_type": "display_data"
    },
    {
     "name": "stdout",
     "output_type": "stream",
     "text": [
      "Folder 195: Title: Automatic brain tumor detection Using CNN\n"
     ]
    },
    {
     "data": {
      "application/vnd.jupyter.widget-view+json": {
       "model_id": "5d28cc0c68e3449b802d4bf666545def",
       "version_major": 2,
       "version_minor": 0
      },
      "text/plain": [
       "  0%|          | 0/1 [00:00<?, ?it/s]"
      ]
     },
     "metadata": {},
     "output_type": "display_data"
    },
    {
     "name": "stdout",
     "output_type": "stream",
     "text": [
      "Folder 196: Title: Normalized Mutual Information Driven Feature Extraction Method for Big Data Analytics\n"
     ]
    },
    {
     "data": {
      "application/vnd.jupyter.widget-view+json": {
       "model_id": "423e4b80d860418d8588883a3cd531b4",
       "version_major": 2,
       "version_minor": 0
      },
      "text/plain": [
       "  0%|          | 0/1 [00:00<?, ?it/s]"
      ]
     },
     "metadata": {},
     "output_type": "display_data"
    },
    {
     "name": "stdout",
     "output_type": "stream",
     "text": [
      "Folder 197: Title: \n"
     ]
    },
    {
     "data": {
      "application/vnd.jupyter.widget-view+json": {
       "model_id": "8cf342889b624884a1bfc76a5859ba3e",
       "version_major": 2,
       "version_minor": 0
      },
      "text/plain": [
       "  0%|          | 0/1 [00:00<?, ?it/s]"
      ]
     },
     "metadata": {},
     "output_type": "display_data"
    },
    {
     "name": "stdout",
     "output_type": "stream",
     "text": [
      "Folder 198: Title: A New Epoch in Product Assurance: Leveraging Blockchain for Robust Anti-Counterfeiting Measures\n",
      "Folder 199: Title: AYOLObasedDeepLearningApproachtodetectthepotholes\n",
      "Folder 2: Title: Hospital Record Management System Using Blockchain\n",
      "Folder 20: Title: Enhancing Rainfall Prediction: A Confluence of Machine Learning and Ensemble Techniques\n",
      "Folder 200: Title: A Review of Machine Learning  Models for Predicting Agile Methodology\n",
      "Folder 201: Title: Machine Learning techniques for pose based human activity recognition\n",
      "Folder 202: Title: ComparativeAnalysisofDiseasedetectionamongtomatoplantsusingmachineandDeeplearningtechniques\n",
      "Folder 203: Title: Farming in the Digital Age: A Machine Learning Enhanced Crop Yield Prediction and Recommendation System\n",
      "Folder 204: Title: Machine Olfaction: Creating a Digital Nose\n"
     ]
    },
    {
     "data": {
      "application/vnd.jupyter.widget-view+json": {
       "model_id": "7d4cb06abb4e4de3897e22c94e5037f3",
       "version_major": 2,
       "version_minor": 0
      },
      "text/plain": [
       "  0%|          | 0/1 [00:00<?, ?it/s]"
      ]
     },
     "metadata": {},
     "output_type": "display_data"
    },
    {
     "name": "stdout",
     "output_type": "stream",
     "text": [
      "Folder 205: Title: Identify Cricket Shots\n"
     ]
    },
    {
     "data": {
      "application/vnd.jupyter.widget-view+json": {
       "model_id": "5dbb2a94a2f044ceb46def09a2b74fad",
       "version_major": 2,
       "version_minor": 0
      },
      "text/plain": [
       "  0%|          | 0/1 [00:00<?, ?it/s]"
      ]
     },
     "metadata": {},
     "output_type": "display_data"
    },
    {
     "name": "stdout",
     "output_type": "stream",
     "text": [
      "Folder 206: Title: Driver Drowsiness Detection System.\n"
     ]
    },
    {
     "data": {
      "application/vnd.jupyter.widget-view+json": {
       "model_id": "dda5018cbd724c0c972891d32852345d",
       "version_major": 2,
       "version_minor": 0
      },
      "text/plain": [
       "  0%|          | 0/1 [00:00<?, ?it/s]"
      ]
     },
     "metadata": {},
     "output_type": "display_data"
    },
    {
     "name": "stdout",
     "output_type": "stream",
     "text": [
      "Folder 207: Title: \n"
     ]
    },
    {
     "data": {
      "application/vnd.jupyter.widget-view+json": {
       "model_id": "3e0c1da460b04695b2fd1e90f42b1cd0",
       "version_major": 2,
       "version_minor": 0
      },
      "text/plain": [
       "  0%|          | 0/1 [00:00<?, ?it/s]"
      ]
     },
     "metadata": {},
     "output_type": "display_data"
    },
    {
     "name": "stdout",
     "output_type": "stream",
     "text": [
      "Folder 208: Title: \n"
     ]
    },
    {
     "data": {
      "application/vnd.jupyter.widget-view+json": {
       "model_id": "e6c16e2ceffb40c891b57ccdaa67fa79",
       "version_major": 2,
       "version_minor": 0
      },
      "text/plain": [
       "  0%|          | 0/1 [00:00<?, ?it/s]"
      ]
     },
     "metadata": {},
     "output_type": "display_data"
    },
    {
     "name": "stdout",
     "output_type": "stream",
     "text": [
      "Folder 209: Title: A Survey on Sign Language Recognition with Explainable AI Using Machine Learning and Deep Learning Mr. Kiran C. Kulkarni Research Scholar, MET BKC Institute of Engineering, Nashik, Maharashtra, India Dr. Manoj A. Wakchaure Associate Professor, Amrutvahini College of Engineering Sangamner, Maharashtra, India  Abstract: The inclusion and communication of persons who are deaf, hard of hearing, or hard-of-listening\n",
      "Folder 210: Title: Predictionofcompressivestrengthofgeopolymerconcreteviamachinelearningtechniques\n"
     ]
    },
    {
     "data": {
      "application/vnd.jupyter.widget-view+json": {
       "model_id": "0c1d10aac0034de8ac732557d98343b2",
       "version_major": 2,
       "version_minor": 0
      },
      "text/plain": [
       "  0%|          | 0/1 [00:00<?, ?it/s]"
      ]
     },
     "metadata": {},
     "output_type": "display_data"
    },
    {
     "name": "stdout",
     "output_type": "stream",
     "text": [
      "Folder 211: Title: Enhancing Sustainability in Agriculture Using AI: Smart Irrigation Systems\n"
     ]
    },
    {
     "data": {
      "application/vnd.jupyter.widget-view+json": {
       "model_id": "d7e38421f62e47bfa0dc8f14ff10f1e0",
       "version_major": 2,
       "version_minor": 0
      },
      "text/plain": [
       "  0%|          | 0/1 [00:00<?, ?it/s]"
      ]
     },
     "metadata": {},
     "output_type": "display_data"
    },
    {
     "name": "stdout",
     "output_type": "stream",
     "text": [
      "Folder 212: Title: XXX-X-XXXX-XXXX-X/XX/$XX.00 ©20XX IEEE\n"
     ]
    },
    {
     "data": {
      "application/vnd.jupyter.widget-view+json": {
       "model_id": "9b3bed0484b74eb1a47b4b3a91f36482",
       "version_major": 2,
       "version_minor": 0
      },
      "text/plain": [
       "  0%|          | 0/1 [00:00<?, ?it/s]"
      ]
     },
     "metadata": {},
     "output_type": "display_data"
    },
    {
     "name": "stdout",
     "output_type": "stream",
     "text": [
      "Folder 213: Title: XXX-X-XXXX-XXXX-X/XX/$XX.00 ©20XX IEEE\n"
     ]
    },
    {
     "data": {
      "application/vnd.jupyter.widget-view+json": {
       "model_id": "73dcbe9296464a7ea5b8f552ed612482",
       "version_major": 2,
       "version_minor": 0
      },
      "text/plain": [
       "  0%|          | 0/1 [00:00<?, ?it/s]"
      ]
     },
     "metadata": {},
     "output_type": "display_data"
    },
    {
     "name": "stdout",
     "output_type": "stream",
     "text": [
      "Folder 214: Title: XXX-X-XXXX-XXXX-X/XX/$XX.00 ©20XX IEEE\n",
      "Folder 215: No input file found in Submission folder\n",
      "Folder 216: No input file found in Submission folder\n",
      "Folder 217: No input file found in Submission folder\n"
     ]
    },
    {
     "data": {
      "application/vnd.jupyter.widget-view+json": {
       "model_id": "29ae98d7d97047cfb5ebe1fbf3257029",
       "version_major": 2,
       "version_minor": 0
      },
      "text/plain": [
       "  0%|          | 0/1 [00:00<?, ?it/s]"
      ]
     },
     "metadata": {},
     "output_type": "display_data"
    },
    {
     "name": "stdout",
     "output_type": "stream",
     "text": [
      "Folder 218: Title: Research Article\n"
     ]
    },
    {
     "data": {
      "application/vnd.jupyter.widget-view+json": {
       "model_id": "d2cc55305ed34b3986f404fa954dc524",
       "version_major": 2,
       "version_minor": 0
      },
      "text/plain": [
       "  0%|          | 0/1 [00:00<?, ?it/s]"
      ]
     },
     "metadata": {},
     "output_type": "display_data"
    },
    {
     "name": "stdout",
     "output_type": "stream",
     "text": [
      "Folder 219: Title: Automated Cyber Threat Detection and Intelligence Analysis for Proactive Defense: A Review of the Latest Trends and Challenges\n",
      "Folder 22: Title: \n"
     ]
    },
    {
     "data": {
      "application/vnd.jupyter.widget-view+json": {
       "model_id": "cc10f11075d340f6a854f161fa0d1458",
       "version_major": 2,
       "version_minor": 0
      },
      "text/plain": [
       "  0%|          | 0/1 [00:00<?, ?it/s]"
      ]
     },
     "metadata": {},
     "output_type": "display_data"
    },
    {
     "name": "stdout",
     "output_type": "stream",
     "text": [
      "Folder 222: Title: \n"
     ]
    },
    {
     "data": {
      "application/vnd.jupyter.widget-view+json": {
       "model_id": "6aa40b57822d4b6084bd334ff55a2db4",
       "version_major": 2,
       "version_minor": 0
      },
      "text/plain": [
       "  0%|          | 0/1 [00:00<?, ?it/s]"
      ]
     },
     "metadata": {},
     "output_type": "display_data"
    },
    {
     "ename": "KeyboardInterrupt",
     "evalue": "",
     "output_type": "error",
     "traceback": [
      "\u001b[1;31m---------------------------------------------------------------------------\u001b[0m",
      "\u001b[1;31mKeyboardInterrupt\u001b[0m                         Traceback (most recent call last)",
      "\u001b[1;32m~\\AppData\\Local\\Temp\\ipykernel_17260\\552523107.py\u001b[0m in \u001b[0;36m<cell line: 74>\u001b[1;34m()\u001b[0m\n\u001b[0;32m     73\u001b[0m \u001b[1;33m\u001b[0m\u001b[0m\n\u001b[0;32m     74\u001b[0m \u001b[1;32mif\u001b[0m \u001b[0m__name__\u001b[0m \u001b[1;33m==\u001b[0m \u001b[1;34m\"__main__\"\u001b[0m\u001b[1;33m:\u001b[0m\u001b[1;33m\u001b[0m\u001b[1;33m\u001b[0m\u001b[0m\n\u001b[1;32m---> 75\u001b[1;33m     \u001b[0mmain\u001b[0m\u001b[1;33m(\u001b[0m\u001b[1;33m)\u001b[0m\u001b[1;33m\u001b[0m\u001b[1;33m\u001b[0m\u001b[0m\n\u001b[0m",
      "\u001b[1;32m~\\AppData\\Local\\Temp\\ipykernel_17260\\552523107.py\u001b[0m in \u001b[0;36mmain\u001b[1;34m()\u001b[0m\n\u001b[0;32m     64\u001b[0m                         \u001b[1;32mbreak\u001b[0m\u001b[1;33m\u001b[0m\u001b[1;33m\u001b[0m\u001b[0m\n\u001b[0;32m     65\u001b[0m                 \u001b[1;32mif\u001b[0m \u001b[0minput_file\u001b[0m\u001b[1;33m:\u001b[0m\u001b[1;33m\u001b[0m\u001b[1;33m\u001b[0m\u001b[0m\n\u001b[1;32m---> 66\u001b[1;33m                     \u001b[0mtitle\u001b[0m \u001b[1;33m=\u001b[0m \u001b[0mextract_title\u001b[0m\u001b[1;33m(\u001b[0m\u001b[0minput_file\u001b[0m\u001b[1;33m)\u001b[0m\u001b[1;33m\u001b[0m\u001b[1;33m\u001b[0m\u001b[0m\n\u001b[0m\u001b[0;32m     67\u001b[0m                     \u001b[0mprint\u001b[0m\u001b[1;33m(\u001b[0m\u001b[1;34mf\"Folder {folder_name}: Title: {title}\"\u001b[0m\u001b[1;33m)\u001b[0m\u001b[1;33m\u001b[0m\u001b[1;33m\u001b[0m\u001b[0m\n\u001b[0;32m     68\u001b[0m                 \u001b[1;32melse\u001b[0m\u001b[1;33m:\u001b[0m\u001b[1;33m\u001b[0m\u001b[1;33m\u001b[0m\u001b[0m\n",
      "\u001b[1;32m~\\AppData\\Local\\Temp\\ipykernel_17260\\552523107.py\u001b[0m in \u001b[0;36mextract_title\u001b[1;34m(file_path)\u001b[0m\n\u001b[0;32m     44\u001b[0m         \u001b[1;32mreturn\u001b[0m \u001b[0mextract_title_from_pdf\u001b[0m\u001b[1;33m(\u001b[0m\u001b[0mfile_path\u001b[0m\u001b[1;33m)\u001b[0m\u001b[1;33m\u001b[0m\u001b[1;33m\u001b[0m\u001b[0m\n\u001b[0;32m     45\u001b[0m     \u001b[1;32melif\u001b[0m \u001b[0mfile_extension\u001b[0m \u001b[1;33m==\u001b[0m \u001b[1;34m'.docx'\u001b[0m\u001b[1;33m:\u001b[0m\u001b[1;33m\u001b[0m\u001b[1;33m\u001b[0m\u001b[0m\n\u001b[1;32m---> 46\u001b[1;33m         \u001b[1;32mreturn\u001b[0m \u001b[0mextract_title_from_docx\u001b[0m\u001b[1;33m(\u001b[0m\u001b[0mfile_path\u001b[0m\u001b[1;33m)\u001b[0m\u001b[1;33m\u001b[0m\u001b[1;33m\u001b[0m\u001b[0m\n\u001b[0m\u001b[0;32m     47\u001b[0m     \u001b[1;32melse\u001b[0m\u001b[1;33m:\u001b[0m\u001b[1;33m\u001b[0m\u001b[1;33m\u001b[0m\u001b[0m\n\u001b[0;32m     48\u001b[0m         \u001b[1;32mraise\u001b[0m \u001b[0mValueError\u001b[0m\u001b[1;33m(\u001b[0m\u001b[1;34m\"Unsupported file format\"\u001b[0m\u001b[1;33m)\u001b[0m\u001b[1;33m\u001b[0m\u001b[1;33m\u001b[0m\u001b[0m\n",
      "\u001b[1;32m~\\AppData\\Local\\Temp\\ipykernel_17260\\552523107.py\u001b[0m in \u001b[0;36mextract_title_from_docx\u001b[1;34m(docx_path)\u001b[0m\n\u001b[0;32m     28\u001b[0m         \u001b[1;31m# Convert docx to pdf\u001b[0m\u001b[1;33m\u001b[0m\u001b[1;33m\u001b[0m\u001b[0m\n\u001b[0;32m     29\u001b[0m         \u001b[0mpdf_path\u001b[0m \u001b[1;33m=\u001b[0m \u001b[0mdocx_path\u001b[0m\u001b[1;33m[\u001b[0m\u001b[1;33m:\u001b[0m\u001b[1;33m-\u001b[0m\u001b[1;36m4\u001b[0m\u001b[1;33m]\u001b[0m \u001b[1;33m+\u001b[0m \u001b[1;34m\".pdf\"\u001b[0m\u001b[1;33m\u001b[0m\u001b[1;33m\u001b[0m\u001b[0m\n\u001b[1;32m---> 30\u001b[1;33m         \u001b[0mdocx2pdf_convert\u001b[0m\u001b[1;33m(\u001b[0m\u001b[0mdocx_path\u001b[0m\u001b[1;33m,\u001b[0m \u001b[0mpdf_path\u001b[0m\u001b[1;33m)\u001b[0m\u001b[1;33m\u001b[0m\u001b[1;33m\u001b[0m\u001b[0m\n\u001b[0m\u001b[0;32m     31\u001b[0m         \u001b[1;31m# Extract title from the converted pdf\u001b[0m\u001b[1;33m\u001b[0m\u001b[1;33m\u001b[0m\u001b[0m\n\u001b[0;32m     32\u001b[0m         \u001b[0mtitle\u001b[0m \u001b[1;33m=\u001b[0m \u001b[0mextract_title_from_pdf\u001b[0m\u001b[1;33m(\u001b[0m\u001b[0mpdf_path\u001b[0m\u001b[1;33m)\u001b[0m\u001b[1;33m\u001b[0m\u001b[1;33m\u001b[0m\u001b[0m\n",
      "\u001b[1;32m~\\AppData\\Local\\Programs\\ArcGIS\\Pro\\bin\\Python\\envs\\arcgispro-py3\\lib\\site-packages\\docx2pdf\\__init__.py\u001b[0m in \u001b[0;36mconvert\u001b[1;34m(input_path, output_path, keep_active)\u001b[0m\n\u001b[0;32m    104\u001b[0m         \u001b[1;32mreturn\u001b[0m \u001b[0mmacos\u001b[0m\u001b[1;33m(\u001b[0m\u001b[0mpaths\u001b[0m\u001b[1;33m,\u001b[0m \u001b[0mkeep_active\u001b[0m\u001b[1;33m)\u001b[0m\u001b[1;33m\u001b[0m\u001b[1;33m\u001b[0m\u001b[0m\n\u001b[0;32m    105\u001b[0m     \u001b[1;32melif\u001b[0m \u001b[0msys\u001b[0m\u001b[1;33m.\u001b[0m\u001b[0mplatform\u001b[0m \u001b[1;33m==\u001b[0m \u001b[1;34m\"win32\"\u001b[0m\u001b[1;33m:\u001b[0m\u001b[1;33m\u001b[0m\u001b[1;33m\u001b[0m\u001b[0m\n\u001b[1;32m--> 106\u001b[1;33m         \u001b[1;32mreturn\u001b[0m \u001b[0mwindows\u001b[0m\u001b[1;33m(\u001b[0m\u001b[0mpaths\u001b[0m\u001b[1;33m,\u001b[0m \u001b[0mkeep_active\u001b[0m\u001b[1;33m)\u001b[0m\u001b[1;33m\u001b[0m\u001b[1;33m\u001b[0m\u001b[0m\n\u001b[0m\u001b[0;32m    107\u001b[0m     \u001b[1;32melse\u001b[0m\u001b[1;33m:\u001b[0m\u001b[1;33m\u001b[0m\u001b[1;33m\u001b[0m\u001b[0m\n\u001b[0;32m    108\u001b[0m         raise NotImplementedError(\n",
      "\u001b[1;31mKeyboardInterrupt\u001b[0m: "
     ]
    }
   ],
   "source": [
    "import os\n",
    "import tempfile\n",
    "from PyPDF2 import PdfWriter, PdfReader\n",
    "from io import BytesIO\n",
    "from reportlab.lib.pagesizes import letter\n",
    "from reportlab.pdfgen import canvas\n",
    "from docx import Document\n",
    "import pdfplumber\n",
    "from docx2pdf import convert as docx2pdf_convert\n",
    "\n",
    "\n",
    "def extract_title_from_pdf(pdf_path):\n",
    "    title = \"\"\n",
    "    with pdfplumber.open(pdf_path) as pdf:\n",
    "        first_page = pdf.pages[0]\n",
    "        first_font_size = None\n",
    "        for obj in first_page.chars:\n",
    "            if not first_font_size:\n",
    "                first_font_size = obj['size']\n",
    "            if obj['size'] == first_font_size:\n",
    "                title += obj['text']\n",
    "            else:\n",
    "                break\n",
    "    return title.strip()\n",
    "\n",
    "def extract_title_from_docx(docx_path):\n",
    "    try:\n",
    "        # Convert docx to pdf\n",
    "        pdf_path = docx_path[:-4] + \".pdf\"\n",
    "        docx2pdf_convert(docx_path, pdf_path)\n",
    "        # Extract title from the converted pdf\n",
    "        title = extract_title_from_pdf(pdf_path)\n",
    "        # Delete the original docx file\n",
    "        os.remove(docx_path)\n",
    "        return title\n",
    "    except Exception as e:\n",
    "        print(f\"Error extracting title from {docx_path}: {e}\")\n",
    "        return \"Error: Title extraction failed\"\n",
    "\n",
    "\n",
    "def extract_title(file_path):\n",
    "    file_extension = os.path.splitext(file_path)[1].lower()\n",
    "    if file_extension == '.pdf':\n",
    "        return extract_title_from_pdf(file_path)\n",
    "    elif file_extension == '.docx':\n",
    "        return extract_title_from_docx(file_path)\n",
    "    else:\n",
    "        raise ValueError(\"Unsupported file format\")\n",
    "\n",
    "\n",
    "def main():\n",
    "    submissions_folder = 'SSubmissions674'  # Path to the submissions674 folder\n",
    "    for folder_name in os.listdir(submissions_folder):\n",
    "        if folder_name.startswith('.'):\n",
    "            continue  # Skip directories starting with '.'\n",
    "        folder_path = os.path.join(submissions_folder, folder_name)\n",
    "        if os.path.isdir(folder_path):\n",
    "            submission_folder = os.path.join(folder_path, 'Submission')\n",
    "            if os.path.exists(submission_folder):\n",
    "                input_file = None\n",
    "                for file in os.listdir(submission_folder):\n",
    "                    if file.endswith('.pdf') or file.endswith('.docx'):\n",
    "                        input_file = os.path.join(submission_folder, file)\n",
    "                        break\n",
    "                if input_file:\n",
    "                    title = extract_title(input_file)\n",
    "                    print(f\"Folder {folder_name}: Title: {title}\")\n",
    "                else:\n",
    "                    print(f\"Folder {folder_name}: No input file found in Submission folder\")\n",
    "            else:\n",
    "                print(f\"Folder {folder_name}: Submission folder not found\")\n",
    "\n",
    "\n",
    "if __name__ == \"__main__\":\n",
    "    main()\n"
   ]
  },
  {
   "cell_type": "code",
   "execution_count": 44,
   "id": "f59eb764",
   "metadata": {},
   "outputs": [
    {
     "name": "stdout",
     "output_type": "stream",
     "text": [
      "Folder 1: Title: Next-Generation Cloud Infrastructure Management - Integrating TCNs and Ensemble Policies for Improved Performance\n",
      "Folder 10: Title: \n",
      "Folder 100: Title: LegalContractAnalysisandSummarization\n",
      "Folder 102: Title: \n",
      "Folder 103: Title: Arpan Dixit\n",
      "Folder 104: Title: ComparingGPTandHumanresponseAnalysis:Strengths,Limitations,andtheFutureofAICommunications\n",
      "Folder 105: Title: Liver Segmentation from MR T1 In-phase and Out-phase fused Images using U-Net and its Modified Variants\n",
      "Folder 106: Title: A Novel Method of Enhancing Skin Lesion Diagnosis Using Attention Mechanisms and Weakly-Supervised Learning\n",
      "Folder 107: Title: Secure Private Data Storage and File Sharing Using Homomorphic and Hybrid Hash-Based Cryptographic Technique in Cloud\n",
      "Folder 108: Title: F.Y.B.Tech Students’ Engineering Design and Innovation (EDAI1) Project Paper, SEM 1 A.Y. 2022-23  Vishwakarma Institute of Technology, Pune, INDIA.\n",
      "Folder 109: Title: XXX-X-XXXX-XXXX-X/XX/$XX.00 ©20XX IEEE\n",
      "Folder 11: Title: Page | 1\n",
      "Folder 110: Title: Loopholes in security implementation of cloud and IoT environment: Case study of a recent security incident\n",
      "Folder 111: Title: FromTastetoText:ExaminingtheInfluenceofOnlineReviewsonCulinaryExperiences\n",
      "Folder 112: Title: \n",
      "Folder 114: Title: HOSPITAL MANAGEMENT SYSTEM USING PHP & MY-SQL\n",
      "Folder 115: Title: \n",
      "Folder 116: Title: Signature Verification Using Computer Vision\n",
      "Folder 117: Title: \n",
      "Folder 118: Title: \n",
      "Folder 12: Title: 1\n",
      "Folder 120: Title: 1\n",
      "Folder 121: Title: \n",
      "Folder 122: Title: AI-EnabledLanguageLearningPlatform\n",
      "Folder 123: Title: AI-EnabledLanguageLearningPlatform\n",
      "Folder 125: Title: CRYPTOCURRENCY TRACKER APPLICATION FOR REAL-TIME CRYPTOCURRENCY PRICE TRACKING AND\n",
      "Folder 126: Title: AUTOMATICSPEECHRECOGNITIONUSINGDEEPNEURALNETWORKS\n",
      "Folder 127: Title: SkinDiseaseDetection\n",
      "Folder 128: Title: Blockchain based Medical Records Management\n",
      "Folder 129: Title: SecureTransactionShield\n",
      "Folder 13: Title: \n",
      "Folder 131: Title: Seamless Interaction AI Hand Gesture\n",
      "Folder 132: Title: RemoteECGMonitoringSystemviaInternet\n",
      "Folder 133: Title: SCHOOL MANAGEMENT SYSTEM\n",
      "Folder 134: Title: AReal-TimeObjectDetectionforSurveillanceSystemUsingYOLOv5\n",
      "Folder 136: Title: F.Y.B. Tech Students’ Engineering Design and Innovation (EDAI 2) Project Paper, SEM 2 A.Y. 2022-23  Vishwakarma Institute of Technology, Pune, INDIA.\n",
      "Folder 137: Title: Real-Time Object Detection Using  Deep Learning and OpenCV\n",
      "Folder 138: Title: VarishtaRakshak:AnAI-basedcomprehensivewebframeworkforensuringseniorcitizencareinrealtime.\n",
      "Folder 139: Title: ChatApsit:GenerativeAIbasedcomprehensivewebframeworkforanEducationalInstitute\n",
      "Folder 14: Title: WEB-INTEGRATED MECHANIC SERVICE FINDER\n",
      "Folder 140: Title: \n",
      "Folder 141: Title: Text-Based Generative AI\n",
      "Folder 142: Title: Digital Filter Design Using Soft Computing\n",
      "Folder 143: Title: Real-Time Anomaly Detection System for Network Administrators\n",
      "Folder 144: Title: \n",
      "Folder 146: Title: 1\n",
      "Folder 147: Title: ONGOING MARKET PREDICTION BY USING PYTHON and ML\n",
      "Folder 148: Title: FacialRecognitionandDetectionTechnologyforAttendanceSystems\n",
      "Folder 149: Title: Machine Learning for Healthcare Diagnostics\n",
      "Folder 15: Title: \n",
      "Folder 150: Title: \n",
      "Folder 151: Title: From Crash Protection to Life Protection: The Smart Airbag SOS System\n",
      "Folder 152: Title: Enhancing Invasive Ductal Carcinoma Detection in Breast Histopathology using Convolutional Neural Networks\n",
      "Folder 153: Title: AChronicKidneyDiseasepredictionsusingMLalgorithms\n",
      "Folder 154: Title: DOUBLE PRECISION FLOATING POINT COMPARATOR\n",
      "Folder 155: Title: SIMULATING DIGITAL PHASE LOCKED LOOP USING VERILOG\n",
      "Folder 156: Title: \n",
      "Folder 157: Title: ZEN: AI Voice Assistant\n",
      "Folder 158: Title: INTRUSION DETECTION SYSTEM USING RASPBERRY PI AND TELEGRAM INTEGRATION\n",
      "Folder 159: Title: Blockchain Based Crypto-Wallet\n",
      "Folder 16: Title: \n",
      "Folder 160: Title: SurveyPaperonMachineLearningandDeepLearningDrivenApplicationsusingBayesianTechniques\n",
      "Folder 161: Title: \n",
      "Folder 162: Title: WoS Bibliometric and Content Analysis on Handwritten Hindi Characters Recognition\n",
      "Folder 163: Title: \n",
      "Folder 164: Title: Ensembling of Performance Metrics in Credit Risk Assessment Using Machine Learning Analytics Arijit Bhattacharya\n",
      "Folder 165: Title: IMAGE FORGERY DETECTION USING COMPUTER VISION TECHNIQUES\n",
      "Folder 166: Title: A Survey on smoking and Alcohol Tracking Systems: State of the Art, Analysis, and Performance Evaluation\n",
      "Folder 167: Title: XXX-X-XXXX-XXXX-X/XX/$XX.00 ©20XX IEEE\n",
      "Folder 168: Title: Does Employee Loyalty Moderates the Relationship between Job Satisfaction and other influencing Factors of Workers' Performance\n",
      "Folder 169: Title: IoT Based Architecture to Monitoring the Quality of Animal Fodder and prototype to extract the grass color\n",
      "Folder 17: Title: WASTE SEGREGATION USING CNN\n",
      "Folder 170: Title: Machine Learning Based Framework For  Phishing Website Detection\n",
      "Folder 171: Title: Adaptation of Blockchain Technologies into Monetary Transmission in Banking Operations\n",
      "Folder 172: Title: NeuroSyght: An AI-Powered Approach on Emotion Classification from EEG Data\n",
      "Folder 173: Title: Digital Forensics and Machine Learning Based Early Detection of Ongoing Cyber-Attacks\n",
      "Folder 175: Title: \n",
      "Folder 176: Title: Revitalising Volunteerism: The Transformative Influence of Artificial Intelligence in Volunteer Management\n",
      "Folder 177: Title: \n",
      "Folder 178: Title: \n",
      "Folder 179: Title: \n",
      "Folder 18: Title: Bird Identification through Visual and Auditory Signals using Deep Learning\n",
      "Folder 180: Title: A Review of Machine Learning Algorithms for Predicting Heart Disease\n",
      "Folder 182: Title: AN APPROACH FOR CROSS-PLATFORM APPLICATION DEVELOPMENT    USING FLUTTER AND FIREBASE\n",
      "Folder 183: Title: CURRENT WEB DEVELOPMENT TRENDS\n",
      "Folder 184: Title: EVOLUTION OF ARTIFICIAL INTELLIGENCE\n",
      "Folder 185: Title: praveenchowdary413@gmail.com  Abstract— Plastic pollution is a huge environmental problem, leading research into novel solutions such as road construction utilising plastic trash. This method has various advantages, including increased durability, decreased maintenance requirements, and cost-effectiveness. However, further study is needed to fully grasp the potential of waste polyolefin pyrolysis products for bitumen modification, which is critical for optimising the quality and performance of binders in such applications. It is critical to investigate the relationships between pyrolysis process parameters and final product quality. Additionally, techniques for modifying these goods and improving their performance in diverse applications should be investigated. This technique might be extended beyond road building to provide sustainable solutions in other areas. The growing garbage creation emphasises the importance of addressing disposal techniques. One intriguing option includes combining plastic garbage with asphalt to generate durable road surfaces. This may drastically reduce plastic litter in landfills and seas while also reducing asphalt consumption and providing a more environmentally friendly road building option. However, difficulties remain. Concerns about the dependability, safety, and potential harmful environmental effects of plastic roads persist. The production and use of plastic materials for road building generate legitimate concerns regarding their overall environmental impact. Despite these obstacles, the continued investigation and deployment of plastic roads represent significant advances in sustainable infrastructure innovation. More research, stricter standards, and coordinated efforts are required to reduce dangers and maximise the advantages of this method.   Keywords— Waste plastic roads, Plastic waste, Road construction, Bitumen, Asphalt, Collection, Sorting, Shredding, Composite material, Laydown, Maintenance, Durability, Safety,  Innovation\n",
      "Folder 186: Title: S.Y.B.Tech Students’ Engineering Design and Innovation (EDAI3) Project Paper, SEM 3 A.Y. 2023-24  Vishwakarma Institute of Technology, Pune\n",
      "Folder 188: Title: SarcasmandHumorDetectioninCode-MixedHindiData:ASurvey\n",
      "Folder 189: Title: SOLEFIT:ASMARTSHOEDEVELOPEDFORDIABETICPATIENTS\n",
      "Folder 19: Title: \n",
      "Folder 190: Title: ScriptSketch: Art Generation using Deep Learning\n",
      "Folder 191: Title: Sign Language Translator\n"
     ]
    },
    {
     "name": "stdout",
     "output_type": "stream",
     "text": [
      "Folder 192: Title: XXX-X-XXXX-XX-X/XX/$XX.00 ©20XX IEEE\n",
      "Folder 193: Title: FakeNewsDetectionUsingMachineLearning\n",
      "Folder 194: Title: GUARDING THE GATE: Innovative Solutions for Third-Party app Vulnerabilities\n",
      "Folder 195: Title: Automatic brain tumor detection Using CNN\n",
      "Folder 196: Title: Normalized Mutual Information Driven Feature Extraction Method for Big Data Analytics\n",
      "Folder 197: Title: \n",
      "Folder 198: Title: A New Epoch in Product Assurance: Leveraging Blockchain for Robust Anti-Counterfeiting Measures\n",
      "Folder 199: Title: AYOLObasedDeepLearningApproachtodetectthepotholes\n",
      "Folder 2: Title: Hospital Record Management System Using Blockchain\n",
      "Folder 20: Title: Enhancing Rainfall Prediction: A Confluence of Machine Learning and Ensemble Techniques\n",
      "Folder 200: Title: A Review of Machine Learning  Models for Predicting Agile Methodology\n",
      "Folder 201: Title: Machine Learning techniques for pose based human activity recognition\n",
      "Folder 202: Title: ComparativeAnalysisofDiseasedetectionamongtomatoplantsusingmachineandDeeplearningtechniques\n",
      "Folder 203: Title: Farming in the Digital Age: A Machine Learning Enhanced Crop Yield Prediction and Recommendation System\n",
      "Folder 204: Title: Machine Olfaction: Creating a Digital Nose\n",
      "Folder 205: Title: Identify Cricket Shots\n",
      "Folder 206: Title: Driver Drowsiness Detection System.\n",
      "Folder 207: Title: \n",
      "Folder 208: Title: \n",
      "Folder 209: Title: A Survey on Sign Language Recognition with Explainable AI Using Machine Learning and Deep Learning Mr. Kiran C. Kulkarni Research Scholar, MET BKC Institute of Engineering, Nashik, Maharashtra, India Dr. Manoj A. Wakchaure Associate Professor, Amrutvahini College of Engineering Sangamner, Maharashtra, India  Abstract: The inclusion and communication of persons who are deaf, hard of hearing, or hard-of-listening\n",
      "Folder 210: Title: Predictionofcompressivestrengthofgeopolymerconcreteviamachinelearningtechniques\n",
      "Folder 211: Title: Enhancing Sustainability in Agriculture Using AI: Smart Irrigation Systems\n",
      "Folder 212: Title: XXX-X-XXXX-XXXX-X/XX/$XX.00 ©20XX IEEE\n",
      "Folder 213: Title: XXX-X-XXXX-XXXX-X/XX/$XX.00 ©20XX IEEE\n",
      "Folder 214: Title: XXX-X-XXXX-XXXX-X/XX/$XX.00 ©20XX IEEE\n",
      "Folder 215: No input file found in Submission folder\n",
      "Folder 216: No input file found in Submission folder\n",
      "Folder 217: No input file found in Submission folder\n",
      "Folder 218: Title: Research Article\n",
      "Folder 219: Title: Automated Cyber Threat Detection and Intelligence Analysis for Proactive Defense: A Review of the Latest Trends and Challenges\n",
      "Folder 22: Title: 0\n",
      "Folder 222: Title: \n",
      "Folder 223: Title: AI-Powered Personalised Learning in Primary Education: A Design Thinking Perspective\n",
      "Folder 224: Title: An Improved Optimization Liver Disease Prediction using Particle Swarm Optimization (PSO)\n",
      "Folder 225: Title: An Implementation of Improved Optimization Liver Disease Prediction using Particle Swarm Optimization (PSO)\n",
      "Folder 226: Title: A Convergent Approach: Implementing IoT, GPS and Health Monitoring for Holistic Animal Oversight\n",
      "Current Count:  126\r"
     ]
    },
    {
     "data": {
      "application/vnd.jupyter.widget-view+json": {
       "model_id": "07721500803743c5a94d2f5e274aaa1d",
       "version_major": 2,
       "version_minor": 0
      },
      "text/plain": [
       "  0%|          | 0/1 [00:00<?, ?it/s]"
      ]
     },
     "metadata": {},
     "output_type": "display_data"
    },
    {
     "name": "stdout",
     "output_type": "stream",
     "text": [
      "Folder 227: Title: Smart Seating: The Smart Seating Solution for Crowded Public Transit\n",
      "Folder 228: Title: Aid Crowdfunding: Proposal to Integrate Blockchain Technology in Coherence with Traditional Banking\n",
      "Current Count:  128\r"
     ]
    },
    {
     "data": {
      "application/vnd.jupyter.widget-view+json": {
       "model_id": "c3cd850c2a0d434eb54cc5fc3a54e77f",
       "version_major": 2,
       "version_minor": 0
      },
      "text/plain": [
       "  0%|          | 0/1 [00:00<?, ?it/s]"
      ]
     },
     "metadata": {},
     "output_type": "display_data"
    },
    {
     "name": "stdout",
     "output_type": "stream",
     "text": [
      "Folder 229: Title: SAFEGUARDING USER PRIVACY: MACHINE LEARNING STRATEGIES FOR ANDROID MALWARE DETECTION\n",
      "Folder 23: Title: Weather Forecasting CubeSat\n",
      "Current Count:  130\r"
     ]
    },
    {
     "data": {
      "application/vnd.jupyter.widget-view+json": {
       "model_id": "af762d149245442fa97271e334690d86",
       "version_major": 2,
       "version_minor": 0
      },
      "text/plain": [
       "  0%|          | 0/1 [00:00<?, ?it/s]"
      ]
     },
     "metadata": {},
     "output_type": "display_data"
    },
    {
     "name": "stdout",
     "output_type": "stream",
     "text": [
      "Folder 230: Title: XXX-X-XXXX-XXXX-X/XX/$XX.00 ©20XX IEEE\n",
      "Folder 231: Title: AssessingKneeOsteoarthritisSeverity:ADeepLearningApproachwithEnhancedResNet152\n",
      "Folder 232: Title: ENHANCING DIABETIC RETINOPATHY ASSESSMENT: NON-PROLIFERATIVE STAGE IDENTIFICATION THROUGH CLAHE and DATA AGUMENTATION METHODS OF DATA PREPROCESSING\n",
      "Folder 233: Title: KneeACLTear,MeniscalTearandAbnormalityDetectionusingEnsembleofCNNTechniques\n",
      "Current Count:  134\r"
     ]
    },
    {
     "data": {
      "application/vnd.jupyter.widget-view+json": {
       "model_id": "1b0e8c7b55264d3eb237b84f41bfd27e",
       "version_major": 2,
       "version_minor": 0
      },
      "text/plain": [
       "  0%|          | 0/1 [00:00<?, ?it/s]"
      ]
     },
     "metadata": {},
     "output_type": "display_data"
    },
    {
     "name": "stdout",
     "output_type": "stream",
     "text": [
      "Folder 234: Title: TOXIC COMMENT CLASSIFICATION USING LSTM AND CNN\n",
      "Current Count:  135\r"
     ]
    },
    {
     "data": {
      "application/vnd.jupyter.widget-view+json": {
       "model_id": "e8bb4b1fd137409db58c7df88434e4d8",
       "version_major": 2,
       "version_minor": 0
      },
      "text/plain": [
       "  0%|          | 0/1 [00:00<?, ?it/s]"
      ]
     },
     "metadata": {},
     "output_type": "display_data"
    },
    {
     "name": "stdout",
     "output_type": "stream",
     "text": [
      "Folder 235: Title: Navigating the Innovations and Challenges of Video-based Traffic Surveillance: An In-Depth Review\"\n",
      "Current Count:  136\r"
     ]
    },
    {
     "data": {
      "application/vnd.jupyter.widget-view+json": {
       "model_id": "253912f19fe74e76b025b0e9e7049f15",
       "version_major": 2,
       "version_minor": 0
      },
      "text/plain": [
       "  0%|          | 0/1 [00:00<?, ?it/s]"
      ]
     },
     "metadata": {},
     "output_type": "display_data"
    },
    {
     "name": "stdout",
     "output_type": "stream",
     "text": [
      "Folder 236: Title: Accelerating Fractal Image Compression with AI and Parallel Computing\n",
      "Current Count:  137\r"
     ]
    },
    {
     "data": {
      "application/vnd.jupyter.widget-view+json": {
       "model_id": "a704632da1fe4fdbb6f357fc9323a19d",
       "version_major": 2,
       "version_minor": 0
      },
      "text/plain": [
       "  0%|          | 0/1 [00:00<?, ?it/s]"
      ]
     },
     "metadata": {},
     "output_type": "display_data"
    },
    {
     "name": "stdout",
     "output_type": "stream",
     "text": [
      "Folder 237: Title: DESIGN OF A WEARABLE DEVICE TO INDICATE  SCIATIC NERVE PRESSURE\n",
      "Current Count:  138\r"
     ]
    },
    {
     "data": {
      "application/vnd.jupyter.widget-view+json": {
       "model_id": "405d67938b8841a39fb00b97baf395ff",
       "version_major": 2,
       "version_minor": 0
      },
      "text/plain": [
       "  0%|          | 0/1 [00:00<?, ?it/s]"
      ]
     },
     "metadata": {},
     "output_type": "display_data"
    },
    {
     "name": "stdout",
     "output_type": "stream",
     "text": [
      "Folder 238: Title: A REVIEW OF TIMELY NOTIFICATION SYSTEMS FOR ENHANCING MEDICATION ADHERENCE\n",
      "Folder 239: Title: Data-Efficient Training for Effective Paraphrase Retrieval Techniques Using Language Models to Identify Research Gaps\n",
      "Folder 24: Title: 0\n",
      "Folder 240: Title: \n",
      "Folder 241: Title: \n",
      "Folder 242: No input file found in Submission folder\n"
     ]
    },
    {
     "data": {
      "application/vnd.jupyter.widget-view+json": {
       "model_id": "0964411c7d9a4e3099c3b22f07efa41b",
       "version_major": 2,
       "version_minor": 0
      },
      "text/plain": [
       "  0%|          | 0/1 [00:00<?, ?it/s]"
      ]
     },
     "metadata": {},
     "output_type": "display_data"
    },
    {
     "name": "stdout",
     "output_type": "stream",
     "text": [
      "Folder 243: Title: \n",
      "Current Count:  144\r"
     ]
    },
    {
     "data": {
      "application/vnd.jupyter.widget-view+json": {
       "model_id": "ca64f0dc4d0343b9b45c7eb47a626015",
       "version_major": 2,
       "version_minor": 0
      },
      "text/plain": [
       "  0%|          | 0/1 [00:00<?, ?it/s]"
      ]
     },
     "metadata": {},
     "output_type": "display_data"
    },
    {
     "name": "stdout",
     "output_type": "stream",
     "text": [
      "Folder 244: Title: Forecasting Bitcoin Prices: Unveiling Patterns with Machine Learning\n",
      "Current Count:  145\r"
     ]
    },
    {
     "data": {
      "application/vnd.jupyter.widget-view+json": {
       "model_id": "6925261548fb4daead338129da604d08",
       "version_major": 2,
       "version_minor": 0
      },
      "text/plain": [
       "  0%|          | 0/1 [00:00<?, ?it/s]"
      ]
     },
     "metadata": {},
     "output_type": "display_data"
    },
    {
     "name": "stdout",
     "output_type": "stream",
     "text": [
      "Folder 245: Title: 1\n",
      "Folder 246: Title: \n",
      "Current Count:  147\r"
     ]
    },
    {
     "data": {
      "application/vnd.jupyter.widget-view+json": {
       "model_id": "f91dfbd52fb842498a9615eb64219f2a",
       "version_major": 2,
       "version_minor": 0
      },
      "text/plain": [
       "  0%|          | 0/1 [00:00<?, ?it/s]"
      ]
     },
     "metadata": {},
     "output_type": "display_data"
    },
    {
     "name": "stdout",
     "output_type": "stream",
     "text": [
      "Folder 247: Title: A Review of Financial Risk Assessment Using Secure Neural Networks and Big Data Mining\n",
      "Folder 248: Title: Integrating Artificial Intelligence for Accurate Prediction of Vitamin D Deficiency in Type 2 Diabetes Patients\n",
      "Current Count:  149\r"
     ]
    },
    {
     "data": {
      "application/vnd.jupyter.widget-view+json": {
       "model_id": "6412a19aa2f0488f96c3193ed5bf3adb",
       "version_major": 2,
       "version_minor": 0
      },
      "text/plain": [
       "  0%|          | 0/1 [00:00<?, ?it/s]"
      ]
     },
     "metadata": {},
     "output_type": "display_data"
    },
    {
     "name": "stdout",
     "output_type": "stream",
     "text": [
      "Folder 249: Title: Deep Learning Based Emotion Detection in Voice Data Using Convolutional-LSTM Networks\n",
      "Current Count:  150\r"
     ]
    },
    {
     "data": {
      "application/vnd.jupyter.widget-view+json": {
       "model_id": "c83673de4c2e416e834959b3019d8f71",
       "version_major": 2,
       "version_minor": 0
      },
      "text/plain": [
       "  0%|          | 0/1 [00:00<?, ?it/s]"
      ]
     },
     "metadata": {},
     "output_type": "display_data"
    },
    {
     "name": "stdout",
     "output_type": "stream",
     "text": [
      "Folder 25: Title: CREATING A STUDENT FRENDLY PORTAL: SELENIUM TESTING\n",
      "Folder 250: Title: ASurveyonSuperResolutionforvideoEnhancementUsingGAN\n",
      "Folder 252: Title: LipMovementtoTextConversion-ASurvey\n",
      "Folder 253: Title: IncorporatingLoRabasedWirelessSensorNetworkandMachineLearningTechnologiestoImprovePrecisionAgriculture\n",
      "Folder 254: Title: \n",
      "Folder 255: Title: \n",
      "Folder 257: No input file found in Submission folder\n"
     ]
    },
    {
     "data": {
      "application/vnd.jupyter.widget-view+json": {
       "model_id": "2c2b2663c66445af9cf074dd0b1f9f66",
       "version_major": 2,
       "version_minor": 0
      },
      "text/plain": [
       "  0%|          | 0/1 [00:00<?, ?it/s]"
      ]
     },
     "metadata": {},
     "output_type": "display_data"
    },
    {
     "name": "stdout",
     "output_type": "stream",
     "text": [
      "Folder 258: Title: Evaluating Women's Fertility Rate using Machine Learning and Statistical Tools\n",
      "Folder 259: Title: Identification of Polycystic Ovarian Syndrome through Clinical Metrics and Ultrasonographic Image Analysis\n",
      "Folder 26: Title: Cloud-PoweredPersonalization:AnAdvancedRecommendationSystemForE-CommerceSites\n",
      "Folder 261: Title: \n",
      "Folder 262: Title: Personalized Stress Mitigation through EEG based Stress Classification and Music Recommendation\n",
      "Folder 263: Title: EXPLORATORYANALYSISONPERSONALIZEDHEALTHASSISTANCEDURINGPCOSUSINGMACHINELEARNINGTECHNIQUES\n",
      "Folder 264: Title: \n",
      "Folder 265: Title: Detection and Prediction of Alzheimer's disease using Rule Induction Method\n",
      "Folder 266: No input file found in Submission folder\n",
      "Folder 267: Title: AdvancingInComputerVisionWithVisionTransformers:AComprehensiveReviewAndProposedSystem\n",
      "Folder 268: Title: Enhancing Efficiency and Functionality of Voice-Controlled Cars through NLP Techniques and Additional Features\n",
      "Folder 269: Title: 1  Abstract— The pandemic years made us think a lot about what's\n",
      "Current Count:  167\r"
     ]
    },
    {
     "data": {
      "application/vnd.jupyter.widget-view+json": {
       "model_id": "d97103784e7148c0939f3ad8aad7cf16",
       "version_major": 2,
       "version_minor": 0
      },
      "text/plain": [
       "  0%|          | 0/1 [00:00<?, ?it/s]"
      ]
     },
     "metadata": {},
     "output_type": "display_data"
    },
    {
     "name": "stdout",
     "output_type": "stream",
     "text": [
      "Folder 27: Title: 1\n",
      "Current Count:  168\r",
      "Folder 270: No input file found in Submission folder\n"
     ]
    },
    {
     "data": {
      "application/vnd.jupyter.widget-view+json": {
       "model_id": "a9ddb97c4e9d40d4aebec17f67842f59",
       "version_major": 2,
       "version_minor": 0
      },
      "text/plain": [
       "  0%|          | 0/1 [00:00<?, ?it/s]"
      ]
     },
     "metadata": {},
     "output_type": "display_data"
    },
    {
     "name": "stdout",
     "output_type": "stream",
     "text": [
      "Folder 271: Title: 1\n",
      "Folder 272: Title: AIJurist:EmpoweringLegalKnowledgeandPracticesinIndia\n",
      "Folder 273: Title: Cost-EffectiveA/BTesting:LeveragingGoandPythonforEfficientExperimentationinHermesTestingPlatform\n",
      "Current Count:  171\r"
     ]
    },
    {
     "data": {
      "application/vnd.jupyter.widget-view+json": {
       "model_id": "439a3eb9f665481e9fd79b0213394ff3",
       "version_major": 2,
       "version_minor": 0
      },
      "text/plain": [
       "  0%|          | 0/1 [00:00<?, ?it/s]"
      ]
     },
     "metadata": {},
     "output_type": "display_data"
    },
    {
     "name": "stdout",
     "output_type": "stream",
     "text": [
      "Folder 274: Title: RECENT ADVANCEMENTS IN IOT IMPLEMENTATION FOR ENVIRONMENTAL, SAFETY AND PRODUCTION MONITORING IN UNDERGROUND MINES\n",
      "Current Count:  172\r"
     ]
    },
    {
     "data": {
      "application/vnd.jupyter.widget-view+json": {
       "model_id": "221cf5e89e094f908faff09c7b1f8ed6",
       "version_major": 2,
       "version_minor": 0
      },
      "text/plain": [
       "  0%|          | 0/1 [00:00<?, ?it/s]"
      ]
     },
     "metadata": {},
     "output_type": "display_data"
    },
    {
     "name": "stdout",
     "output_type": "stream",
     "text": [
      "Folder 275: Title: E-VOTING SYSTEM USING BLOCKCHAIN\n",
      "Folder 276: Title: Exploring Advanced Techniques in Natural Language Processing and Machine Learning for In-Depth Analysis of Insurance Claims: A Comprehensive Survey\n",
      "Folder 277: Title: \n",
      "Current Count:  175\r"
     ]
    },
    {
     "data": {
      "application/vnd.jupyter.widget-view+json": {
       "model_id": "49c5d773b014447c8bedcf1e5d4d7418",
       "version_major": 2,
       "version_minor": 0
      },
      "text/plain": [
       "  0%|          | 0/1 [00:00<?, ?it/s]"
      ]
     },
     "metadata": {},
     "output_type": "display_data"
    },
    {
     "name": "stdout",
     "output_type": "stream",
     "text": [
      "Folder 278: Title: A Survey On Text And VoiceSummarization Of DravidianLanguages\n",
      "Current Count:  176\r"
     ]
    },
    {
     "data": {
      "application/vnd.jupyter.widget-view+json": {
       "model_id": "fb530c43054e4a8fb86499679e94ed23",
       "version_major": 2,
       "version_minor": 0
      },
      "text/plain": [
       "  0%|          | 0/1 [00:00<?, ?it/s]"
      ]
     },
     "metadata": {},
     "output_type": "display_data"
    },
    {
     "name": "stdout",
     "output_type": "stream",
     "text": [
      "Folder 279: Title: Enhancing Academic Engagement: A Comprehensive Review of Student Monitoring Systems for Focused Learning\n",
      "Folder 28: Title: EXAMBOT USING FULL STACK\n",
      "Current Count:  178\r"
     ]
    },
    {
     "data": {
      "application/vnd.jupyter.widget-view+json": {
       "model_id": "bb7f0bc8728340b68e2c8226c3effcf8",
       "version_major": 2,
       "version_minor": 0
      },
      "text/plain": [
       "  0%|          | 0/1 [00:00<?, ?it/s]"
      ]
     },
     "metadata": {},
     "output_type": "display_data"
    },
    {
     "name": "stdout",
     "output_type": "stream",
     "text": [
      "Folder 280: Title: \n",
      "Folder 281: Title: Governance and System Controls for BYOD to Secure Access to Corporate Resources\n",
      "Folder 282: Title: \n",
      "Folder 283: No input file found in Submission folder\n",
      "Folder 284: Title: GenerativeAIinBusinesses:ACross-SectorAnalysis\n",
      "Current Count:  182\r"
     ]
    },
    {
     "data": {
      "application/vnd.jupyter.widget-view+json": {
       "model_id": "2a834d0b250d4156b5b3a2c48925c30a",
       "version_major": 2,
       "version_minor": 0
      },
      "text/plain": [
       "  0%|          | 0/1 [00:00<?, ?it/s]"
      ]
     },
     "metadata": {},
     "output_type": "display_data"
    },
    {
     "name": "stdout",
     "output_type": "stream",
     "text": [
      "Folder 286: Title: Revolutionizing Healthcare: The Impact of Artificial Intelligence in Connected Medicine – Unleashing the Power of Real-time Diagnostics, Personalized Treatment and Ethical AI Adoption\n",
      "Current Count:  183\r"
     ]
    },
    {
     "data": {
      "application/vnd.jupyter.widget-view+json": {
       "model_id": "8c9332a75e624b869456c2c40088d9a7",
       "version_major": 2,
       "version_minor": 0
      },
      "text/plain": [
       "  0%|          | 0/1 [00:00<?, ?it/s]"
      ]
     },
     "metadata": {},
     "output_type": "display_data"
    },
    {
     "name": "stdout",
     "output_type": "stream",
     "text": [
      "Folder 287: Title: Examine AI-Powered Chatbots to Encourage Health-Related Behaviour Changes: An Organized Review\n",
      "Current Count:  184\r"
     ]
    },
    {
     "data": {
      "application/vnd.jupyter.widget-view+json": {
       "model_id": "5958f69fb79043daa943afeab4d23211",
       "version_major": 2,
       "version_minor": 0
      },
      "text/plain": [
       "  0%|          | 0/1 [00:00<?, ?it/s]"
      ]
     },
     "metadata": {},
     "output_type": "display_data"
    },
    {
     "name": "stdout",
     "output_type": "stream",
     "text": [
      "Folder 288: Title: XXX-X-XXXX-XXXX-X/XX/$XX.00 ©20XX IEEE\n",
      "Current Count:  185\r"
     ]
    },
    {
     "data": {
      "application/vnd.jupyter.widget-view+json": {
       "model_id": "6bac12868f964277b8acbf4834a1c2a7",
       "version_major": 2,
       "version_minor": 0
      },
      "text/plain": [
       "  0%|          | 0/1 [00:00<?, ?it/s]"
      ]
     },
     "metadata": {},
     "output_type": "display_data"
    },
    {
     "name": "stdout",
     "output_type": "stream",
     "text": [
      "Folder 289: Title: \n",
      "Current Count:  186\r"
     ]
    },
    {
     "data": {
      "application/vnd.jupyter.widget-view+json": {
       "model_id": "c9e0f23db3074d65a1e600f102b8e652",
       "version_major": 2,
       "version_minor": 0
      },
      "text/plain": [
       "  0%|          | 0/1 [00:00<?, ?it/s]"
      ]
     },
     "metadata": {},
     "output_type": "display_data"
    },
    {
     "name": "stdout",
     "output_type": "stream",
     "text": [
      "Folder 29: Title: \n",
      "Current Count:  187\r"
     ]
    },
    {
     "data": {
      "application/vnd.jupyter.widget-view+json": {
       "model_id": "4d4d35730ec249d7b15cc6ed9ec4bbf2",
       "version_major": 2,
       "version_minor": 0
      },
      "text/plain": [
       "  0%|          | 0/1 [00:00<?, ?it/s]"
      ]
     },
     "metadata": {},
     "output_type": "display_data"
    },
    {
     "name": "stdout",
     "output_type": "stream",
     "text": [
      "Folder 290: Title: Comprehensive Vehicle Air Quality for Enhanced Maintenance and Pollution Control\n",
      "Current Count:  188\r"
     ]
    },
    {
     "data": {
      "application/vnd.jupyter.widget-view+json": {
       "model_id": "aeb6d5f6d2d041bc9dcd1eb35bd55af9",
       "version_major": 2,
       "version_minor": 0
      },
      "text/plain": [
       "  0%|          | 0/1 [00:00<?, ?it/s]"
      ]
     },
     "metadata": {},
     "output_type": "display_data"
    },
    {
     "name": "stdout",
     "output_type": "stream",
     "text": [
      "Folder 291: Title: Bluetooth-Controlled Chassis with Obstacle Avoidance and Environment Monitoring\n",
      "Current Count:  189\r"
     ]
    },
    {
     "data": {
      "application/vnd.jupyter.widget-view+json": {
       "model_id": "daab6312a0c246c98f3f7afa35e88e61",
       "version_major": 2,
       "version_minor": 0
      },
      "text/plain": [
       "  0%|          | 0/1 [00:00<?, ?it/s]"
      ]
     },
     "metadata": {},
     "output_type": "display_data"
    },
    {
     "name": "stdout",
     "output_type": "stream",
     "text": [
      "Folder 292: Title: Leveraging 3D Faster R-CNN for 3D Dental X-ray restoration and treatment identification\n",
      "Current Count:  190\r"
     ]
    },
    {
     "data": {
      "application/vnd.jupyter.widget-view+json": {
       "model_id": "12b4396a9d86443bafc94ed20fee4751",
       "version_major": 2,
       "version_minor": 0
      },
      "text/plain": [
       "  0%|          | 0/1 [00:00<?, ?it/s]"
      ]
     },
     "metadata": {},
     "output_type": "display_data"
    },
    {
     "name": "stdout",
     "output_type": "stream",
     "text": [
      "Folder 293: Title: Implementation Of Truth Sense Real-Time Visual Analysis System Using Deep Learning\n",
      "Current Count:  191\r"
     ]
    },
    {
     "data": {
      "application/vnd.jupyter.widget-view+json": {
       "model_id": "114837453443483e82e7cfedb6c64a84",
       "version_major": 2,
       "version_minor": 0
      },
      "text/plain": [
       "  0%|          | 0/1 [00:00<?, ?it/s]"
      ]
     },
     "metadata": {},
     "output_type": "display_data"
    },
    {
     "name": "stdout",
     "output_type": "stream",
     "text": [
      "Folder 294: Title: IoT Based Real-time Environment Monitoring and Safety for Factory Workplace\n",
      "Folder 295: Title: MentalWellnessCompassforEngineeringStudent\n",
      "Folder 296: Title: 1\n",
      "Folder 298: Title: \n",
      "Folder 299: Title: IOTBasedFoodQualitymonitoringSystemusingMachineLearning\n",
      "Folder 3: Title: EXAMBOT USING FULL STACK\n",
      "Folder 30: Title: 7\n",
      "Folder 300: Title: Predictingthedynamicincreasefactoroftensilestrengthofstrain-hardeningfiber-reinforcedcementitiouscompositethroughamachinelearningapproach\n",
      "Folder 301: Title: XXX-X-XXXX-XXXX-X/XX/$XX.00©20XXIEEE\n",
      "Folder 303: Title: Comparative analysis of Conventional & Lightweight Security Algorithms for Multi-Level Encryption in IoT Isha Sharma*, Monika Saxena,\n",
      "Current Count:  201\r"
     ]
    },
    {
     "data": {
      "application/vnd.jupyter.widget-view+json": {
       "model_id": "31d8e33dcc5a49be8a032b725f63907c",
       "version_major": 2,
       "version_minor": 0
      },
      "text/plain": [
       "  0%|          | 0/1 [00:00<?, ?it/s]"
      ]
     },
     "metadata": {},
     "output_type": "display_data"
    },
    {
     "name": "stdout",
     "output_type": "stream",
     "text": [
      "Folder 305: Title: \n",
      "Current Count:  202\r"
     ]
    },
    {
     "data": {
      "application/vnd.jupyter.widget-view+json": {
       "model_id": "3f74bfb316ae4e8d8cf5bef859115ee3",
       "version_major": 2,
       "version_minor": 0
      },
      "text/plain": [
       "  0%|          | 0/1 [00:00<?, ?it/s]"
      ]
     },
     "metadata": {},
     "output_type": "display_data"
    },
    {
     "name": "stdout",
     "output_type": "stream",
     "text": [
      "Folder 306: Title: Smart Contract Enabled Online Examination System Based on Blockchain\n",
      "Folder 307: Title: Machine Learning Approaches for Precise Rainfall Prediction in Diverse Indian Regions\n",
      "Folder 308: Title: Research_Serverless_Computing\n",
      "Current Count:  205\r"
     ]
    },
    {
     "data": {
      "application/vnd.jupyter.widget-view+json": {
       "model_id": "8c3f5ce6453f42979f93a291e5ec6b31",
       "version_major": 2,
       "version_minor": 0
      },
      "text/plain": [
       "  0%|          | 0/1 [00:00<?, ?it/s]"
      ]
     },
     "metadata": {},
     "output_type": "display_data"
    },
    {
     "name": "stdout",
     "output_type": "stream",
     "text": [
      "Folder 309: Title: Prediction and Classification of Psychiatric Disorders in                      relation to Sleep Disturbances\n",
      "Current Count:  206\r"
     ]
    },
    {
     "data": {
      "application/vnd.jupyter.widget-view+json": {
       "model_id": "e71737682638493090c4e2753a6d7bea",
       "version_major": 2,
       "version_minor": 0
      },
      "text/plain": [
       "  0%|          | 0/1 [00:00<?, ?it/s]"
      ]
     },
     "metadata": {},
     "output_type": "display_data"
    },
    {
     "name": "stdout",
     "output_type": "stream",
     "text": [
      "Folder 310: Title: \n",
      "Current Count:  207\r"
     ]
    },
    {
     "data": {
      "application/vnd.jupyter.widget-view+json": {
       "model_id": "98d6d88de8274d42aaffdbf11ebc886c",
       "version_major": 2,
       "version_minor": 0
      },
      "text/plain": [
       "  0%|          | 0/1 [00:00<?, ?it/s]"
      ]
     },
     "metadata": {},
     "output_type": "display_data"
    },
    {
     "name": "stdout",
     "output_type": "stream",
     "text": [
      "Folder 311: Title: EcoTrack : A Carbon Footprint Tracking and Analysis App\n",
      "Current Count:  208\r"
     ]
    },
    {
     "data": {
      "application/vnd.jupyter.widget-view+json": {
       "model_id": "44b254bd471a4ef28824cfd2b6ebfdc1",
       "version_major": 2,
       "version_minor": 0
      },
      "text/plain": [
       "  0%|          | 0/1 [00:00<?, ?it/s]"
      ]
     },
     "metadata": {},
     "output_type": "display_data"
    },
    {
     "name": "stdout",
     "output_type": "stream",
     "text": [
      "Folder 312: Title: Automatic Timetable Generator\n",
      "Current Count:  209\r"
     ]
    },
    {
     "data": {
      "application/vnd.jupyter.widget-view+json": {
       "model_id": "cd8cf694d5c34a059c6b83352475ac72",
       "version_major": 2,
       "version_minor": 0
      },
      "text/plain": [
       "  0%|          | 0/1 [00:00<?, ?it/s]"
      ]
     },
     "metadata": {},
     "output_type": "display_data"
    },
    {
     "name": "stdout",
     "output_type": "stream",
     "text": [
      "Folder 313: Title: Climacteric fruit skin defect region segmentation by boundary identification using Morphologically Enhanced Watershed\n",
      "Current Count:  210\r",
      "Folder 314: No input file found in Submission folder\n"
     ]
    },
    {
     "data": {
      "application/vnd.jupyter.widget-view+json": {
       "model_id": "2d80075ca9aa44418f03e919d8742caa",
       "version_major": 2,
       "version_minor": 0
      },
      "text/plain": [
       "  0%|          | 0/1 [00:00<?, ?it/s]"
      ]
     },
     "metadata": {},
     "output_type": "display_data"
    },
    {
     "name": "stdout",
     "output_type": "stream",
     "text": [
      "Folder 315: Title: Brain Tumor Prediction Using Deep Neural Network (DNN)\n",
      "Current Count:  211\r"
     ]
    },
    {
     "data": {
      "application/vnd.jupyter.widget-view+json": {
       "model_id": "8d8a77342ad349d598dbc2bb49f3bf06",
       "version_major": 2,
       "version_minor": 0
      },
      "text/plain": [
       "  0%|          | 0/1 [00:00<?, ?it/s]"
      ]
     },
     "metadata": {},
     "output_type": "display_data"
    },
    {
     "name": "stdout",
     "output_type": "stream",
     "text": [
      "Folder 316: Title: XXX-X-XXXX-XXXX-X/XX/$XX.00 ©20XX IEEE\n",
      "Folder 317: No input file found in Submission folder\n",
      "Folder 318: Title: Stress Detection Across Demographics: Leveraging Linear Regression Analysis\n",
      "Current Count:  213\r"
     ]
    },
    {
     "data": {
      "application/vnd.jupyter.widget-view+json": {
       "model_id": "d9eb936d95bb4a7f931df58afe95ddb1",
       "version_major": 2,
       "version_minor": 0
      },
      "text/plain": [
       "  0%|          | 0/1 [00:00<?, ?it/s]"
      ]
     },
     "metadata": {},
     "output_type": "display_data"
    },
    {
     "name": "stdout",
     "output_type": "stream",
     "text": [
      "Folder 319: Title: A review on Leveraging the Deep Neural Networks for predicting Protein-Ligand  Binding Affinity\n",
      "Current Count:  214\r"
     ]
    },
    {
     "data": {
      "application/vnd.jupyter.widget-view+json": {
       "model_id": "2801f4f7ddf84dfaa06fb8819568beb1",
       "version_major": 2,
       "version_minor": 0
      },
      "text/plain": [
       "  0%|          | 0/1 [00:00<?, ?it/s]"
      ]
     },
     "metadata": {},
     "output_type": "display_data"
    },
    {
     "name": "stdout",
     "output_type": "stream",
     "text": [
      "Folder 32: Title: F.Y.B.Tech Students’ Engineering Design and Innovation (EDAI1) Project Paper, SEM 1 A.Y. 2022-23 Vishwakarma Institute of Technology, Pune, INDIA.\n",
      "Folder 320: No input file found in Submission folder\n",
      "Folder 321: Title: AIOT-BASEDAPPROACHOFAUTOMATEDREAL-TIMENON-INTRUSIVELOADMONITORINGSOLUTIONFORRESIDENTIALAPPLICATION\n",
      "Current Count:  216\r"
     ]
    },
    {
     "data": {
      "application/vnd.jupyter.widget-view+json": {
       "model_id": "7f5ca8f81d304da88197dc87af641745",
       "version_major": 2,
       "version_minor": 0
      },
      "text/plain": [
       "  0%|          | 0/1 [00:00<?, ?it/s]"
      ]
     },
     "metadata": {},
     "output_type": "display_data"
    },
    {
     "name": "stdout",
     "output_type": "stream",
     "text": [
      "Folder 323: Title: Linear Block Codes -A Machine Learning Perspective\n",
      "Folder 324: Title: YOLOv7-Tiny for Baby Products Identification\n",
      "Folder 325: Title: “Signla: Sense Gesture Recognition for Sign Language Communication”\n",
      "Folder 326: Title: LungDiseasesDetectionUsingDeepLearningOnNVIDIAJetsonNano\n",
      "Folder 327: Title: Acute Lymphoblastic Leukemia Classification With Jetson Nano\n",
      "Folder 328: Title: Multi-Biometric recognition using a Bio-Inspired Metaheuristic algorithm based on feature fusion of finger vein and iris\n",
      "Folder 329: Title: SentimentAnalysisofMachineLearningAlgorithms:ATransformer-BasedApproach\n",
      "Folder 33: Title: Generative Rebirth: Advancing Image Regeneration through Adversarial Networks\n",
      "Folder 330: Title: 1\n",
      "Folder 331: Title: Optimizing The U-Net Model For Segmenting The Lung Opacity Regions In Chest Radiographs\n",
      "Folder 332: Title: Decoding Named Entities: Analyzing Hindi-English Code-Mixed Social Media Text\n",
      "Folder 333: Title: \n",
      "Folder 334: Title: \n",
      "Current Count:  229\r"
     ]
    },
    {
     "data": {
      "application/vnd.jupyter.widget-view+json": {
       "model_id": "1f63ba3f4758443fa750125eab2de298",
       "version_major": 2,
       "version_minor": 0
      },
      "text/plain": [
       "  0%|          | 0/1 [00:00<?, ?it/s]"
      ]
     },
     "metadata": {},
     "output_type": "display_data"
    },
    {
     "name": "stdout",
     "output_type": "stream",
     "text": [
      "Folder 335: Title: \n",
      "Folder 336: Title: AreviewonheartdiseasepredictionbasedonriskfactorsusingClassificationTechniquesSruthiThabatia\n",
      "Current Count:  231\r"
     ]
    },
    {
     "data": {
      "application/vnd.jupyter.widget-view+json": {
       "model_id": "0cfc8fc3b7ec42a4aa866786cb944d3c",
       "version_major": 2,
       "version_minor": 0
      },
      "text/plain": [
       "  0%|          | 0/1 [00:00<?, ?it/s]"
      ]
     },
     "metadata": {},
     "output_type": "display_data"
    },
    {
     "name": "stdout",
     "output_type": "stream",
     "text": [
      "Folder 337: Title: \n",
      "Folder 338: Title: AUserCustomizedSportsVideoSummarization\n",
      "Current Count:  233\r"
     ]
    },
    {
     "data": {
      "application/vnd.jupyter.widget-view+json": {
       "model_id": "b7be40f00280410b9cc070c003e29203",
       "version_major": 2,
       "version_minor": 0
      },
      "text/plain": [
       "  0%|          | 0/1 [00:00<?, ?it/s]"
      ]
     },
     "metadata": {},
     "output_type": "display_data"
    },
    {
     "name": "stdout",
     "output_type": "stream",
     "text": [
      "Folder 339: Title: Analysing The Need Of Big Data Owners To Regularly Update Security Measures\n",
      "Folder 34: Title: TransLinguaPro - Empowering Language Translation with Python and ML\n",
      "Folder 340: Title: DeepVideoForensics:UnveilingSpatialForgeryDetectionwithModifiedResNet50\n",
      "Folder 341: Title: EnhancingPathPlanningwithObstaclesviaaCombinedDijkstra-LbCSMethodology\n",
      "Folder 342: Title: Machine Learning Techniques for Loan Approval:  A Comprehensive Analysis and Novel Approaches\n",
      "Folder 343: Title: A comprehensive approach to sentiment analysis with natural language processing techniques\n",
      "Folder 344: Title: On-RoadVehicularCollisionImageClassificationusingDeepLearning\n",
      "Folder 345: Title: Influence of Digital Financial Transactions towards Economic Fluidity and Organizational Success\n",
      "Current Count:  241\r"
     ]
    },
    {
     "data": {
      "application/vnd.jupyter.widget-view+json": {
       "model_id": "83e16bd4e37041cca0ed25bf03e1193a",
       "version_major": 2,
       "version_minor": 0
      },
      "text/plain": [
       "  0%|          | 0/1 [00:00<?, ?it/s]"
      ]
     },
     "metadata": {},
     "output_type": "display_data"
    },
    {
     "name": "stdout",
     "output_type": "stream",
     "text": [
      "Folder 346: Title: j\n",
      "Current Count:  242\r"
     ]
    },
    {
     "data": {
      "application/vnd.jupyter.widget-view+json": {
       "model_id": "9a18b18fe6ee4b64814aae9aea2dcdf9",
       "version_major": 2,
       "version_minor": 0
      },
      "text/plain": [
       "  0%|          | 0/1 [00:00<?, ?it/s]"
      ]
     },
     "metadata": {},
     "output_type": "display_data"
    },
    {
     "name": "stdout",
     "output_type": "stream",
     "text": [
      "Folder 347: Title: Strength of Ensemble Learning in Voting Classifier for Crop Yield Prediction\n",
      "Folder 348: Title: An Experimental Study on Distance-Based Nearest Neighbour Approaches in Credit Risk Assessment\n",
      "Folder 349: Title: PerformanceImprovementTechniquesforHigh-SpeedDynamicLatchComparatorat45nmTechnologyNode\n",
      "Folder 35: Title: Cloud-based Healthcare Monitoring System for Remote Areas\n",
      "Folder 350: Title: DeFinance: Decentralised Lending and Borrowing of Digital Assets\n",
      "Current Count:  247\r"
     ]
    },
    {
     "data": {
      "application/vnd.jupyter.widget-view+json": {
       "model_id": "2c7ee90fa64b4a5099bdefd1928e53cf",
       "version_major": 2,
       "version_minor": 0
      },
      "text/plain": [
       "  0%|          | 0/1 [00:00<?, ?it/s]"
      ]
     },
     "metadata": {},
     "output_type": "display_data"
    },
    {
     "name": "stdout",
     "output_type": "stream",
     "text": [
      "Folder 351: Title: 1\n",
      "Current Count:  248\r"
     ]
    },
    {
     "data": {
      "application/vnd.jupyter.widget-view+json": {
       "model_id": "94f6d468db3643daa72682bf44234148",
       "version_major": 2,
       "version_minor": 0
      },
      "text/plain": [
       "  0%|          | 0/1 [00:00<?, ?it/s]"
      ]
     },
     "metadata": {},
     "output_type": "display_data"
    },
    {
     "name": "stdout",
     "output_type": "stream",
     "text": [
      "Folder 352: Title: Deep Learning Based Sentiment Analysis Of Tamil-English YouTube Comments\n",
      "Folder 353: Title: Advancements in Named Entity Recognition: A Focus on Medical Applications and Comparative Analysis of NLP Libraries\n",
      "Current Count:  250\r"
     ]
    },
    {
     "data": {
      "application/vnd.jupyter.widget-view+json": {
       "model_id": "d77809868b88426d9209579cc0476d76",
       "version_major": 2,
       "version_minor": 0
      },
      "text/plain": [
       "  0%|          | 0/1 [00:00<?, ?it/s]"
      ]
     },
     "metadata": {},
     "output_type": "display_data"
    },
    {
     "name": "stdout",
     "output_type": "stream",
     "text": [
      "Folder 354: Title: Pothole Detection and Powertrain Regulation for Vehicular Safety\n",
      "Folder 355: Title: Intelligent Surveillance Camera System  Based on Object Tracking\n",
      "Folder 356: Title: Page 1\n",
      "Current Count:  253\r"
     ]
    },
    {
     "data": {
      "application/vnd.jupyter.widget-view+json": {
       "model_id": "e6aedd7b477b40d09f094e4847030b50",
       "version_major": 2,
       "version_minor": 0
      },
      "text/plain": [
       "  0%|          | 0/1 [00:00<?, ?it/s]"
      ]
     },
     "metadata": {},
     "output_type": "display_data"
    },
    {
     "name": "stdout",
     "output_type": "stream",
     "text": [
      "Folder 357: Title: 1\n",
      "Current Count:  254\r"
     ]
    },
    {
     "data": {
      "application/vnd.jupyter.widget-view+json": {
       "model_id": "30472265913f4db89f9aa6c688ad9d62",
       "version_major": 2,
       "version_minor": 0
      },
      "text/plain": [
       "  0%|          | 0/1 [00:00<?, ?it/s]"
      ]
     },
     "metadata": {},
     "output_type": "display_data"
    },
    {
     "name": "stdout",
     "output_type": "stream",
     "text": [
      "Folder 358: Title: \n",
      "Current Count:  255\r"
     ]
    },
    {
     "data": {
      "application/vnd.jupyter.widget-view+json": {
       "model_id": "f519c10b3a324130a5e4d6fe2cb658b8",
       "version_major": 2,
       "version_minor": 0
      },
      "text/plain": [
       "  0%|          | 0/1 [00:00<?, ?it/s]"
      ]
     },
     "metadata": {},
     "output_type": "display_data"
    },
    {
     "name": "stdout",
     "output_type": "stream",
     "text": [
      "Folder 359: Title: \n",
      "Folder 36: Title: 6\n",
      "Current Count:  257\r"
     ]
    },
    {
     "data": {
      "application/vnd.jupyter.widget-view+json": {
       "model_id": "346fc4ffe9af4176ab143a6fb8cefe9a",
       "version_major": 2,
       "version_minor": 0
      },
      "text/plain": [
       "  0%|          | 0/1 [00:00<?, ?it/s]"
      ]
     },
     "metadata": {},
     "output_type": "display_data"
    },
    {
     "name": "stdout",
     "output_type": "stream",
     "text": [
      "Folder 360: Title: \n",
      "Current Count:  258\r"
     ]
    },
    {
     "data": {
      "application/vnd.jupyter.widget-view+json": {
       "model_id": "01def6ef7c0240f587ecfb6497a099c6",
       "version_major": 2,
       "version_minor": 0
      },
      "text/plain": [
       "  0%|          | 0/1 [00:00<?, ?it/s]"
      ]
     },
     "metadata": {},
     "output_type": "display_data"
    },
    {
     "name": "stdout",
     "output_type": "stream",
     "text": [
      "Folder 361: Title: \n",
      "Current Count:  259\r"
     ]
    },
    {
     "data": {
      "application/vnd.jupyter.widget-view+json": {
       "model_id": "0885043b75be48738663a24280873d32",
       "version_major": 2,
       "version_minor": 0
      },
      "text/plain": [
       "  0%|          | 0/1 [00:00<?, ?it/s]"
      ]
     },
     "metadata": {},
     "output_type": "display_data"
    },
    {
     "name": "stdout",
     "output_type": "stream",
     "text": [
      "Folder 363: Title: Understanding Interaction design in context of Culture & Religion\n",
      "Folder 364: Title: Performance of Ensemble Learning Techniques for Net-work-based Intrusion Detection System (NIDS): A Com-parative Study\n",
      "Folder 365: No input file found in Submission folder\n",
      "Folder 366: Title: \n",
      "Folder 367: Title: Exploring the Utility of Aadhar Images in Unconstrained Face Recognition: A Review\n",
      "Folder 368: Title: IoT-Enabled RO Wastewater Management for             Sustainable Development\n",
      "Folder 369: Title: APP FOR SMART CARE OF HEALTH THROUGH IoMT\n",
      "Folder 37: Title: CloudBasedDataAnalyticsForBusinessIntelligence\n",
      "Folder 370: Title: Author-Centric Pattern Detection in Scopus Citation Network via Community Structures\n",
      "Folder 371: Title: \n",
      "Folder 372: Title: K-Nearest Neighbor based Friends Suggestion on social media\n",
      "Current Count:  269\r"
     ]
    },
    {
     "data": {
      "application/vnd.jupyter.widget-view+json": {
       "model_id": "4c098eda839c454faffb5e8f78f95d89",
       "version_major": 2,
       "version_minor": 0
      },
      "text/plain": [
       "  0%|          | 0/1 [00:00<?, ?it/s]"
      ]
     },
     "metadata": {},
     "output_type": "display_data"
    },
    {
     "name": "stdout",
     "output_type": "stream",
     "text": [
      "Folder 373: Title: \n",
      "Current Count:  270\r"
     ]
    },
    {
     "data": {
      "application/vnd.jupyter.widget-view+json": {
       "model_id": "f8ca29c1375442e79472dd2ff294e222",
       "version_major": 2,
       "version_minor": 0
      },
      "text/plain": [
       "  0%|          | 0/1 [00:00<?, ?it/s]"
      ]
     },
     "metadata": {},
     "output_type": "display_data"
    },
    {
     "name": "stdout",
     "output_type": "stream",
     "text": [
      "Folder 374: Title: An Architectural Methodology for Developing Domain Ontology For Efficient Knowledge Management for Artificial Intelligence Systems\n",
      "Folder 375: Title: RefiningtheGiants:AComprehensiveReviewofFine-TuningStrategiesforLargeLanguageModels\n",
      "Current Count:  272\r"
     ]
    },
    {
     "data": {
      "application/vnd.jupyter.widget-view+json": {
       "model_id": "81b85729a2274ffabd5df7486279823f",
       "version_major": 2,
       "version_minor": 0
      },
      "text/plain": [
       "  0%|          | 0/1 [00:00<?, ?it/s]"
      ]
     },
     "metadata": {},
     "output_type": "display_data"
    },
    {
     "name": "stdout",
     "output_type": "stream",
     "text": [
      "Folder 376: Title: Enhancing COVID-19 Diagnosis: A convolutional Neural Network-Based Approach for CT Image Classification\n",
      "Folder 377: Title: Software Reliability Prediction and Regression analysis with family of Lindley Distribution\n",
      "Folder 378: Title: ReinventingUrbanMobilitywithReinforcementLearninginVehicularAd-HocNetworks\n",
      "Folder 379: Title: ML-PoweredComprehensiveWebFrameworkForCentralizedMedicalRecordsManagementAndPreciseHealthInsights\n",
      "Current Count:  276\r"
     ]
    },
    {
     "data": {
      "application/vnd.jupyter.widget-view+json": {
       "model_id": "93898002b65b4978b92805859031fad2",
       "version_major": 2,
       "version_minor": 0
      },
      "text/plain": [
       "  0%|          | 0/1 [00:00<?, ?it/s]"
      ]
     },
     "metadata": {},
     "output_type": "display_data"
    },
    {
     "name": "stdout",
     "output_type": "stream",
     "text": [
      "Folder 38: Title: \n",
      "Folder 380: Title: Deep Learning-Based Classification of Agricultural Soil Textures for Enhanced Crop productivity\n",
      "Folder 381: No input file found in Submission folder\n",
      "Folder 382: Title: Fruitful Insights: Harnessing CNNs for Citrus and To-mato Disease Detection in Nagpur Orchards\n",
      "Current Count:  279\r"
     ]
    },
    {
     "data": {
      "application/vnd.jupyter.widget-view+json": {
       "model_id": "983026c57c454dfda0b3ce902651aa31",
       "version_major": 2,
       "version_minor": 0
      },
      "text/plain": [
       "  0%|          | 0/1 [00:00<?, ?it/s]"
      ]
     },
     "metadata": {},
     "output_type": "display_data"
    },
    {
     "name": "stdout",
     "output_type": "stream",
     "text": [
      "Folder 383: Title: Construction Site Monitoring for Disaster Resilience\n",
      "Folder 384: Title: Cardioguard : Advancing Cardiovascular Health through Early Detection - An Accurate and Versatile Machine Learning Model for Predicting Heart Attacks among the rural population in the Age Group of 30-60\n",
      "Folder 385: Title: UNet3+:ModifiedInceptionV3formulticlassBrainTumorClassificationusingMRIimages\n",
      "Current Count:  282\r"
     ]
    },
    {
     "data": {
      "application/vnd.jupyter.widget-view+json": {
       "model_id": "4a36ec992aa043128153987fff1afbaf",
       "version_major": 2,
       "version_minor": 0
      },
      "text/plain": [
       "  0%|          | 0/1 [00:00<?, ?it/s]"
      ]
     },
     "metadata": {},
     "output_type": "display_data"
    },
    {
     "name": "stdout",
     "output_type": "stream",
     "text": [
      "Folder 386: Title: An Analysis of Machine Learning Algorithms for Predict-ing Student Performance with a Focus on Teacher and Class Attributes\n",
      "Folder 387: Title: CognitiveNetworkAnalysisandTopicModelingforbibliographydataofBiomedicalLiteratureofSudan\n",
      "Folder 388: Title: \n",
      "Folder 389: Title: Enhancing Fetal Health Diagnosis: A Comprehensive Machine Learning Strategy integrating SMOTE for effective Data pre-processing to improve accuracy and reliability\n",
      "Folder 39: Title: User-Friendly Facial Biometrics: A Solution for Folder Locking and Unlocking\n",
      "Folder 390: Title: Comparing car price prediction through different supervised machine learning methods with parameter tunings\n",
      "Folder 391: Title: Ur’sCorporator-InnovatingcitizenCorporatorinteractionthroughMLenabledcomprehensiveframework.\n",
      "Current Count:  289\r"
     ]
    },
    {
     "data": {
      "application/vnd.jupyter.widget-view+json": {
       "model_id": "5dbd792e81894ff2bc3fb157e17625f1",
       "version_major": 2,
       "version_minor": 0
      },
      "text/plain": [
       "  0%|          | 0/1 [00:00<?, ?it/s]"
      ]
     },
     "metadata": {},
     "output_type": "display_data"
    },
    {
     "name": "stdout",
     "output_type": "stream",
     "text": [
      "Folder 392: Title: Development of Legal Named Entity Recognition Model for Feature Extraction of Legal Documents\n",
      "Folder 393: Title: Decentralized Healthcare Ledger System on Hedera with                      Deep Learning Analytics\n",
      "Folder 394: Title: Design and Development of a Secured Framework equipped with GI Tagging and Blockchain for enhanced data security and transparency in healthcare operations, for effective management of resources in Government Hospitals\n",
      "Current Count:  292\r"
     ]
    },
    {
     "data": {
      "application/vnd.jupyter.widget-view+json": {
       "model_id": "aca7e71f148040018c18621571ee6d27",
       "version_major": 2,
       "version_minor": 0
      },
      "text/plain": [
       "  0%|          | 0/1 [00:00<?, ?it/s]"
      ]
     },
     "metadata": {},
     "output_type": "display_data"
    },
    {
     "name": "stdout",
     "output_type": "stream",
     "text": [
      "Folder 395: Title: A systematic review of CNN-based model approaches for human identification using bitemark evidence\n",
      "Current Count:  293\r"
     ]
    },
    {
     "data": {
      "application/vnd.jupyter.widget-view+json": {
       "model_id": "34fbafb9fd98452181f9875544087668",
       "version_major": 2,
       "version_minor": 0
      },
      "text/plain": [
       "  0%|          | 0/1 [00:00<?, ?it/s]"
      ]
     },
     "metadata": {},
     "output_type": "display_data"
    },
    {
     "name": "stdout",
     "output_type": "stream",
     "text": [
      "Folder 396: Title: Pyroshield – Innovating Bus safety through auto-matic window reactivity.\n",
      "Folder 398: Title: GRUandBi-GRUbasedTechniquesforPredictionofAquacultureWaterQualityParameters\n",
      "Folder 399: Title: 1\n",
      "Folder 4: Title: AUTOMATIC FACIAL MAKEUP DETECTION FOR DEVICE SECURITY USING MACHINE LEARNING\n",
      "Folder 40: Title: Cloud-based Healthcare Monitoring System for Remote Areas\n",
      "Folder 400: Title: Advanced Collision Prevention System: Leveraging Machine Learning and Neural Networks for Pre-Accident Detection\n",
      "Folder 401: Title: LacunarityAnalysisinHyperspectralImaging\n",
      "Folder 402: Title: Forecasting in automobiles using Holton-winter approach and back propogation neural network  techniques\n",
      "Folder 403: Title: Modeling of Videos Emotion Recognition System using Recurrent Neural Networks\n",
      "Current Count:  302\r"
     ]
    },
    {
     "data": {
      "application/vnd.jupyter.widget-view+json": {
       "model_id": "6492b62419b54b088a270cde72447411",
       "version_major": 2,
       "version_minor": 0
      },
      "text/plain": [
       "  0%|          | 0/1 [00:00<?, ?it/s]"
      ]
     },
     "metadata": {},
     "output_type": "display_data"
    },
    {
     "name": "stdout",
     "output_type": "stream",
     "text": [
      "Folder 404: Title: Exploratory Data Analysis of Crime Patterns against Woman in India\n",
      "Current Count:  303\r"
     ]
    },
    {
     "data": {
      "application/vnd.jupyter.widget-view+json": {
       "model_id": "b06a65670a63477aa7223506c87ffad9",
       "version_major": 2,
       "version_minor": 0
      },
      "text/plain": [
       "  0%|          | 0/1 [00:00<?, ?it/s]"
      ]
     },
     "metadata": {},
     "output_type": "display_data"
    },
    {
     "name": "stdout",
     "output_type": "stream",
     "text": [
      "Folder 405: Title: Algorithmic Optimization of Coupon Pooling Strategies: A Machine Learning Perspective\n",
      "Folder 406: Title: A Deep Learning Paradigm for Human Activity Recognition Using Computer Vision\n",
      "Folder 407: Title: TransactSafe:AMachineLearningShieldAgainstOnlineFraud\n",
      "Folder 408: Title: Unlocking the Power of Personalized Content with  Generative AI in Healthcare Marketing\n",
      "Folder 41: Title: Smart attendance registration and management system through AI\n",
      "Folder 410: Title: Deep Learning based Ensemble Model for Pulmonary Cancer Segmentation in CT images\n",
      "Current Count:  309\r"
     ]
    },
    {
     "data": {
      "application/vnd.jupyter.widget-view+json": {
       "model_id": "132c5d1cdd484554948318d3dae09c45",
       "version_major": 2,
       "version_minor": 0
      },
      "text/plain": [
       "  0%|          | 0/1 [00:00<?, ?it/s]"
      ]
     },
     "metadata": {},
     "output_type": "display_data"
    },
    {
     "name": "stdout",
     "output_type": "stream",
     "text": [
      "Folder 412: Title: \n",
      "Folder 413: Title: ExploringAI’sPotentialinDevelopingAdvancedDDoSDefenseStrategies\n",
      "Folder 414: Title: Optimizingnaturallanguageprocessingwithmodifiedmetaheuristicforphishingemaildetection\n",
      "Folder 415: Title: FromDatatoDeployment-CreatingaMovieRecommenderSystemUsingContent-BasedFiltering\n",
      "Current Count:  313\r"
     ]
    },
    {
     "data": {
      "application/vnd.jupyter.widget-view+json": {
       "model_id": "7faa77e6e9494a6fb99c953d74c16da8",
       "version_major": 2,
       "version_minor": 0
      },
      "text/plain": [
       "  0%|          | 0/1 [00:00<?, ?it/s]"
      ]
     },
     "metadata": {},
     "output_type": "display_data"
    },
    {
     "name": "stdout",
     "output_type": "stream",
     "text": [
      "Folder 416: Title: A Comparative Analysis of Deep Learning Models for Wildlife Prediction\n",
      "Current Count:  314\r"
     ]
    },
    {
     "data": {
      "application/vnd.jupyter.widget-view+json": {
       "model_id": "7d41e6e23c0144798d7dc2085b24e2f4",
       "version_major": 2,
       "version_minor": 0
      },
      "text/plain": [
       "  0%|          | 0/1 [00:00<?, ?it/s]"
      ]
     },
     "metadata": {},
     "output_type": "display_data"
    },
    {
     "name": "stdout",
     "output_type": "stream",
     "text": [
      "Folder 417: Title: Predicting Mental Health Issues Indicators in Textual Data using Enhanced BERT\n",
      "Folder 418: Title: DevelopinganIndianSignLanguage(ISL)generatorfromtextualinputusingneuralmachinetranslationtoenhancecommunicationaccessibilityforthehearing-impairedcommunity\n",
      "Folder 419: Title: Crop and Fertilizer Recommendation System Using Real Climatic Information\n",
      "Folder 42: Title: Diet Plan and Home Exercise Recommendation system using Smart Watch\n",
      "Folder 420: Title: 1\n",
      "Current Count:  319\r"
     ]
    },
    {
     "data": {
      "application/vnd.jupyter.widget-view+json": {
       "model_id": "3934b77506ef45dfa17c9bda24fa549b",
       "version_major": 2,
       "version_minor": 0
      },
      "text/plain": [
       "  0%|          | 0/1 [00:00<?, ?it/s]"
      ]
     },
     "metadata": {},
     "output_type": "display_data"
    },
    {
     "name": "stdout",
     "output_type": "stream",
     "text": [
      "Folder 421: Title: 1  An SMC-MBCO approach to detect the shilling profiles in health recommender systems.  T Satyanarayana Murthy, Information Technology, CBIT, Gandipet, Hyderabad, 560071, Telangana, India tsmurthy_it@cbit.ac.in\n",
      "Folder 422: Title: Guaranteeing Data Confidentiality in Time Series Prediction using Z-Transform and AES\n",
      "Current Count:  321\r"
     ]
    },
    {
     "data": {
      "application/vnd.jupyter.widget-view+json": {
       "model_id": "61f9bfd4ee7741f29ea23307639f9b36",
       "version_major": 2,
       "version_minor": 0
      },
      "text/plain": [
       "  0%|          | 0/1 [00:00<?, ?it/s]"
      ]
     },
     "metadata": {},
     "output_type": "display_data"
    },
    {
     "name": "stdout",
     "output_type": "stream",
     "text": [
      "Folder 423: Title: 1\n",
      "Folder 424: Title: 1\n",
      "Current Count:  323\r"
     ]
    },
    {
     "data": {
      "application/vnd.jupyter.widget-view+json": {
       "model_id": "ff8b67204462464886632280193f8ffb",
       "version_major": 2,
       "version_minor": 0
      },
      "text/plain": [
       "  0%|          | 0/1 [00:00<?, ?it/s]"
      ]
     },
     "metadata": {},
     "output_type": "display_data"
    },
    {
     "name": "stdout",
     "output_type": "stream",
     "text": [
      "Folder 425: Title: \n",
      "Folder 427: Title: \n",
      "Folder 428: Title: Dynamic Self-Charging of EVs with integrated Battery Management System\n",
      "Folder 429: Title: \n",
      "Current Count:  327\r"
     ]
    },
    {
     "data": {
      "application/vnd.jupyter.widget-view+json": {
       "model_id": "ca9816b7e8c14ec280518652e092862a",
       "version_major": 2,
       "version_minor": 0
      },
      "text/plain": [
       "  0%|          | 0/1 [00:00<?, ?it/s]"
      ]
     },
     "metadata": {},
     "output_type": "display_data"
    },
    {
     "name": "stdout",
     "output_type": "stream",
     "text": [
      "Folder 43: Title: A Novel Sentiment Analysis of Teacher Trainees’ Views on Curriculum of Teacher Education Programmes in Maharashtra State of India\n",
      "Current Count:  328\r",
      "Folder 430: No input file found in Submission folder\n"
     ]
    },
    {
     "data": {
      "application/vnd.jupyter.widget-view+json": {
       "model_id": "8d7a3a4fc9ea4fea8eddc9d761ba421e",
       "version_major": 2,
       "version_minor": 0
      },
      "text/plain": [
       "  0%|          | 0/1 [00:00<?, ?it/s]"
      ]
     },
     "metadata": {},
     "output_type": "display_data"
    },
    {
     "name": "stdout",
     "output_type": "stream",
     "text": [
      "Folder 431: Title: \n",
      "Folder 432: Title: SpeechEmotionRecognitiononRAVDESSDatasetusingDeepLearning\n",
      "Folder 433: Title: LoRa WAN Architecture with Collusion Management and Collusion Avoidances Schemes in MAC Layer\n",
      "Folder 434: Title: HumanActivityRecognitioninIoTNetworksthroughWi-FiChannelStateInformation\n",
      "Current Count:  332\r"
     ]
    },
    {
     "data": {
      "application/vnd.jupyter.widget-view+json": {
       "model_id": "dca1521802674792a1c95dcec321802e",
       "version_major": 2,
       "version_minor": 0
      },
      "text/plain": [
       "  0%|          | 0/1 [00:00<?, ?it/s]"
      ]
     },
     "metadata": {},
     "output_type": "display_data"
    },
    {
     "name": "stdout",
     "output_type": "stream",
     "text": [
      "Folder 435: Title: Design Controlled Smart Aid  Prosthetics for Elders\n",
      "Folder 436: Title: ObjectDetectioninAerialImageryusingObjectCentricMaskedImageModeling(OCMIM)\n",
      "Folder 437: Title: AnEnhancedOptimizedTechniquetoDetectCardiovascularDiseaseinECGImages\n",
      "Folder 438: Title: Mental Health Diagnosis Survey Using Question Reduction,Advanced Generation algorithms and Contactless UI system.\n",
      "Folder 439: Title: Enhancing Crop Prediction Through Machine Learning: A Comprehensive Soil Analysis Approach\n",
      "Folder 44: Title: 1\n",
      "Folder 440: Title: BimodalDetectionofParkinson’sDisease\n",
      "Folder 441: Title: XXX-X-XXXX-XXXX-X/XX/$XX.00 ©20XX IEEE\n",
      "Folder 442: Title: An Analysis of Rising Security and Privacy with Technological Advancement\n",
      "Current Count:  341\r"
     ]
    },
    {
     "data": {
      "application/vnd.jupyter.widget-view+json": {
       "model_id": "2cc488b51b9041278d3002d52e950055",
       "version_major": 2,
       "version_minor": 0
      },
      "text/plain": [
       "  0%|          | 0/1 [00:00<?, ?it/s]"
      ]
     },
     "metadata": {},
     "output_type": "display_data"
    },
    {
     "name": "stdout",
     "output_type": "stream",
     "text": [
      "Folder 443: Title: \n",
      "Folder 444: Title: SignShapeNet : A YOLO-NAS Approach for Efficient Shape Detection in Traffic Signboard\n",
      "Current Count:  343\r"
     ]
    },
    {
     "data": {
      "application/vnd.jupyter.widget-view+json": {
       "model_id": "ea2d678d1eb24ca4982e228959f9028a",
       "version_major": 2,
       "version_minor": 0
      },
      "text/plain": [
       "  0%|          | 0/1 [00:00<?, ?it/s]"
      ]
     },
     "metadata": {},
     "output_type": "display_data"
    },
    {
     "name": "stdout",
     "output_type": "stream",
     "text": [
      "Folder 445: Title: XXX-X-XXXX-XXXX-X/XX/$XX.00 ©20XX IEEE\n",
      "Current Count:  344\r"
     ]
    },
    {
     "data": {
      "application/vnd.jupyter.widget-view+json": {
       "model_id": "2d1c2141d9554b1e9b77e7e9e8040526",
       "version_major": 2,
       "version_minor": 0
      },
      "text/plain": [
       "  0%|          | 0/1 [00:00<?, ?it/s]"
      ]
     },
     "metadata": {},
     "output_type": "display_data"
    },
    {
     "name": "stdout",
     "output_type": "stream",
     "text": [
      "Folder 446: Title: XXX-X-XXXX-XXXX-X/XX/$XX.00 ©20XX IEEE\n",
      "Folder 447: Title: RISK STRATIFICATION FOR STROKE USING  ATTENTION TRANSFORMER MODEL\n",
      "Folder 448: Title: Abstract-Rapid and unchecked brain cell proliferation is the hallmark of a tumour. It may prove threatening if not addressed in the first stages. The complexity of accurate segmentation and classification persists despite multiple large efforts and hopeful results. Differences in tumour location, form, and proportions make it difficult to detect brain cancers. This work's main goal is to give researchers a comprehensive overview of the literature on magnetic resonance imaging (MR)-based brain tumour detection. This study suggested numerous methods to identify brain tumours and cancer using\n",
      "Folder 449: Title: IntrusionDetectioninWirelessNetworksUsingNovelClassificationModels.\n",
      "Folder 45: Title: RevolutionizingMicrocontrollerVirtualization:ExploringMicro-controllerasaService(MaaS)onAWS\n",
      "Folder 450: Title: UNet-BasedMRIImageAnalysisforEnhancedBrainTumorSpotting:ACutting-EdgeApproachinMedicalImaging\n",
      "Folder 451: Title: \n",
      "Folder 452: Title: Optimizing Corporate Governance and Business Ethics through HISMM: A Comprehensive Assessment of Information System Maturity in Hospital XYZ\n",
      "Current Count:  352\r"
     ]
    },
    {
     "data": {
      "application/vnd.jupyter.widget-view+json": {
       "model_id": "a682ebecee704167afdb83811820021f",
       "version_major": 2,
       "version_minor": 0
      },
      "text/plain": [
       "  0%|          | 0/1 [00:00<?, ?it/s]"
      ]
     },
     "metadata": {},
     "output_type": "display_data"
    },
    {
     "name": "stdout",
     "output_type": "stream",
     "text": [
      "Folder 453: Title: Food Classification and Calories Estimation with Development of Smart Web-Application [ CaloTrack ]\n",
      "Folder 454: Title: Multimodel Conversational Bot For Multilingual Personalized Song Recommendation\n",
      "Current Count:  354\r"
     ]
    },
    {
     "data": {
      "application/vnd.jupyter.widget-view+json": {
       "model_id": "ea5d5eb3fe6e41f2ac2ec928b022eede",
       "version_major": 2,
       "version_minor": 0
      },
      "text/plain": [
       "  0%|          | 0/1 [00:00<?, ?it/s]"
      ]
     },
     "metadata": {},
     "output_type": "display_data"
    },
    {
     "name": "stdout",
     "output_type": "stream",
     "text": [
      "Folder 455: Title: Parallelization of Random Forest Algorithm for Enhanced Performance\n",
      "Folder 456: Title: IntegratingKeyframeExtractionandMoveNetThunderforRobustVideoPoseEstimationandClassification\n",
      "Folder 457: Title: AComprehensiveAnalysisofVGG16andResNet50ModelsinSignLanguageRecognition\n",
      "Current Count:  357\r"
     ]
    },
    {
     "data": {
      "application/vnd.jupyter.widget-view+json": {
       "model_id": "634dc9183c7745ff842a7611087971dd",
       "version_major": 2,
       "version_minor": 0
      },
      "text/plain": [
       "  0%|          | 0/1 [00:00<?, ?it/s]"
      ]
     },
     "metadata": {},
     "output_type": "display_data"
    },
    {
     "name": "stdout",
     "output_type": "stream",
     "text": [
      "Folder 458: Title: HAND GESTURE RECOGNITION FOR DEAF AND DUMB\n",
      "Folder 459: Title: UnveilingInsights:AlexNet-DrivenMRIAnalysisforPrecisionDiagnosisofKneeDisorders\n",
      "Current Count:  359\r"
     ]
    },
    {
     "data": {
      "application/vnd.jupyter.widget-view+json": {
       "model_id": "e01572840550456a9d4983fb3cead19a",
       "version_major": 2,
       "version_minor": 0
      },
      "text/plain": [
       "  0%|          | 0/1 [00:00<?, ?it/s]"
      ]
     },
     "metadata": {},
     "output_type": "display_data"
    },
    {
     "name": "stdout",
     "output_type": "stream",
     "text": [
      "Folder 46: Title: \n",
      "Folder 460: Title: Sales Prediction of FMCG Products in E-Commerce Platform\n",
      "Folder 461: Title: EfficientNetB1EmpoweredDeepLearningforAccurateLeukemiaDetectioninBloodSmearImage\n",
      "Current Count:  362\r"
     ]
    },
    {
     "data": {
      "application/vnd.jupyter.widget-view+json": {
       "model_id": "247a5d86d1744088a2fd9e5e79564155",
       "version_major": 2,
       "version_minor": 0
      },
      "text/plain": [
       "  0%|          | 0/1 [00:00<?, ?it/s]"
      ]
     },
     "metadata": {},
     "output_type": "display_data"
    },
    {
     "name": "stdout",
     "output_type": "stream",
     "text": [
      "Folder 462: Title: Optimizing Fruit Classification: A Comprehensive Assessment of Machine Learning Algorithms for Multi-Class Recognition\n",
      "Folder 463: Title: RevolutionizingSkinDiseaseDiagnosis:LeveragingEfficientNetforAdvancedImageAnalysisandPrecisionHealthcare\n",
      "Folder 464: Title: AnEfficientNetworkAttackDetectionsystemusingRecurrentneuralnetworkmodels\n",
      "Folder 466: Title: AnImprovedApproachforYogaPoseEstimationofImages\n",
      "Folder 467: Title: MovieRecommendationusingSentimentanalysisofReviews\n",
      "Folder 468: Title: SecureCommunicationviaPUF-EnabledHardwareandEncryptionTechniques\n",
      "Folder 469: No input file found in Submission folder\n",
      "Folder 47: Title: An In-Depth Exploration of Advanced Driver Drowsiness Detection Systems for Enhanced Road Safety\n",
      "Folder 470: Title: TextOriginDetection:UnmaskingtheSource–AIvsHuman\n",
      "Folder 471: Title: HEART DISEASE RISK PREDICTION USING MACHINE LEARNING\n",
      "Folder 472: Title: Advancing Care for Progeria: Exploring Real-Time Evaluation and its Impact\n",
      "Folder 473: No input file found in Submission folder\n",
      "Folder 474: Title: A novel light weight CNN model for Brain Tumor Classification\n",
      "Folder 475: Title: WordAhead:NextWordPredictionEngine\n",
      "Folder 476: Title: GoogleKeywordCost-Per-ClickAnalyzer\n",
      "Folder 477: Title: PollCastIndia2024:HarnessingDataforAccurateElectionPredictions\n",
      "Folder 478: Title: IMAGECAPTIONING:AUTOMATINGTHEARTOFWORDS\n",
      "Folder 479: Title: XXX-X-XXXX-XXXX-X/XX/$XX.00 ©20XX IEEE\n",
      "Current Count:  378\r"
     ]
    },
    {
     "data": {
      "application/vnd.jupyter.widget-view+json": {
       "model_id": "91d5cf76c6cb43e2af7e9641b28b42f1",
       "version_major": 2,
       "version_minor": 0
      },
      "text/plain": [
       "  0%|          | 0/1 [00:00<?, ?it/s]"
      ]
     },
     "metadata": {},
     "output_type": "display_data"
    },
    {
     "name": "stdout",
     "output_type": "stream",
     "text": [
      "Folder 48: Title: \n",
      "Current Count:  379\r"
     ]
    },
    {
     "data": {
      "application/vnd.jupyter.widget-view+json": {
       "model_id": "8ead51b730524337bd42f59f2c6b8fda",
       "version_major": 2,
       "version_minor": 0
      },
      "text/plain": [
       "  0%|          | 0/1 [00:00<?, ?it/s]"
      ]
     },
     "metadata": {},
     "output_type": "display_data"
    },
    {
     "name": "stdout",
     "output_type": "stream",
     "text": [
      "Folder 480: Title: SIGN LANGUAGE\n",
      "Folder 481: Title: Extracting Questions from Videos: Leveraging NLP for Inquiry\n",
      "Folder 482: Title: RevolutionizingTransportationInsightsusingGCPServicesinUber'sDataAnalytics\n",
      "Folder 483: Title: Analysis of a Hybrid System Using Neural Network Controller\n",
      "Folder 484: Title: XXX-X-XXXX-XXXX-X/XX/$XX.00 ©20XX IEEE\n",
      "Folder 485: Title: SceneUnderstandinginaWebBrowser\n",
      "Folder 486: Title: LeveragingCNNs,Quantization,andRandomForestforEdgeDeployableIntrusionDetectionEfficiency\n",
      "Folder 487: Title: IndianSignLanguageGestureRecognitionUsingConvolutionalNeuralNetwork(CNN)\n",
      "Folder 488: Title: ADeepLearningApproachforAccurate EnvironmentalSoundsAnalysis\n",
      "Folder 489: Title: Audiodenoisingusingmachinelearning\n",
      "Current Count:  389\r"
     ]
    },
    {
     "data": {
      "application/vnd.jupyter.widget-view+json": {
       "model_id": "760c5ee181e640f4ab195cb60b94f54f",
       "version_major": 2,
       "version_minor": 0
      },
      "text/plain": [
       "  0%|          | 0/1 [00:00<?, ?it/s]"
      ]
     },
     "metadata": {},
     "output_type": "display_data"
    },
    {
     "name": "stdout",
     "output_type": "stream",
     "text": [
      "Folder 49: Title: A Comprehensive Review of Handwriting-Based ADHD Detection in Children with Autism Spectrum Disorder Using Machine Learning\n",
      "Folder 490: Title: ImageInpaintingusingYOLOv8andLaMaModel\n",
      "Folder 491: Title: StockMarketPredictionUsingMachineLearning\n",
      "Folder 492: Title: OptimalSolutionforDistanceBetweenobjectsinavideousingDeepLearningTechniquesonEmbeddeddevices\n",
      "Folder 493: Title: ImprovedUNetforsemanticsegmentationinremotesensing\n",
      "Current Count:  394\r"
     ]
    },
    {
     "data": {
      "application/vnd.jupyter.widget-view+json": {
       "model_id": "209551d5cd7d4c2186bcf5dbe4dc5b5e",
       "version_major": 2,
       "version_minor": 0
      },
      "text/plain": [
       "  0%|          | 0/1 [00:00<?, ?it/s]"
      ]
     },
     "metadata": {},
     "output_type": "display_data"
    },
    {
     "name": "stdout",
     "output_type": "stream",
     "text": [
      "Folder 494: Title: Decoding and Translating Idiomatic Expressions from Hindi to English\n",
      "Folder 495: Title: EnhancingCataractDetectionwithMachineLearning\n",
      "Current Count:  396\r"
     ]
    },
    {
     "data": {
      "application/vnd.jupyter.widget-view+json": {
       "model_id": "1436b914089640d4861e37aea1b114f5",
       "version_major": 2,
       "version_minor": 0
      },
      "text/plain": [
       "  0%|          | 0/1 [00:00<?, ?it/s]"
      ]
     },
     "metadata": {},
     "output_type": "display_data"
    },
    {
     "name": "stdout",
     "output_type": "stream",
     "text": [
      "Folder 496: Title: IMAGE DENOISING USING WAVELET TRANSFORM AND MACHINE LEARNING\n",
      "Folder 497: Title: XXX-X-XXXX-XXXX-X/XX/$XX.00 ©20XX IEEE\n",
      "Current Count:  398\r"
     ]
    },
    {
     "data": {
      "application/vnd.jupyter.widget-view+json": {
       "model_id": "e0710eee1d664ba0a949c8b3592b9f34",
       "version_major": 2,
       "version_minor": 0
      },
      "text/plain": [
       "  0%|          | 0/1 [00:00<?, ?it/s]"
      ]
     },
     "metadata": {},
     "output_type": "display_data"
    },
    {
     "name": "stdout",
     "output_type": "stream",
     "text": [
      "Folder 498: Title: MLAFE-Net - Multi-Layer Attention and Feature Extraction for Change Detection\n",
      "Folder 499: Title: Deploying Deep Learning in Real-Time for Cancer Diagnosis via Medical Imaging\n",
      "Current Count:  400\r"
     ]
    },
    {
     "data": {
      "application/vnd.jupyter.widget-view+json": {
       "model_id": "be56e773ad194bf78d1445f2ef3e20dc",
       "version_major": 2,
       "version_minor": 0
      },
      "text/plain": [
       "  0%|          | 0/1 [00:00<?, ?it/s]"
      ]
     },
     "metadata": {},
     "output_type": "display_data"
    },
    {
     "name": "stdout",
     "output_type": "stream",
     "text": [
      "Folder 5: Title: Surveillance Bluetooth Controlled Robot Car\n",
      "Folder 50: Title: 1\n",
      "Folder 500: Title: Sentiment Analysis of Various Ride Sharing Applications Reviews: A Comparative Analysis between Deep Learning and Machine Learning Algorithms\n",
      "Folder 501: Title: Multi-Disease Detection from MRI Images using Convolutional Neural Networks\n",
      "Folder 502: Title: Transfer Learning anchored Cross-Age Face Recognition\n",
      "Folder 503: Title: \n",
      "Folder 504: Title: CUSTOMER SEGMENTATION USING MACHINE LEARNING\n",
      "Folder 505: Title: REAL TIME OBJECT DETECTION USING MACHINE LEARNING\n",
      "Folder 506: Title: AMachineLearning-basedArchitectureforStructuralHealthMonitoring\n",
      "Folder 509: Title: Interface for the Empirical Analysis of Artificial Intelligence Algorithms\n",
      "Folder 51: Title: 0\n",
      "Folder 510: Title: XXX-X-XXXX-XXXX-X/XX/$XX.00 ©20XX IEEE\n",
      "Current Count:  412\r"
     ]
    },
    {
     "data": {
      "application/vnd.jupyter.widget-view+json": {
       "model_id": "6c0d87362473409cb292b969bb3034a9",
       "version_major": 2,
       "version_minor": 0
      },
      "text/plain": [
       "  0%|          | 0/1 [00:00<?, ?it/s]"
      ]
     },
     "metadata": {},
     "output_type": "display_data"
    },
    {
     "name": "stdout",
     "output_type": "stream",
     "text": [
      "Folder 511: Title: The CNN Model Algorithm for Detection of Keratoconus by Using Galilei Corneal Topographies\n",
      "Current Count:  413\r"
     ]
    },
    {
     "data": {
      "application/vnd.jupyter.widget-view+json": {
       "model_id": "0ce2cab5804e4ea98e3b5a3833128e4a",
       "version_major": 2,
       "version_minor": 0
      },
      "text/plain": [
       "  0%|          | 0/1 [00:00<?, ?it/s]"
      ]
     },
     "metadata": {},
     "output_type": "display_data"
    },
    {
     "name": "stdout",
     "output_type": "stream",
     "text": [
      "Folder 512: Title: Implementation Of Truth Sense Real-Time Visual Analysis System Using Deep Learning\n",
      "Folder 513: Title: DIAGNOSIS TOBACCO-RELATED ORGAN CANCER\n",
      "Folder 514: Title: Crayfish Optimization Algorithm for Enhanced Feature Selection Accuracy for Datasets\n",
      "Folder 515: Title: SECURING CLOUD INFORMATION UNDER KEY INTRODUCTION\n",
      "Current Count:  417\r"
     ]
    },
    {
     "data": {
      "application/vnd.jupyter.widget-view+json": {
       "model_id": "00de710fc516449faabff48ccb3bb006",
       "version_major": 2,
       "version_minor": 0
      },
      "text/plain": [
       "  0%|          | 0/1 [00:00<?, ?it/s]"
      ]
     },
     "metadata": {},
     "output_type": "display_data"
    },
    {
     "name": "stdout",
     "output_type": "stream",
     "text": [
      "Folder 516: Title: \n",
      "Current Count:  418\r"
     ]
    },
    {
     "data": {
      "application/vnd.jupyter.widget-view+json": {
       "model_id": "ded69d9d3129448096b87c4d50ad7970",
       "version_major": 2,
       "version_minor": 0
      },
      "text/plain": [
       "  0%|          | 0/1 [00:00<?, ?it/s]"
      ]
     },
     "metadata": {},
     "output_type": "display_data"
    },
    {
     "name": "stdout",
     "output_type": "stream",
     "text": [
      "Folder 517: Title: Demand Forecasting of Perishable Products Using Traditional Statistical and Machine Learning Methods\n",
      "Folder 519: Title: CROPHEALTHMONITORINGUSINGAI\n",
      "Folder 52: Title: 0\n",
      "Current Count:  421\r"
     ]
    },
    {
     "data": {
      "application/vnd.jupyter.widget-view+json": {
       "model_id": "7f385c9bea784b76bdfe05add953338d",
       "version_major": 2,
       "version_minor": 0
      },
      "text/plain": [
       "  0%|          | 0/1 [00:00<?, ?it/s]"
      ]
     },
     "metadata": {},
     "output_type": "display_data"
    },
    {
     "name": "stdout",
     "output_type": "stream",
     "text": [
      "Folder 523: Title: Advancements in Speech based Emotion Identification Methods Using Deep Learning: A Comprehensive Overview\n",
      "Folder 524: Title: Diagnosis of cingulate island sign in lewy body dementia: A systematic literature review\n",
      "Folder 525: Title: BananaPlantDiseaseDetectionusingImageProcessing\n",
      "Folder 526: Title: \n",
      "Folder 527: Title: RealTimeActivityMonitoringUsingDeepLearning\n",
      "Folder 528: Title: Flood Prediction System with Voting Classifier\n",
      "Folder 529: Title: An Investigation of Deep Learning Models for Wildlife Object Detection and Classification in Images\n",
      "Folder 53: Title: Leaf Disease Detection Using Deep Learning\n",
      "Folder 530: Title: 1\n",
      "Current Count:  430\r"
     ]
    },
    {
     "data": {
      "application/vnd.jupyter.widget-view+json": {
       "model_id": "ddda7b7b6ae94617bea8dc9d9637314f",
       "version_major": 2,
       "version_minor": 0
      },
      "text/plain": [
       "  0%|          | 0/1 [00:00<?, ?it/s]"
      ]
     },
     "metadata": {},
     "output_type": "display_data"
    },
    {
     "name": "stdout",
     "output_type": "stream",
     "text": [
      "Folder 531: Title: Electronic Healthcare Record Sharing System Using Blockchain Technology\n",
      "Folder 532: No input file found in Submission folder\n",
      "Folder 533: Title: CODIO: A proficient and effortless No-Code platform for Machine Learning Aspirants\n",
      "Current Count:  432\r"
     ]
    },
    {
     "data": {
      "application/vnd.jupyter.widget-view+json": {
       "model_id": "6a3ecf5943d64cc9881f77f861018a58",
       "version_major": 2,
       "version_minor": 0
      },
      "text/plain": [
       "  0%|          | 0/1 [00:00<?, ?it/s]"
      ]
     },
     "metadata": {},
     "output_type": "display_data"
    },
    {
     "name": "stdout",
     "output_type": "stream",
     "text": [
      "Folder 534: Title: INTRODUCING AN INNOVATIVE SMS-BASED INTRUDER DETECTION SYSTEM FOR ENHANCED HOME SECURITY\n",
      "Folder 536: Title: PredictiveMaintenanceofIndustrialEquipmentsusingIoTandDataScienceTechniques:usingFeedForwardNeuralNetwork\n",
      "Folder 537: Title: ScalingInsights:UnleashingthePowerofScalableClusteringIndicesforBigDataExploration\n",
      "Folder 538: Title: Health Insurance Claim Analysis Using Machine Learning Algorithms\n",
      "Folder 539: Title: DestinAI:YourPersonalizedTravelItineraryPlannerandChatCatalystusingGenerativeAI\n",
      "Folder 54: Title: Automatic Number Plate Recognition Based on Deep Learning for Vehicle Authentication\n",
      "Current Count:  438\r"
     ]
    },
    {
     "data": {
      "application/vnd.jupyter.widget-view+json": {
       "model_id": "4504f9e61ccf4537bea3c2adf3d80b93",
       "version_major": 2,
       "version_minor": 0
      },
      "text/plain": [
       "  0%|          | 0/1 [00:00<?, ?it/s]"
      ]
     },
     "metadata": {},
     "output_type": "display_data"
    },
    {
     "name": "stdout",
     "output_type": "stream",
     "text": [
      "Folder 540: Title: Enhancing Pharmaceutical Drug Classification Using XGBoost: A USP-Compliant Approach\n",
      "Folder 541: Title: MachineLearningBasedPredictionofChronicKidneyDisease\n",
      "Folder 542: Title: Prediction of Chronic Respiratory Diseases using Machine Learning Algorithms\n",
      "Folder 543: Title: \n",
      "Current Count:  442\r"
     ]
    },
    {
     "data": {
      "application/vnd.jupyter.widget-view+json": {
       "model_id": "7ac29511895b432da362d3550bcd1639",
       "version_major": 2,
       "version_minor": 0
      },
      "text/plain": [
       "  0%|          | 0/1 [00:00<?, ?it/s]"
      ]
     },
     "metadata": {},
     "output_type": "display_data"
    },
    {
     "name": "stdout",
     "output_type": "stream",
     "text": [
      "Folder 545: Title: \n",
      "Folder 547: Title: 1\n",
      "Folder 548: Title: A Convolutional Neural Network Approach to Robust Crop Health Monitoring\n",
      "Current Count:  445\r"
     ]
    },
    {
     "data": {
      "application/vnd.jupyter.widget-view+json": {
       "model_id": "5c8b34b2b26a40f28eb49dec70ee3c16",
       "version_major": 2,
       "version_minor": 0
      },
      "text/plain": [
       "  0%|          | 0/1 [00:00<?, ?it/s]"
      ]
     },
     "metadata": {},
     "output_type": "display_data"
    },
    {
     "name": "stdout",
     "output_type": "stream",
     "text": [
      "Folder 549: Title: Lung Cancer Prognosis: A Machine Learning Approach to Symptom-Based Prediction and Early Detection\n",
      "Folder 55: Title: ImageCaptioningusingDeepLearning\n",
      "Current Count:  447\r"
     ]
    },
    {
     "data": {
      "application/vnd.jupyter.widget-view+json": {
       "model_id": "84f01a214f1744708c74a83af5becb65",
       "version_major": 2,
       "version_minor": 0
      },
      "text/plain": [
       "  0%|          | 0/1 [00:00<?, ?it/s]"
      ]
     },
     "metadata": {},
     "output_type": "display_data"
    },
    {
     "name": "stdout",
     "output_type": "stream",
     "text": [
      "Folder 551: Title: Skin Cancer Detection with YOLO and Django: A Deep Learning Web Application\n",
      "Folder 552: Title: FlowerNet : Temple Waste Optimization Through AI-Driven Floral Analysis\n",
      "Folder 553: Title: Effect Of Machine Learning And Feature Selection On  Diabetes Type 2  Risk Prediction\n",
      "Folder 554: Title: AgriLeafNet:SeverityEstimationinMultipleCropLeafDiseases\n",
      "Folder 555: Title: \n",
      "Folder 556: Title: Multi-classSemanticSegmentation:aDeepSupervisedApproachForBrainTumorDetectionUsing3DU-Net++Architecture\n",
      "Folder 557: Title: DeepSeg:ADecisionSupportsystemforenhancedSegmentationofBacterialCellImage\n",
      "Current Count:  454\r"
     ]
    },
    {
     "data": {
      "application/vnd.jupyter.widget-view+json": {
       "model_id": "28e66f0c623345b2bb7ba0bc5414205a",
       "version_major": 2,
       "version_minor": 0
      },
      "text/plain": [
       "  0%|          | 0/1 [00:00<?, ?it/s]"
      ]
     },
     "metadata": {},
     "output_type": "display_data"
    },
    {
     "name": "stdout",
     "output_type": "stream",
     "text": [
      "Folder 558: Title: Integrative Disease Prediction: A Machine Learning Approach for Multi-Disease Diagnosis\n",
      "Folder 559: Title: Optimizing Resource Allocation in Big Data Environments Through a Minimum-Cost Policy\n",
      "Folder 56: Title: SUSTAINAI: ENHANCING RENEWABLE ENERGY FORECASTING\n",
      "Folder 560: Title: Impurity explicit optimal Machine learning and statistical perfect construction for air quality prediction\n",
      "Folder 561: No input file found in Submission folder\n"
     ]
    },
    {
     "data": {
      "application/vnd.jupyter.widget-view+json": {
       "model_id": "80e3e7fa5d2b40a8ab9661713ef81639",
       "version_major": 2,
       "version_minor": 0
      },
      "text/plain": [
       "  0%|          | 0/1 [00:00<?, ?it/s]"
      ]
     },
     "metadata": {},
     "output_type": "display_data"
    },
    {
     "name": "stdout",
     "output_type": "stream",
     "text": [
      "Folder 562: Title: Intelli-Face Guardian Criminal Identification System Using LBPH Algorithm.\n",
      "Folder 564: Title: \n",
      "Folder 565: Title: X-Ray Prognosis Using CNN Algorithm\n",
      "Folder 566: Title: ClassificationofdrybeansintoGeneticVarietiesusingdeeplearning-basedConvolutionalNeuralNetworks(CNNs)\n",
      "Folder 567: Title: Transcription-BasedonPitchesanOntologyfortheSystemKnowledgeRepresentation\n",
      "Folder 568: Title: GestureandSpeechRecognitionforReal-TimeMultimodalHuman-RobotInteractionusingDeepLearningBasedApproach\n",
      "Folder 569: Title: SIGN2SPEECH - SIGN LANGUAGE TO SPEECH CONVERTER\n",
      "Folder 57: Title: 5\n",
      "Current Count:  466\r"
     ]
    },
    {
     "data": {
      "application/vnd.jupyter.widget-view+json": {
       "model_id": "68ec29a237ab44ebaff8b271f98550d3",
       "version_major": 2,
       "version_minor": 0
      },
      "text/plain": [
       "  0%|          | 0/1 [00:00<?, ?it/s]"
      ]
     },
     "metadata": {},
     "output_type": "display_data"
    },
    {
     "name": "stdout",
     "output_type": "stream",
     "text": [
      "Folder 570: Title: Use of  Augmented Reality at Foundational Stage of Education: Benefits and Challenges\n",
      "Folder 571: Title: Rating Based Sentiment Analysis on Online Mobile Reviews Using Vader Pre-Processing\n",
      "Folder 572: Title: OxygenPredictioninRiverWaterusingdifferentMachineLearningAlgorithms\n",
      "Current Count:  469\r"
     ]
    },
    {
     "data": {
      "application/vnd.jupyter.widget-view+json": {
       "model_id": "cadb676e9eb44b8e8e8581f28f80570d",
       "version_major": 2,
       "version_minor": 0
      },
      "text/plain": [
       "  0%|          | 0/1 [00:00<?, ?it/s]"
      ]
     },
     "metadata": {},
     "output_type": "display_data"
    },
    {
     "name": "stdout",
     "output_type": "stream",
     "text": [
      "Folder 573: Title: Medical Waste Classification Using Yolo V5 Algorithm\n",
      "Folder 574: Title: Bio-Inspired Negative Selection Tested for Ransomware Anomaly Detection\n",
      "Folder 575: Title: ComparativeAnalysisofInsertionSortonDiverseDataTypesandDataStructures\n",
      "Folder 576: Title: AnEvaluationSchemeforSingleSourceShortestPathComputingAlgorithms:DijkstravsBellman-Ford\n",
      "Folder 577: Title: Deep Learning For Amazon Textual Review Sentiment Analysis of Mobile Phones With ESOA based 1D-CNN Classification\n",
      "Folder 578: Title: Transient Stability Prediction Using Machine Learning Algorithm\n",
      "Current Count:  475\r"
     ]
    },
    {
     "data": {
      "application/vnd.jupyter.widget-view+json": {
       "model_id": "0e69c5db7f6e4fae8cb49c170995983a",
       "version_major": 2,
       "version_minor": 0
      },
      "text/plain": [
       "  0%|          | 0/1 [00:00<?, ?it/s]"
      ]
     },
     "metadata": {},
     "output_type": "display_data"
    },
    {
     "name": "stdout",
     "output_type": "stream",
     "text": [
      "Folder 579: Title: \n",
      "Folder 58: Title: Unlocking the Potential of Virtual Pet Ownership - The Impact of Blockchain and Web3\n",
      "Folder 580: Title: GAN-basedImageInpaintingTechniques:ASurvey\n",
      "Folder 581: Title: A Comprehensive Review on Applications of AI based Metaheuristics for Swarm Robotics\n",
      "Folder 582: Title: A theoretical framework for blockchain smart contract embracing to manage land property transactions.\n",
      "Folder 583: Title: ADeepLearningFrameworkforPaddyandMaizeleafDiseaseDetection\n",
      "Folder 584: Title: SyntheticFingerprintGeneration:BridgingtheGapbetweenPrivacyandSecuritywithVariationalAutoEncoders\n",
      "Folder 585: Title: Face mask detection and alerting system using transfer learning\n",
      "Folder 586: Title: \n",
      "Folder 587: Title: 1\n",
      "Folder 588: Title: 1\n",
      "Folder 589: Title: A Narrative of Security Affair and Challenges: Cloud Computing\n",
      "Folder 59: Title: A comprehensive synopsis on technologies and innovations to enhance safety and mobility of the visually challenged.\n",
      "Current Count:  488\r"
     ]
    },
    {
     "data": {
      "application/vnd.jupyter.widget-view+json": {
       "model_id": "77376b77fb5a41e3924a98fbccb9a1fa",
       "version_major": 2,
       "version_minor": 0
      },
      "text/plain": [
       "  0%|          | 0/1 [00:00<?, ?it/s]"
      ]
     },
     "metadata": {},
     "output_type": "display_data"
    },
    {
     "name": "stdout",
     "output_type": "stream",
     "text": [
      "Folder 590: Title: Automated H&E nuclei segmentation using u-net models\n",
      "Current Count:  489\r"
     ]
    },
    {
     "data": {
      "application/vnd.jupyter.widget-view+json": {
       "model_id": "1945db14228e4dae8e414a0a8fb00be3",
       "version_major": 2,
       "version_minor": 0
      },
      "text/plain": [
       "  0%|          | 0/1 [00:00<?, ?it/s]"
      ]
     },
     "metadata": {},
     "output_type": "display_data"
    },
    {
     "name": "stdout",
     "output_type": "stream",
     "text": [
      "Folder 591: Title: Unleashing The Potential of Fog Computing\n",
      "Folder 592: Title: Deep Learning for Multimodal Caption Generation in Images and Videos\n",
      "Folder 593: Title: An Accurate People Counting System  Based on Object Detection and Tracking\n",
      "Current Count:  492\r"
     ]
    },
    {
     "data": {
      "application/vnd.jupyter.widget-view+json": {
       "model_id": "3d5de9ba2ccb404b8a4456535df03f50",
       "version_major": 2,
       "version_minor": 0
      },
      "text/plain": [
       "  0%|          | 0/1 [00:00<?, ?it/s]"
      ]
     },
     "metadata": {},
     "output_type": "display_data"
    },
    {
     "name": "stdout",
     "output_type": "stream",
     "text": [
      "Folder 594: Title: 1\n",
      "Folder 595: Title: Structuralandfunctionalfeaturesofthesyntheticbenchmark\n",
      "Current Count:  494\r"
     ]
    },
    {
     "data": {
      "application/vnd.jupyter.widget-view+json": {
       "model_id": "d7984bb0ef0a46eea2935d7f2c762b77",
       "version_major": 2,
       "version_minor": 0
      },
      "text/plain": [
       "  0%|          | 0/1 [00:00<?, ?it/s]"
      ]
     },
     "metadata": {},
     "output_type": "display_data"
    },
    {
     "name": "stdout",
     "output_type": "stream",
     "text": [
      "Folder 596: Title: Detecting and Counting the Tracks Registered Nuclear Based on the Fast Marching Method\n",
      "Folder 597: Title: A Review of Machine Learning-based Ayurvedic Disease Diagnosis and Prospects of Unsupervised Trends towards Ayurveda\n",
      "Folder 598: Title: Estimation and Analysis of Landslide Occurrence by Combining Geographical and Atmospheric Study using U-Net Model\n",
      "Current Count:  497\r"
     ]
    },
    {
     "data": {
      "application/vnd.jupyter.widget-view+json": {
       "model_id": "4792aa3ee8f74aa38db53cdf3a243986",
       "version_major": 2,
       "version_minor": 0
      },
      "text/plain": [
       "  0%|          | 0/1 [00:00<?, ?it/s]"
      ]
     },
     "metadata": {},
     "output_type": "display_data"
    },
    {
     "name": "stdout",
     "output_type": "stream",
     "text": [
      "Folder 599: Title: A study on Augmented Reality Applications in the 6G era\n",
      "Current Count:  498\r"
     ]
    },
    {
     "data": {
      "application/vnd.jupyter.widget-view+json": {
       "model_id": "12b402e3173c4aa492f2894970f1f401",
       "version_major": 2,
       "version_minor": 0
      },
      "text/plain": [
       "  0%|          | 0/1 [00:00<?, ?it/s]"
      ]
     },
     "metadata": {},
     "output_type": "display_data"
    },
    {
     "name": "stdout",
     "output_type": "stream",
     "text": [
      "Folder 6: Title: Detailed Survey of Pre-diagnosis Models of Osteoporosis\n",
      "Current Count:  499\r",
      "Folder 60: No input file found in Submission folder\n"
     ]
    },
    {
     "data": {
      "application/vnd.jupyter.widget-view+json": {
       "model_id": "ae6a40fe6b1a4cbfb57cf10e1af58cda",
       "version_major": 2,
       "version_minor": 0
      },
      "text/plain": [
       "  0%|          | 0/1 [00:00<?, ?it/s]"
      ]
     },
     "metadata": {},
     "output_type": "display_data"
    },
    {
     "name": "stdout",
     "output_type": "stream",
     "text": [
      "Folder 600: Title: Fake News Classification On Twitter Using           Machine Learning Algorithms\n",
      "Current Count:  500\r"
     ]
    },
    {
     "data": {
      "application/vnd.jupyter.widget-view+json": {
       "model_id": "4d425edf788b49cfb4c31c75ac47bfbb",
       "version_major": 2,
       "version_minor": 0
      },
      "text/plain": [
       "  0%|          | 0/1 [00:00<?, ?it/s]"
      ]
     },
     "metadata": {},
     "output_type": "display_data"
    },
    {
     "name": "stdout",
     "output_type": "stream",
     "text": [
      "Folder 601: Title: VisionBlend Empowering Object Recognition for the Visually Impaired\n",
      "Folder 602: Title: V2SL: The speech to sign language translator\n",
      "Current Count:  502\r"
     ]
    },
    {
     "data": {
      "application/vnd.jupyter.widget-view+json": {
       "model_id": "8e3750fdde844459b512a2cdd0f6e9a5",
       "version_major": 2,
       "version_minor": 0
      },
      "text/plain": [
       "  0%|          | 0/1 [00:00<?, ?it/s]"
      ]
     },
     "metadata": {},
     "output_type": "display_data"
    },
    {
     "name": "stdout",
     "output_type": "stream",
     "text": [
      "Folder 603: Title: LUNG CANCER PREDICTION USING VGG16\n",
      "Folder 604: Title: An Explainable Machine Learning Framework for Prediction of Recurrent Lumbar Disc Herniation\n",
      "Folder 605: Title: Comprehensive Blockchain, AI-Based Web Framework for Digital Health Record Management System\n",
      "Folder 606: Title: OptimizedReal-timeControlofQuanser\n",
      "Current Count:  506\r"
     ]
    },
    {
     "data": {
      "application/vnd.jupyter.widget-view+json": {
       "model_id": "5ca40eca7b7742f093c539692d1e0058",
       "version_major": 2,
       "version_minor": 0
      },
      "text/plain": [
       "  0%|          | 0/1 [00:00<?, ?it/s]"
      ]
     },
     "metadata": {},
     "output_type": "display_data"
    },
    {
     "name": "stdout",
     "output_type": "stream",
     "text": [
      "Folder 607: Title: \n",
      "Folder 608: Title: Sentimatrix: Sentiment analysis using GNN in healthcare\n",
      "Folder 609: Title: EnhancingImageSecuritywithDynamicEncodinginDNACryptography\n",
      "Current Count:  509\r"
     ]
    },
    {
     "data": {
      "application/vnd.jupyter.widget-view+json": {
       "model_id": "39c8a7539fff4e5db7f82c54c56e2953",
       "version_major": 2,
       "version_minor": 0
      },
      "text/plain": [
       "  0%|          | 0/1 [00:00<?, ?it/s]"
      ]
     },
     "metadata": {},
     "output_type": "display_data"
    },
    {
     "name": "stdout",
     "output_type": "stream",
     "text": [
      "Folder 61: Title: Instant Ambulance Connection- Rescue Radar\n",
      "Folder 610: Title: ASurveyOnGovernmentHealthSchemesHubAndMedicalMart\n",
      "Folder 611: Title: TrustworthyAIforDermatologicalDiseaseDiagnosis:BridgingtheGapbetweenAccuracyandTrustworthiness\n",
      "Current Count:  512\r"
     ]
    },
    {
     "data": {
      "application/vnd.jupyter.widget-view+json": {
       "model_id": "2b65673db74b48dab6c08032a0fb98b4",
       "version_major": 2,
       "version_minor": 0
      },
      "text/plain": [
       "  0%|          | 0/1 [00:00<?, ?it/s]"
      ]
     },
     "metadata": {},
     "output_type": "display_data"
    },
    {
     "name": "stdout",
     "output_type": "stream",
     "text": [
      "Folder 612: Title: \n",
      "Current Count:  513\r"
     ]
    },
    {
     "data": {
      "application/vnd.jupyter.widget-view+json": {
       "model_id": "f2dfab8c9a424c59ab6243a31d3c6ca9",
       "version_major": 2,
       "version_minor": 0
      },
      "text/plain": [
       "  0%|          | 0/1 [00:00<?, ?it/s]"
      ]
     },
     "metadata": {},
     "output_type": "display_data"
    },
    {
     "name": "stdout",
     "output_type": "stream",
     "text": [
      "Folder 613: Title: Cloud-based Diabetic Retinopathy Severity Prediction System Using Ensemble Deep Convolutional Neural Network Classifier Model\n",
      "Folder 614: Title: PERFORMANCEAPPRAISALUSINGLEACHPROTOCOLINWIRELESSENERGYHARVESTINGSYSTEM\n",
      "Folder 615: Title: Parkinson’sDiseaseDetectionUsingGeneticAlgorithmandExplainableAI\n",
      "Folder 616: Title: ShareTheMeal:AnAI-PoweredFoodDonationPlatform:BridgingHotelsandNGOs\n",
      "Folder 617: No input file found in Submission folder\n",
      "Folder 618: Title: Flora & Flight: A Botanical and Interactive Augmented Reality Experience\n",
      "Current Count:  518\r"
     ]
    },
    {
     "data": {
      "application/vnd.jupyter.widget-view+json": {
       "model_id": "17e015f416994706803bd90a295b3893",
       "version_major": 2,
       "version_minor": 0
      },
      "text/plain": [
       "  0%|          | 0/1 [00:00<?, ?it/s]"
      ]
     },
     "metadata": {},
     "output_type": "display_data"
    },
    {
     "name": "stdout",
     "output_type": "stream",
     "text": [
      "Folder 619: Title: XXX-X-XXXX-XXXX-X/XX/$XX.00 ©20XX IEEE\n",
      "Current Count:  519\r"
     ]
    },
    {
     "data": {
      "application/vnd.jupyter.widget-view+json": {
       "model_id": "0137f4e0fc184caa8f5c928fa4df4eca",
       "version_major": 2,
       "version_minor": 0
      },
      "text/plain": [
       "  0%|          | 0/1 [00:00<?, ?it/s]"
      ]
     },
     "metadata": {},
     "output_type": "display_data"
    },
    {
     "name": "stdout",
     "output_type": "stream",
     "text": [
      "Folder 62: Title: FINDING MISSING PERSONS USING HAAR CASCADE ALGORITHM\n",
      "Folder 620: Title: AReviewonImageSegmentationforFishDetectionAndClassificationMethodologies\n",
      "Folder 621: Title: UnveilingtheFutureofConsumerBehaviorthroughUserIntentSignals\n",
      "Folder 622: Title: \n",
      "Folder 623: Title: 1\n",
      "Folder 624: Title: Lacunarity-BasedCharacterizationofHyperspectralSpatialPatterns\n",
      "Folder 625: Title: Advances in Emotion Recognition using Large Language Models: An Overview\n",
      "Folder 626: Title: U-NetSegmentationandLacunarityforEnhancedAnalysisofHyperspectralImagery\n",
      "Folder 627: Title: \n",
      "Folder 629: Title: MUCORMYCOSIS PREDICTIVE ANALYSIS USING MACHINE LEARNING TECHNIQUES\n",
      "Folder 63: Title: Survey Paper on WhatsApp Chat Analytics Platform using Python\n",
      "Folder 630: Title: Large Language Models in Mental Healthcare Applications: A survey\n",
      "Folder 631: Title: TEMPORAL VIDEO SEGMENTATION WITH SIAMESE NETWORK\n",
      "Folder 633: Title: Solar Water Pumping System with BLDC Motor and ANN-based MPPT Technique\n",
      "Folder 634: Title: \n",
      "Folder 635: Title: 1\n",
      "Folder 636: Title: Sentiment Analysis of Amazon Product Reviews: A Comprehensive Evaluation using Naive Bayes Classifiers\n",
      "Folder 637: Title: ComprehensiveAnalysisonImageCaptioningApproaches\n",
      "Folder 638: Title: OptimizingReal-TimePerformanceinML-BasedApplicationLayer\n",
      "Folder 639: Title: Rainfall Prediction Using Machine Learning Techniques\n",
      "Folder 64: Title: Shubham Gore                                    Dipmala Salunke JSPM’s Rajarshri Shahu                     JSPM’s Rajarshri Shahu  College of Engineering,                     College of Engineering, Pune, India                                          Pune, India Shubhamugore99@gmail.com       dtsalunke_it@jspmrscoe.edu.in\n",
      "Folder 640: Title: .\n",
      "Folder 641: Title: \n",
      "Folder 642: Title: \n",
      "Folder 643: Title: ENHANCING MULTI-DOCUMENT QUESTION ANSWERING USING TRANSFORMER BASED DECODER MODELS\n",
      "Current Count:  544\r"
     ]
    },
    {
     "data": {
      "application/vnd.jupyter.widget-view+json": {
       "model_id": "7adad2ef5fe44de4b2bf28d04cfe4dcc",
       "version_major": 2,
       "version_minor": 0
      },
      "text/plain": [
       "  0%|          | 0/1 [00:00<?, ?it/s]"
      ]
     },
     "metadata": {},
     "output_type": "display_data"
    },
    {
     "name": "stdout",
     "output_type": "stream",
     "text": [
      "Folder 644: Title: Sensei – Generative AI based YouTube Study Assistant\n",
      "Current Count:  545\r"
     ]
    },
    {
     "data": {
      "application/vnd.jupyter.widget-view+json": {
       "model_id": "ca5c46ed996b439eb04bc077b8709a90",
       "version_major": 2,
       "version_minor": 0
      },
      "text/plain": [
       "  0%|          | 0/1 [00:00<?, ?it/s]"
      ]
     },
     "metadata": {},
     "output_type": "display_data"
    },
    {
     "name": "stdout",
     "output_type": "stream",
     "text": [
      "Folder 645: Title: STABLE DIFFUSION: A Robust Approach For Image Generation\n",
      "Folder 646: Title: DetectingOffensiveLanguageinTamilYouTubeComments\n",
      "Folder 647: Title: Applications of Natural Language Processing to Predict Suicidal Tendencies from Social Media Textual Input\n",
      "Current Count:  548\r"
     ]
    },
    {
     "data": {
      "application/vnd.jupyter.widget-view+json": {
       "model_id": "49fb89995f804966abefec78267972b4",
       "version_major": 2,
       "version_minor": 0
      },
      "text/plain": [
       "  0%|          | 0/1 [00:00<?, ?it/s]"
      ]
     },
     "metadata": {},
     "output_type": "display_data"
    },
    {
     "name": "stdout",
     "output_type": "stream",
     "text": [
      "Folder 648: Title: Exploring the Transformative Landscape: A Comprehensive Survey on the Pivotal Role of Artificial Intelligence and Machine Learning in Shaping the Future of 6th Generation (6G) Communications\n",
      "Current Count:  549\r"
     ]
    },
    {
     "data": {
      "application/vnd.jupyter.widget-view+json": {
       "model_id": "592408b9c93644a8a5ecea32dd3acc68",
       "version_major": 2,
       "version_minor": 0
      },
      "text/plain": [
       "  0%|          | 0/1 [00:00<?, ?it/s]"
      ]
     },
     "metadata": {},
     "output_type": "display_data"
    },
    {
     "name": "stdout",
     "output_type": "stream",
     "text": [
      "Folder 649: Title: Classification Of Schizophrenia With Using EEG Signals\n",
      "Folder 65: Title: Statewise Crime Patterns with Ensemble Machine Learning and Data Visualization Techniques for public safety\n",
      "Folder 651: Title: An Empirical Investigation on the Relationship Between Macroeconomic Metrics and Credit Default Swap Spreads: A Machine Learning Approach  1. Introduction CDS or Credit Default Swap, is a credit instrument of derivative used in the odyssey of finance to hedge credit risk. Like any other contract, CDS is a contractual agreement between a buyer and a seller, in which the buyer makes payments periodically to the seller in exchange for risk protection of a specific credit event, typically the default of a specific debt issuer or entity. Sovereign CDS is focused on the credit risk of sovereign nations, meaning it deals with the possibility of a government defaulting on its debt obligations. The mechanics of a sovereign CDS are similar to those of a regular CDS but are applied to government bonds or debt issued by a specific country. Sovereign CDS spread is the premium paid to protect against the credit risk of a sovereign government, expressed in basis points, reflecting the market's perception of the government's creditworthiness. This paper uses a comprehensive dataset, which can provide insights beyond what is available to an investor at the time of making an investment and analyses\n",
      "Folder 653: Title: DetectionOfBuriedIEDsUsingConvolutionalNeuralNetworksOnGroundImagesFromThermalCamerasEmbarkedOnUAVs\n",
      "Current Count:  553\r"
     ]
    },
    {
     "data": {
      "application/vnd.jupyter.widget-view+json": {
       "model_id": "91e2278ad5e248808d98e30cc976c577",
       "version_major": 2,
       "version_minor": 0
      },
      "text/plain": [
       "  0%|          | 0/1 [00:00<?, ?it/s]"
      ]
     },
     "metadata": {},
     "output_type": "display_data"
    },
    {
     "name": "stdout",
     "output_type": "stream",
     "text": [
      "Folder 654: Title: DATA MINING FOR SALES PREDICTION IN TOURISM INDUSTRY\n",
      "Folder 655: Title: Unravelling Opportunities: Big Data Analysis Revolutionizing the Textile Industry in India\n",
      "Current Count:  555\r"
     ]
    },
    {
     "data": {
      "application/vnd.jupyter.widget-view+json": {
       "model_id": "afd4faab4fba48de84df1b1f7e8f72f6",
       "version_major": 2,
       "version_minor": 0
      },
      "text/plain": [
       "  0%|          | 0/1 [00:00<?, ?it/s]"
      ]
     },
     "metadata": {},
     "output_type": "display_data"
    },
    {
     "name": "stdout",
     "output_type": "stream",
     "text": [
      "Folder 656: Title: 1\n",
      "Current Count:  556\r"
     ]
    },
    {
     "data": {
      "application/vnd.jupyter.widget-view+json": {
       "model_id": "9684fa8556c94f9b8c6781b887aaccef",
       "version_major": 2,
       "version_minor": 0
      },
      "text/plain": [
       "  0%|          | 0/1 [00:00<?, ?it/s]"
      ]
     },
     "metadata": {},
     "output_type": "display_data"
    },
    {
     "name": "stdout",
     "output_type": "stream",
     "text": [
      "Folder 657: Title: 1\n",
      "Current Count:  557\r"
     ]
    },
    {
     "data": {
      "application/vnd.jupyter.widget-view+json": {
       "model_id": "6022a86d16e84867b1791609c8074bf7",
       "version_major": 2,
       "version_minor": 0
      },
      "text/plain": [
       "  0%|          | 0/1 [00:00<?, ?it/s]"
      ]
     },
     "metadata": {},
     "output_type": "display_data"
    },
    {
     "name": "stdout",
     "output_type": "stream",
     "text": [
      "Folder 658: Title: \n",
      "Current Count:  558\r"
     ]
    },
    {
     "data": {
      "application/vnd.jupyter.widget-view+json": {
       "model_id": "1dd469382a884b7ab951b76635fd7096",
       "version_major": 2,
       "version_minor": 0
      },
      "text/plain": [
       "  0%|          | 0/1 [00:00<?, ?it/s]"
      ]
     },
     "metadata": {},
     "output_type": "display_data"
    },
    {
     "name": "stdout",
     "output_type": "stream",
     "text": [
      "Folder 659: Title: \n",
      "Folder 66: Title: 9\n",
      "Current Count:  560\r"
     ]
    },
    {
     "data": {
      "application/vnd.jupyter.widget-view+json": {
       "model_id": "aca9b348be88408882a7e09d04c0796a",
       "version_major": 2,
       "version_minor": 0
      },
      "text/plain": [
       "  0%|          | 0/1 [00:00<?, ?it/s]"
      ]
     },
     "metadata": {},
     "output_type": "display_data"
    },
    {
     "name": "stdout",
     "output_type": "stream",
     "text": [
      "Folder 661: Title: \n",
      "Folder 662: Title: cVGG16-UNet : Multiregional Automatic Segmentation of Glioma Tumor using Hybrid 3D Deep Convolutional Neural Network\n",
      "Current Count:  562\r"
     ]
    },
    {
     "data": {
      "application/vnd.jupyter.widget-view+json": {
       "model_id": "7121821e81b04b698f5b098478d5fa75",
       "version_major": 2,
       "version_minor": 0
      },
      "text/plain": [
       "  0%|          | 0/1 [00:00<?, ?it/s]"
      ]
     },
     "metadata": {},
     "output_type": "display_data"
    },
    {
     "name": "stdout",
     "output_type": "stream",
     "text": [
      "Folder 663: Title: \n",
      "Current Count:  563\r"
     ]
    },
    {
     "data": {
      "application/vnd.jupyter.widget-view+json": {
       "model_id": "1bd874da74194537a8765a1e1eb58fa3",
       "version_major": 2,
       "version_minor": 0
      },
      "text/plain": [
       "  0%|          | 0/1 [00:00<?, ?it/s]"
      ]
     },
     "metadata": {},
     "output_type": "display_data"
    },
    {
     "name": "stdout",
     "output_type": "stream",
     "text": [
      "Folder 664: Title: Safe and Efficient Traffic Obstacle Detection using Fine-tuned Modified Faster R-CNN\n",
      "Current Count:  564\r"
     ]
    },
    {
     "data": {
      "application/vnd.jupyter.widget-view+json": {
       "model_id": "927fea2fa773494eb8ef357d52dc8127",
       "version_major": 2,
       "version_minor": 0
      },
      "text/plain": [
       "  0%|          | 0/1 [00:00<?, ?it/s]"
      ]
     },
     "metadata": {},
     "output_type": "display_data"
    },
    {
     "name": "stdout",
     "output_type": "stream",
     "text": [
      "Folder 665: Title: Artificial Intelligence: Is the Future of the Heath Care Industry?\n",
      "Folder 666: Title: SecuringAuthenticationSystems:ARobustApproachtoFakeFaceDetectionthroughHierarchicalAttentionMemoryNetworks\n",
      "Folder 667: Title: OptimizingUrbanMobility:AnIntelligentFrameworkforTrafficControlandManagement\n",
      "Folder 668: Title: DetectionofEfficientLandslideInventoryMappinginWesternGhatsregionsofKarnataka,India.\n",
      "Current Count:  568\r"
     ]
    },
    {
     "data": {
      "application/vnd.jupyter.widget-view+json": {
       "model_id": "288292996eef4805a596798349015c43",
       "version_major": 2,
       "version_minor": 0
      },
      "text/plain": [
       "  0%|          | 0/1 [00:00<?, ?it/s]"
      ]
     },
     "metadata": {},
     "output_type": "display_data"
    },
    {
     "name": "stdout",
     "output_type": "stream",
     "text": [
      "Folder 669: Title: Digital Coaching for Fuzzy Real Options Analysis: Corporate Acquisitions under Geopolitical Risk\n",
      "Folder 67: Title: Abstract—The dynamic and data-driven environment we live in today makes network administration an essential component of contemporary information technology. Since networks are required to scale and adapt in real-time to meet the many and constantly changing demands of applications and services, the old approaches to network management are no longer sufficient. In order to tackle these obstacles, this research presents a novel method of network management that combines a Conflict Detection system in Software-Defined Networks (SDN) with the ideas of Intent-Based Networking (IBN). Rather than specifying individual device-level settings, the Intent-Based Networking paradigm focuses on expressing high-level network policies and intentions, giving network administrators control over how the network behaves. By abstracting away the intricacy of network configurations, it makes provisioning, optimization, and troubleshooting automatically possible. The\n",
      "Folder 670: Title: Design of an Auto Evaluation Model for Subjective Answers using Natural Language Processing and Machine Learning Techniques\n",
      "Folder 671: Title: Comparison of Classification Techniques to Detect Epi-leptic Seizure between Black-box & Non-black box classi-fier\n",
      "Folder 672: Title: AnalysisofUNet-basedSemanticSegmentationModels\n",
      "Folder 673: Title: BlockchainTechnology-DrivenSmartContractsforExecutingPersonalWills\n",
      "Current Count:  574\r"
     ]
    },
    {
     "data": {
      "application/vnd.jupyter.widget-view+json": {
       "model_id": "df97894061fa4a288c2374a735719013",
       "version_major": 2,
       "version_minor": 0
      },
      "text/plain": [
       "  0%|          | 0/1 [00:00<?, ?it/s]"
      ]
     },
     "metadata": {},
     "output_type": "display_data"
    },
    {
     "name": "stdout",
     "output_type": "stream",
     "text": [
      "Folder 674: Title: 1\n",
      "Folder 68: Title: 5\n",
      "Current Count:  576\r"
     ]
    },
    {
     "data": {
      "application/vnd.jupyter.widget-view+json": {
       "model_id": "d7579d064d0f4a9288aecb9e0f1041ba",
       "version_major": 2,
       "version_minor": 0
      },
      "text/plain": [
       "  0%|          | 0/1 [00:00<?, ?it/s]"
      ]
     },
     "metadata": {},
     "output_type": "display_data"
    },
    {
     "name": "stdout",
     "output_type": "stream",
     "text": [
      "Folder 69: Title: Mobile App Testing Using APPIUM\n",
      "Folder 70: Title: EnhancingStudentPlacementwithCross-PlatformApplication\n",
      "Current Count:  578\r"
     ]
    },
    {
     "data": {
      "application/vnd.jupyter.widget-view+json": {
       "model_id": "59936268a0d046dd806d4e6f3dacdf15",
       "version_major": 2,
       "version_minor": 0
      },
      "text/plain": [
       "  0%|          | 0/1 [00:00<?, ?it/s]"
      ]
     },
     "metadata": {},
     "output_type": "display_data"
    },
    {
     "name": "stdout",
     "output_type": "stream",
     "text": [
      "Folder 72: Title: Twitter Sentiment Analysis using Machine Learning Algorithms: A Survey\n",
      "Folder 73: Title: A Real-Time Object Detection for AI-based Exam Proctoring Systems Using YOLOv5\n",
      "Folder 74: Title: A Literature Survey on Decentralized Voting System\n",
      "Folder 75: Title: AI-PoweredCyberSentinel:AdvancedPhishingWebsiteDetectionforEnhancedOnlineSecurity\n",
      "Folder 76: Title: Navigating Complex Texts with Semantic Extraction and Condensing Legal Document Summarization\n",
      "Current Count:  583\r"
     ]
    },
    {
     "data": {
      "application/vnd.jupyter.widget-view+json": {
       "model_id": "444804fca20b485eb18c5debd03b675e",
       "version_major": 2,
       "version_minor": 0
      },
      "text/plain": [
       "  0%|          | 0/1 [00:00<?, ?it/s]"
      ]
     },
     "metadata": {},
     "output_type": "display_data"
    },
    {
     "name": "stdout",
     "output_type": "stream",
     "text": [
      "Folder 77: Title: REAL TIME IMAGE PROCESSING ON EMOTION RECOGNITION\n",
      "Folder 78: Title: Review On YouTube Spam Detection In Comment Section\n",
      "Folder 8: Title: TeluguCottonCropAdvisory:ADialogflow-PoweredChatbot\n",
      "Folder 80: Title: Leveraging Transfer Learning to Enhance Deep           Learning-Based IDS Performance\n",
      "Folder 81: Title: Enhancing Healthcare: Bridging Gaps Through Interactive Doctor-Patient Communication Websites\n",
      "Folder 82: Title: OpenAI's GPT-3/ChatGPT: Suggests & Corrects\n",
      "Folder 84: Title: Enhancing IoT Anomaly Detection with DBSCAN - A Data-Driven Approach\n",
      "Current Count:  590\r"
     ]
    },
    {
     "data": {
      "application/vnd.jupyter.widget-view+json": {
       "model_id": "8ed4598ee9e346c8b51d7509f71fc08a",
       "version_major": 2,
       "version_minor": 0
      },
      "text/plain": [
       "  0%|          | 0/1 [00:00<?, ?it/s]"
      ]
     },
     "metadata": {},
     "output_type": "display_data"
    },
    {
     "name": "stdout",
     "output_type": "stream",
     "text": [
      "Folder 85: Title: Semantic Analysis for Healthcare Diagnosis\n",
      "Folder 86: Title: ImaginAI\n",
      "Current Count:  592\r"
     ]
    },
    {
     "data": {
      "application/vnd.jupyter.widget-view+json": {
       "model_id": "229e0a1eaa424d8197f1c118c6cf68a5",
       "version_major": 2,
       "version_minor": 0
      },
      "text/plain": [
       "  0%|          | 0/1 [00:00<?, ?it/s]"
      ]
     },
     "metadata": {},
     "output_type": "display_data"
    },
    {
     "name": "stdout",
     "output_type": "stream",
     "text": [
      "Folder 87: Title: CPU Utilization in Cloud Computing Forecasted Using ML and DL Algorithms\n",
      "Folder 88: Title: Ingredient Based Food Recommendation System Using Deep Learning\n",
      "Current Count:  594\r"
     ]
    },
    {
     "data": {
      "application/vnd.jupyter.widget-view+json": {
       "model_id": "e4535e652d3f4efbba211580912f3b7e",
       "version_major": 2,
       "version_minor": 0
      },
      "text/plain": [
       "  0%|          | 0/1 [00:00<?, ?it/s]"
      ]
     },
     "metadata": {},
     "output_type": "display_data"
    },
    {
     "name": "stdout",
     "output_type": "stream",
     "text": [
      "Folder 89: Title: \n",
      "Folder 9: Title: 15\n",
      "Folder 90: Title: 6\n",
      "Folder 91: Title: 1\n",
      "Folder 92: Title: AResearchPaperonAI-BasedDiseaseDiagnosisfromMedicalImages\n",
      "Folder 93: Title: AResearchPaperonAI-BasedDiseaseDiagnosisfromMedicalImages\n",
      "Folder 94: Title: \"TransformativeHealthMonitoring:AComprehensiveSurveyontheIntegrationofFitnessInsightsinanEmergencyHealthReportingApp\n",
      "Current Count:  601\r"
     ]
    },
    {
     "data": {
      "application/vnd.jupyter.widget-view+json": {
       "model_id": "632663c07e944246a98360a21c3c51e3",
       "version_major": 2,
       "version_minor": 0
      },
      "text/plain": [
       "  0%|          | 0/1 [00:00<?, ?it/s]"
      ]
     },
     "metadata": {},
     "output_type": "display_data"
    },
    {
     "name": "stdout",
     "output_type": "stream",
     "text": [
      "Folder 98: Title: Prof. Deepti Gupta\n",
      "Current Count:  602\r"
     ]
    },
    {
     "data": {
      "application/vnd.jupyter.widget-view+json": {
       "model_id": "e5c6c0aa443a4590a56859e7e79a64c2",
       "version_major": 2,
       "version_minor": 0
      },
      "text/plain": [
       "  0%|          | 0/1 [00:00<?, ?it/s]"
      ]
     },
     "metadata": {},
     "output_type": "display_data"
    },
    {
     "name": "stdout",
     "output_type": "stream",
     "text": [
      "Folder 99: Title: F.Y.B. Tech Students’ Engineering Design and Innovation (EDAI2) Project Paper, SEM 2 A.Y. 2022-23  Vishwakarma Institute of Technology, Pune, INDIA. Abstract —  With the rapid growth of electric vehicles (EVs) worldwide, the need for an efficient and user-friendly platform for booking charging stations has become crucial. This research paper presents the design and development of an electric vehicle charging station booking website to address the challenges faced by EV owners in locating, reserving, and utilizing charging infrastructure effectively. The study\n",
      "Current Count:  603\r"
     ]
    }
   ],
   "source": [
    "import os\n",
    "import tempfile\n",
    "from PyPDF2 import PdfWriter, PdfReader\n",
    "from io import BytesIO\n",
    "from reportlab.lib.pagesizes import letter\n",
    "from reportlab.pdfgen import canvas\n",
    "from docx import Document\n",
    "import pdfplumber\n",
    "from docx2pdf import convert as docx2pdf_convert\n",
    "\n",
    "count = 0\n",
    "\n",
    "\n",
    "def extract_title_from_pdf(pdf_path):\n",
    "    title = \"\"\n",
    "    global count\n",
    "    count += 1\n",
    "   \n",
    "    with pdfplumber.open(pdf_path) as pdf:\n",
    "        first_page = pdf.pages[0]\n",
    "        first_font_size = None\n",
    "        for obj in first_page.chars:\n",
    "            if not first_font_size:\n",
    "                first_font_size = obj['size']\n",
    "            if obj['size'] == first_font_size:\n",
    "                title += obj['text']\n",
    "            else:\n",
    "                break\n",
    "    return title.strip()\n",
    "\n",
    "def extract_title_from_docx(docx_path):\n",
    "    try:\n",
    "        # Convert docx to pdf\n",
    "        pdf_path = docx_path[:-4] + \".pdf\"\n",
    "        docx2pdf_convert(docx_path, pdf_path)\n",
    "        # Extract title from the converted pdf\n",
    "        title = extract_title_from_pdf(pdf_path)\n",
    "        # Delete the original docx file\n",
    "        os.remove(docx_path)\n",
    "        return title\n",
    "    except Exception as e:\n",
    "        print(f\"Error extracting title from {docx_path}: {e}\")\n",
    "        return \"Error: Title extraction failed\"\n",
    "\n",
    "\n",
    "def extract_title(file_path):\n",
    "    file_extension = os.path.splitext(file_path)[1].lower()\n",
    "    if file_extension == '.pdf':\n",
    "        return extract_title_from_pdf(file_path)\n",
    "    elif file_extension == '.docx':\n",
    "        return extract_title_from_docx(file_path)\n",
    "    else:\n",
    "        raise ValueError(\"Unsupported file format\")\n",
    "\n",
    "\n",
    "def main():\n",
    "    submissions_folder = 'SSubmissions674'  # Path to the submissions674 folder\n",
    "    for folder_name in os.listdir(submissions_folder):\n",
    "        if folder_name.startswith('.'):\n",
    "            continue  # Skip directories starting with '.'\n",
    "        folder_path = os.path.join(submissions_folder, folder_name)\n",
    "        if os.path.isdir(folder_path):\n",
    "            submission_folder = os.path.join(folder_path, 'Submission')\n",
    "            if os.path.exists(submission_folder):\n",
    "                input_file = None\n",
    "                for file in os.listdir(submission_folder):\n",
    "                    if file.endswith('.pdf') or file.endswith('.docx'):\n",
    "                        input_file = os.path.join(submission_folder, file)\n",
    "                        break\n",
    "                if input_file:\n",
    "                    title = extract_title(input_file)\n",
    "                    print(f\"Folder {folder_name}: Title: {title}\")\n",
    "                    print(\"Current Count: \", count, end = \"\\r\")\n",
    "                else:\n",
    "                    print(f\"Folder {folder_name}: No input file found in Submission folder\")\n",
    "            else:\n",
    "                print(f\"Folder {folder_name}: Submission folder not found\")\n",
    "\n",
    "\n",
    "if __name__ == \"__main__\":\n",
    "    main()\n"
   ]
  },
  {
   "cell_type": "code",
   "execution_count": 47,
   "id": "db501bf0",
   "metadata": {},
   "outputs": [
    {
     "name": "stdout",
     "output_type": "stream",
     "text": [
      "Folder 215: No input file found in Submission folder\n",
      "Folder 216: No input file found in Submission folder\n",
      "Folder 217: No input file found in Submission folder\n",
      "Folder 242: No input file found in Submission folder\n",
      "Folder 257: No input file found in Submission folder\n",
      "Folder 266: No input file found in Submission folder\n",
      "Folder 270: No input file found in Submission folder\n",
      "Folder 283: No input file found in Submission folder\n",
      "Folder 314: No input file found in Submission folder\n",
      "Folder 317: No input file found in Submission folder\n",
      "Folder 320: No input file found in Submission folder\n",
      "Folder 365: No input file found in Submission folder\n",
      "Folder 381: No input file found in Submission folder\n",
      "Folder 430: No input file found in Submission folder\n",
      "Folder 469: No input file found in Submission folder\n",
      "Folder 473: No input file found in Submission folder\n",
      "Folder 532: No input file found in Submission folder\n",
      "Folder 561: No input file found in Submission folder\n",
      "Folder 60: No input file found in Submission folder\n",
      "Folder 617: No input file found in Submission folder\n",
      "Current Count:  603\r"
     ]
    },
    {
     "ename": "UnicodeEncodeError",
     "evalue": "'charmap' codec can't encode character '\\uf020' in position 3: character maps to <undefined>",
     "output_type": "error",
     "traceback": [
      "\u001b[1;31m---------------------------------------------------------------------------\u001b[0m",
      "\u001b[1;31mUnicodeEncodeError\u001b[0m                        Traceback (most recent call last)",
      "\u001b[1;32m~\\AppData\\Local\\Temp\\ipykernel_17260\\277262315.py\u001b[0m in \u001b[0;36m<cell line: 80>\u001b[1;34m()\u001b[0m\n\u001b[0;32m     79\u001b[0m \u001b[1;33m\u001b[0m\u001b[0m\n\u001b[0;32m     80\u001b[0m \u001b[1;32mif\u001b[0m \u001b[0m__name__\u001b[0m \u001b[1;33m==\u001b[0m \u001b[1;34m\"__main__\"\u001b[0m\u001b[1;33m:\u001b[0m\u001b[1;33m\u001b[0m\u001b[1;33m\u001b[0m\u001b[0m\n\u001b[1;32m---> 81\u001b[1;33m     \u001b[0mmain\u001b[0m\u001b[1;33m(\u001b[0m\u001b[1;33m)\u001b[0m\u001b[1;33m\u001b[0m\u001b[1;33m\u001b[0m\u001b[0m\n\u001b[0m",
      "\u001b[1;32m~\\AppData\\Local\\Temp\\ipykernel_17260\\277262315.py\u001b[0m in \u001b[0;36mmain\u001b[1;34m()\u001b[0m\n\u001b[0;32m     75\u001b[0m         \u001b[0mwriter\u001b[0m \u001b[1;33m=\u001b[0m \u001b[0mcsv\u001b[0m\u001b[1;33m.\u001b[0m\u001b[0mwriter\u001b[0m\u001b[1;33m(\u001b[0m\u001b[0mcsvfile\u001b[0m\u001b[1;33m)\u001b[0m\u001b[1;33m\u001b[0m\u001b[1;33m\u001b[0m\u001b[0m\n\u001b[0;32m     76\u001b[0m         \u001b[0mwriter\u001b[0m\u001b[1;33m.\u001b[0m\u001b[0mwriterow\u001b[0m\u001b[1;33m(\u001b[0m\u001b[1;33m[\u001b[0m\u001b[1;34m'Folder Number'\u001b[0m\u001b[1;33m,\u001b[0m \u001b[1;34m'Title'\u001b[0m\u001b[1;33m]\u001b[0m\u001b[1;33m)\u001b[0m\u001b[1;33m\u001b[0m\u001b[1;33m\u001b[0m\u001b[0m\n\u001b[1;32m---> 77\u001b[1;33m         \u001b[0mwriter\u001b[0m\u001b[1;33m.\u001b[0m\u001b[0mwriterows\u001b[0m\u001b[1;33m(\u001b[0m\u001b[0mdata\u001b[0m\u001b[1;33m)\u001b[0m\u001b[1;33m\u001b[0m\u001b[1;33m\u001b[0m\u001b[0m\n\u001b[0m\u001b[0;32m     78\u001b[0m \u001b[1;33m\u001b[0m\u001b[0m\n\u001b[0;32m     79\u001b[0m \u001b[1;33m\u001b[0m\u001b[0m\n",
      "\u001b[1;32m~\\AppData\\Local\\Programs\\ArcGIS\\Pro\\bin\\Python\\envs\\arcgispro-py3\\lib\\encodings\\cp1252.py\u001b[0m in \u001b[0;36mencode\u001b[1;34m(self, input, final)\u001b[0m\n\u001b[0;32m     17\u001b[0m \u001b[1;32mclass\u001b[0m \u001b[0mIncrementalEncoder\u001b[0m\u001b[1;33m(\u001b[0m\u001b[0mcodecs\u001b[0m\u001b[1;33m.\u001b[0m\u001b[0mIncrementalEncoder\u001b[0m\u001b[1;33m)\u001b[0m\u001b[1;33m:\u001b[0m\u001b[1;33m\u001b[0m\u001b[1;33m\u001b[0m\u001b[0m\n\u001b[0;32m     18\u001b[0m     \u001b[1;32mdef\u001b[0m \u001b[0mencode\u001b[0m\u001b[1;33m(\u001b[0m\u001b[0mself\u001b[0m\u001b[1;33m,\u001b[0m \u001b[0minput\u001b[0m\u001b[1;33m,\u001b[0m \u001b[0mfinal\u001b[0m\u001b[1;33m=\u001b[0m\u001b[1;32mFalse\u001b[0m\u001b[1;33m)\u001b[0m\u001b[1;33m:\u001b[0m\u001b[1;33m\u001b[0m\u001b[1;33m\u001b[0m\u001b[0m\n\u001b[1;32m---> 19\u001b[1;33m         \u001b[1;32mreturn\u001b[0m \u001b[0mcodecs\u001b[0m\u001b[1;33m.\u001b[0m\u001b[0mcharmap_encode\u001b[0m\u001b[1;33m(\u001b[0m\u001b[0minput\u001b[0m\u001b[1;33m,\u001b[0m\u001b[0mself\u001b[0m\u001b[1;33m.\u001b[0m\u001b[0merrors\u001b[0m\u001b[1;33m,\u001b[0m\u001b[0mencoding_table\u001b[0m\u001b[1;33m)\u001b[0m\u001b[1;33m[\u001b[0m\u001b[1;36m0\u001b[0m\u001b[1;33m]\u001b[0m\u001b[1;33m\u001b[0m\u001b[1;33m\u001b[0m\u001b[0m\n\u001b[0m\u001b[0;32m     20\u001b[0m \u001b[1;33m\u001b[0m\u001b[0m\n\u001b[0;32m     21\u001b[0m \u001b[1;32mclass\u001b[0m \u001b[0mIncrementalDecoder\u001b[0m\u001b[1;33m(\u001b[0m\u001b[0mcodecs\u001b[0m\u001b[1;33m.\u001b[0m\u001b[0mIncrementalDecoder\u001b[0m\u001b[1;33m)\u001b[0m\u001b[1;33m:\u001b[0m\u001b[1;33m\u001b[0m\u001b[1;33m\u001b[0m\u001b[0m\n",
      "\u001b[1;31mUnicodeEncodeError\u001b[0m: 'charmap' codec can't encode character '\\uf020' in position 3: character maps to <undefined>"
     ]
    }
   ],
   "source": [
    "import os\n",
    "import csv\n",
    "import pdfplumber\n",
    "from docx2pdf import convert as docx2pdf_convert\n",
    "\n",
    "count = 0\n",
    "\n",
    "\n",
    "def extract_title_from_pdf(pdf_path):\n",
    "    title = \"\"\n",
    "    global count\n",
    "    count += 1\n",
    "   \n",
    "    with pdfplumber.open(pdf_path) as pdf:\n",
    "        first_page = pdf.pages[0]\n",
    "        first_font_size = None\n",
    "        for obj in first_page.chars:\n",
    "            if not first_font_size:\n",
    "                first_font_size = obj['size']\n",
    "            if obj['size'] == first_font_size:\n",
    "                title += obj['text']\n",
    "            else:\n",
    "                break\n",
    "    return title.strip()\n",
    "\n",
    "def extract_title_from_docx(docx_path):\n",
    "    try:\n",
    "        # Convert docx to pdf\n",
    "        pdf_path = docx_path[:-4] + \".pdf\"\n",
    "        docx2pdf_convert(docx_path, pdf_path)\n",
    "        # Extract title from the converted pdf\n",
    "        title = extract_title_from_pdf(pdf_path)\n",
    "        # Delete the original docx file\n",
    "        os.remove(docx_path)\n",
    "        return title\n",
    "    except Exception as e:\n",
    "        print(f\"Error extracting title from {docx_path}: {e}\")\n",
    "        return \"Error: Title extraction failed\"\n",
    "\n",
    "\n",
    "def extract_title(file_path):\n",
    "    file_extension = os.path.splitext(file_path)[1].lower()\n",
    "    if file_extension == '.pdf':\n",
    "        return extract_title_from_pdf(file_path)\n",
    "    elif file_extension == '.docx':\n",
    "        return extract_title_from_docx(file_path)\n",
    "    else:\n",
    "        raise ValueError(\"Unsupported file format\")\n",
    "\n",
    "\n",
    "def main():\n",
    "    data = []\n",
    "    submissions_folder = 'SSubmissions674'  # Path to the submissions674 folder\n",
    "    for folder_name in os.listdir(submissions_folder):\n",
    "        if folder_name.startswith('.'):\n",
    "            continue  # Skip directories starting with '.'\n",
    "        folder_path = os.path.join(submissions_folder, folder_name)\n",
    "        if os.path.isdir(folder_path):\n",
    "            submission_folder = os.path.join(folder_path, 'Submission')\n",
    "            if os.path.exists(submission_folder):\n",
    "                input_file = None\n",
    "                for file in os.listdir(submission_folder):\n",
    "                    if file.endswith('.pdf') or file.endswith('.docx'):\n",
    "                        input_file = os.path.join(submission_folder, file)\n",
    "                        break\n",
    "                if input_file:\n",
    "                    title = extract_title(input_file)\n",
    "                    data.append((folder_name, title))\n",
    "                    print(\"Current Count: \", count, end = \"\\r\")\n",
    "                else:\n",
    "                    print(f\"Folder {folder_name}: No input file found in Submission folder\")\n",
    "            else:\n",
    "                print(f\"Folder {folder_name}: Submission folder not found\")\n",
    "    with open('titles2.csv', 'w', newline='') as csvfile:\n",
    "        writer = csv.writer(csvfile)\n",
    "        writer.writerow(['Folder Number', 'Title'])\n",
    "        writer.writerows(data)\n",
    "\n",
    "\n",
    "if __name__ == \"__main__\":\n",
    "    main()\n",
    "    \n"
   ]
  },
  {
   "cell_type": "code",
   "execution_count": 5,
   "id": "f49f41fb",
   "metadata": {},
   "outputs": [
    {
     "name": "stdout",
     "output_type": "stream",
     "text": [
      "Current Count:  47\r"
     ]
    }
   ],
   "source": [
    "import os\n",
    "import csv\n",
    "import pdfplumber\n",
    "from docx2pdf import convert as docx2pdf_convert\n",
    "\n",
    "count = 0\n",
    "\n",
    "\n",
    "def extract_title_from_pdf(pdf_path):\n",
    "    title = \"\"\n",
    "    global count\n",
    "    count += 1\n",
    "   \n",
    "    with pdfplumber.open(pdf_path) as pdf:\n",
    "        first_page = pdf.pages[0]\n",
    "        first_font_size = None\n",
    "        for obj in first_page.chars:\n",
    "            if not first_font_size:\n",
    "                first_font_size = obj['size']\n",
    "            if obj['size'] == first_font_size:\n",
    "                title += obj['text']\n",
    "            else:\n",
    "                break\n",
    "    return title.strip()\n",
    "\n",
    "def extract_title_from_docx(docx_path):\n",
    "    try:\n",
    "        # Convert docx to pdf\n",
    "        pdf_path = docx_path[:-4] + \".pdf\"\n",
    "        docx2pdf_convert(docx_path, pdf_path)\n",
    "        # Extract title from the converted pdf\n",
    "        title = extract_title_from_pdf(pdf_path)\n",
    "        # Delete the original docx file\n",
    "        os.remove(docx_path)\n",
    "        return title\n",
    "    except Exception as e:\n",
    "        print(f\"Error extracting title from {docx_path}: {e}\")\n",
    "        return \"Error: Title extraction failed\"\n",
    "\n",
    "\n",
    "def extract_title(file_path):\n",
    "    file_extension = os.path.splitext(file_path)[1].lower()\n",
    "    if file_extension == '.pdf':\n",
    "        return extract_title_from_pdf(file_path)\n",
    "    elif file_extension == '.docx':\n",
    "        return extract_title_from_docx(file_path)\n",
    "    else:\n",
    "        raise ValueError(\"Unsupported file format\")\n",
    "\n",
    "\n",
    "def main():\n",
    "    data = []\n",
    "    submissions_folder = 'submissions674'  # Path to the submissions674 folder\n",
    "    for folder_name in os.listdir(submissions_folder):\n",
    "        if folder_name.startswith('.'):\n",
    "            continue  # Skip directories starting with '.'\n",
    "        folder_path = os.path.join(submissions_folder, folder_name)\n",
    "        if os.path.isdir(folder_path):\n",
    "            submission_folder = os.path.join(folder_path, 'Submission')\n",
    "            if os.path.exists(submission_folder):\n",
    "                input_file = None\n",
    "                for file in os.listdir(submission_folder):\n",
    "                    if file.endswith('.pdf') or file.endswith('.docx'):\n",
    "                        input_file = os.path.join(submission_folder, file)\n",
    "                        break\n",
    "                if input_file:\n",
    "                    title = extract_title(input_file)\n",
    "                    data.append((folder_name, title))\n",
    "                    print(\"Current Count: \", count, end = \"\\r\")\n",
    "                else:\n",
    "                    print(f\"Folder {folder_name}: No input file found in Submission folder\")\n",
    "            else:\n",
    "                print(f\"Folder {folder_name}: Submission folder not found\")\n",
    "    with open('titles2.csv', 'w', newline='', encoding='utf-8') as csvfile:\n",
    "        writer = csv.writer(csvfile)\n",
    "        writer.writerow(['Folder Number', 'Title'])\n",
    "        writer.writerows(data)\n",
    "\n",
    "\n",
    "if __name__ == \"__main__\":\n",
    "    main()\n",
    "    \n"
   ]
  },
  {
   "cell_type": "code",
   "execution_count": 10,
   "id": "21e1954f",
   "metadata": {},
   "outputs": [
    {
     "name": "stdout",
     "output_type": "stream",
     "text": [
      "Folder 215: No input file found in Submission folder\n",
      "Folder 216: No input file found in Submission folder\n",
      "Folder 217: No input file found in Submission folder\n",
      "Folder 242: No input file found in Submission folder\n",
      "Folder 257: No input file found in Submission folder\n",
      "Folder 266: No input file found in Submission folder\n",
      "Folder 270: No input file found in Submission folder\n",
      "Folder 283: No input file found in Submission folder\n",
      "Folder 314: No input file found in Submission folder\n",
      "Folder 317: No input file found in Submission folder\n",
      "Folder 320: No input file found in Submission folder\n",
      "Folder 365: No input file found in Submission folder\n",
      "Folder 381: No input file found in Submission folder\n",
      "Folder 430: No input file found in Submission folder\n",
      "Folder 469: No input file found in Submission folder\n",
      "Folder 473: No input file found in Submission folder\n",
      "Folder 532: No input file found in Submission folder\n",
      "Folder 561: No input file found in Submission folder\n",
      "Folder 60: No input file found in Submission folder\n",
      "Folder 617: No input file found in Submission folder\n",
      "Current Count:  603\r"
     ]
    }
   ],
   "source": [
    "import os\n",
    "import csv\n",
    "import pdfplumber\n",
    "from docx2pdf import convert as docx2pdf_convert\n",
    "\n",
    "count = 0\n",
    "\n",
    "\n",
    "def extract_title_from_pdf(pdf_path):\n",
    "    title = \"\"\n",
    "    global count\n",
    "    count += 1\n",
    "   \n",
    "    with pdfplumber.open(pdf_path) as pdf:\n",
    "        first_page = pdf.pages[0]\n",
    "        first_font_size = None\n",
    "        for obj in first_page.chars:\n",
    "            if not first_font_size:\n",
    "                first_font_size = obj['size']\n",
    "            if obj['size'] == first_font_size:\n",
    "                title += obj['text']\n",
    "            else:\n",
    "                break\n",
    "    return title.strip()\n",
    "\n",
    "def extract_title_from_docx(docx_path):\n",
    "    try:\n",
    "        # Convert docx to pdf\n",
    "        pdf_path = docx_path[:-4] + \".pdf\"\n",
    "        docx2pdf_convert(docx_path, pdf_path)\n",
    "        # Extract title from the converted pdf\n",
    "        title = extract_title_from_pdf(pdf_path)\n",
    "        # Delete the original docx file\n",
    "        os.remove(docx_path)\n",
    "        return title\n",
    "    except Exception as e:\n",
    "        print(f\"Error extracting title from {docx_path}: {e}\")\n",
    "        return \"Error: Title extraction failed\"\n",
    "\n",
    "\n",
    "def extract_title(file_path):\n",
    "    file_extension = os.path.splitext(file_path)[1].lower()\n",
    "    if file_extension == '.pdf':\n",
    "        return extract_title_from_pdf(file_path)\n",
    "    elif file_extension == '.docx':\n",
    "        return extract_title_from_docx(file_path)\n",
    "    else:\n",
    "        raise ValueError(\"Unsupported file format\")\n",
    "\n",
    "\n",
    "def main():\n",
    "    submissions_folder = 'SSubmissions674'  # Path to the submissions674 folder\n",
    "    \n",
    "    with open('titles2.csv', 'w', newline='', encoding='utf-8') as csvfile:\n",
    "        writer = csv.writer(csvfile)\n",
    "        writer.writerow(['Folder Number', 'Title'])\n",
    "        \n",
    "        for folder_name in os.listdir(submissions_folder):\n",
    "            if folder_name.startswith('.'):\n",
    "                continue  # Skip directories starting with '.'\n",
    "            folder_path = os.path.join(submissions_folder, folder_name)\n",
    "            if os.path.isdir(folder_path):\n",
    "                submission_folder = os.path.join(folder_path, 'Submission')\n",
    "                if os.path.exists(submission_folder):\n",
    "                    input_file = None\n",
    "                    for file in os.listdir(submission_folder):\n",
    "                        if file.endswith('.pdf') or file.endswith('.docx'):\n",
    "                            input_file = os.path.join(submission_folder, file)\n",
    "                            break\n",
    "                    if input_file:\n",
    "                        title = extract_title(input_file)\n",
    "                        writer.writerow([folder_name, title])\n",
    "                        print(\"Current Count: \", count, end=\"\\r\")\n",
    "                        #print(f\"Title extracted for folder {folder_name}\")\n",
    "                    else:\n",
    "                        print(f\"Folder {folder_name}: No input file found in Submission folder\")\n",
    "                else:\n",
    "                    print(f\"Folder {folder_name}: Submission folder not found\")\n",
    "\n",
    "\n",
    "\n",
    "if __name__ == \"__main__\":\n",
    "    main()\n",
    "    \n"
   ]
  },
  {
   "cell_type": "code",
   "execution_count": null,
   "id": "85710e8e",
   "metadata": {},
   "outputs": [],
   "source": []
  }
 ],
 "metadata": {
  "kernelspec": {
   "display_name": "Python 3 (ipykernel)",
   "language": "python",
   "name": "python3"
  },
  "language_info": {
   "codemirror_mode": {
    "name": "ipython",
    "version": 3
   },
   "file_extension": ".py",
   "mimetype": "text/x-python",
   "name": "python",
   "nbconvert_exporter": "python",
   "pygments_lexer": "ipython3",
   "version": "3.9.18"
  }
 },
 "nbformat": 4,
 "nbformat_minor": 5
}
